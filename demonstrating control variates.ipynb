{
 "cells": [
  {
   "cell_type": "code",
   "execution_count": 3,
   "metadata": {
    "collapsed": true
   },
   "outputs": [],
   "source": [
    "import dpp_nets.my_torch as my_torch\n",
    "import torch\n",
    "import numpy as np\n",
    "from dpp_nets.my_torch.controlvar import compute_alpha\n",
    "import matplotlib.pyplot as plt\n",
    "from dpp_nets.dpp.score_dpp import score_dpp\n",
    "from dpp_nets.dpp.sample_dpp import sample_dpp\n",
    "import dpp_nets.helper.plotting as plot\n",
    "from dpp_nets.my_torch.baseline import RegressorBaseline\n",
    "\n",
    "def set_seed(seed):\n",
    "    torch.manual_seed(seed)\n",
    "    np.random.seed(seed)\n",
    "\n",
    "def overwrite_weights(from_model, to_model):\n",
    "    from_dict = from_model.state_dict()\n",
    "    to_dict = to_model.state_dict()\n",
    "    \n",
    "    for k in to_dict.keys():\n",
    "        to_dict[k] = from_dict[k]\n",
    "    \n",
    "    to_model.load_state_dict(to_dict)\n",
    "    return to_model\n",
    "\n",
    "network_params = {'emb_in': 80, 'emb_h': 200, 'emb_out': 100,\n",
    "                  'pred_in': 40, 'pred_h': 100, 'pred_out': 1,\n",
    "                  'set_size': 40} \n",
    "\n",
    "dtype = torch.DoubleTensor\n",
    "\n",
    "train_iter_base = 200\n",
    "batch_size = 10\n",
    "train_iter = batch_size * train_iter_base\n",
    "sample_iter = 1\n",
    "alpha_iter = 0\n",
    "lr = 1e-5\n",
    "weight_decay = 0\n",
    "reg_exp = 1\n",
    "reg_var = 0\n",
    "rajeesh=True\n",
    "el_mean=False\n",
    "overwrite=0\n",
    "alll=True"
   ]
  },
  {
   "cell_type": "code",
   "execution_count": 4,
   "metadata": {},
   "outputs": [
    {
     "name": "stdout",
     "output_type": "stream",
     "text": [
      "Number of different clusters was:  12\n",
      "Number of clusters predicted was:  -0.7731454863464942\n",
      "Resultant loss was:  163.1532456153738\n",
      "Retrieved subset was of size:  23\n",
      "Number of clusters detected by DPP was:  12\n",
      "Number of different clusters was:  14\n",
      "Number of clusters predicted was:  28.29394288775461\n",
      "Resultant loss was:  204.3168032783906\n"
     ]
    }
   ],
   "source": [
    "set_seed(33)\n",
    "DPP = my_torch.DPPRegressor(network_params, dtype)\n",
    "baseline = RegressorBaseline(network_params, dtype)\n",
    "baseline = overwrite_weights(DPP, baseline)"
   ]
  },
  {
   "cell_type": "code",
   "execution_count": 124,
   "metadata": {},
   "outputs": [],
   "source": [
    "# try to train the DPP network\n",
    "\n",
    "train_iter_base = 200\n",
    "batch_size = 100\n",
    "train_iter = batch_size * train_iter_base\n",
    "sample_iter = 5\n",
    "alpha_iter = 5\n",
    "lr = 5e-4\n",
    "weight_decay = 0\n",
    "reg_exp = 0\n",
    "reg_var = 0\n",
    "rajeesh=False\n",
    "el_mean=False\n",
    "overwrite=0\n",
    "alll=True"
   ]
  },
  {
   "cell_type": "code",
   "execution_count": 128,
   "metadata": {},
   "outputs": [
    {
     "name": "stdout",
     "output_type": "stream",
     "text": [
      "50 1.0\n",
      "100 9.0\n",
      "150 4.0\n",
      "200 81.0\n",
      "250 9.0\n",
      "300 4.0\n",
      "350 1.0\n",
      "400 4.0\n",
      "450 1.0\n",
      "500 1.0\n",
      "550 25.0\n",
      "600 25.0\n",
      "650 100.0\n",
      "700 25.0\n",
      "750 1.0\n",
      "800 4.0\n",
      "850 25.0\n",
      "900 1.0\n",
      "950 4.0\n",
      "1000 81.0\n",
      "1050 16.0\n",
      "1100 25.0\n",
      "1150 1.0\n",
      "1200 100.0\n",
      "1250 1.0\n",
      "1300 16.0\n",
      "1350 4.0\n",
      "1400 16.0\n",
      "1450 36.0\n",
      "1500 4.0\n",
      "1550 4.0\n",
      "1600 25.0\n",
      "1650 4.0\n",
      "1700 81.0\n",
      "1750 4.0\n",
      "1800 100.0\n",
      "1850 36.0\n",
      "1900 9.0\n",
      "1950 36.0\n",
      "2000 25.0\n",
      "2050 49.0\n",
      "2100 49.0\n",
      "2150 16.0\n",
      "2200 9.0\n",
      "2250 49.0\n",
      "2300 25.0\n",
      "2350 4.0\n",
      "2400 36.0\n",
      "2450 1.0\n",
      "2500 1.0\n",
      "2550 16.0\n",
      "2600 1.0\n",
      "2650 16.0\n",
      "2700 36.0\n",
      "2750 4.0\n",
      "2800 9.0\n",
      "2850 4.0\n",
      "2900 16.0\n",
      "2950 9.0\n",
      "3000 16.0\n",
      "3050 9.0\n",
      "3100 9.0\n",
      "3150 36.0\n",
      "3200 4.0\n",
      "3250 64.0\n",
      "3300 9.0\n",
      "3350 25.0\n",
      "3400 25.0\n",
      "3450 9.0\n",
      "3500 16.0\n",
      "3550 49.0\n",
      "3600 4.0\n",
      "3650 16.0\n",
      "3700 25.0\n",
      "3750 1.0\n",
      "3800 9.0\n",
      "3850 4.0\n",
      "3900 16.0\n",
      "3950 49.0\n",
      "4000 81.0\n",
      "4050 36.0\n",
      "4100 4.0\n",
      "4150 4.0\n",
      "4200 4.0\n",
      "4250 16.0\n",
      "4300 1.0\n",
      "4350 4.0\n",
      "4400 1.0\n",
      "4450 1.0\n",
      "4500 4.0\n",
      "4550 4.0\n",
      "4600 1.0\n",
      "4650 16.0\n",
      "4700 4.0\n",
      "4750 9.0\n",
      "4800 1.0\n",
      "4850 64.0\n",
      "4900 4.0\n",
      "4950 9.0\n",
      "5000 36.0\n",
      "5050 49.0\n",
      "5100 25.0\n",
      "5150 36.0\n",
      "5200 81.0\n",
      "5250 49.0\n",
      "5300 1.0\n",
      "5350 16.0\n",
      "5400 25.0\n",
      "5450 49.0\n",
      "5500 4.0\n",
      "5550 36.0\n",
      "5600 4.0\n",
      "5650 1.0\n",
      "5700 4.0\n",
      "5750 4.0\n",
      "5800 1.0\n",
      "5850 9.0\n",
      "5900 1.0\n",
      "5950 9.0\n",
      "6000 1.0\n",
      "6050 16.0\n",
      "6100 4.0\n",
      "6150 25.0\n",
      "6200 9.0\n",
      "6250 36.0\n",
      "6300 4.0\n",
      "6350 1.0\n",
      "6400 64.0\n",
      "6450 1.0\n",
      "6500 1.0\n",
      "6550 16.0\n",
      "6600 1.0\n",
      "6650 49.0\n",
      "6700 16.0\n",
      "6750 64.0\n",
      "6800 36.0\n",
      "6850 49.0\n",
      "6900 4.0\n",
      "6950 4.0\n",
      "7000 49.0\n",
      "7050 4.0\n",
      "7100 9.0\n",
      "7150 49.0\n",
      "7200 4.0\n",
      "7250 1.0\n",
      "7300 64.0\n",
      "7350 4.0\n",
      "7400 49.0\n",
      "7450 9.0\n",
      "7500 9.0\n",
      "7550 49.0\n",
      "7600 64.0\n",
      "7650 25.0\n",
      "7700 36.0\n",
      "7750 16.0\n",
      "7800 16.0\n",
      "7850 25.0\n",
      "7900 1.0\n",
      "7950 1.0\n",
      "8000 4.0\n",
      "8050 9.0\n",
      "8100 36.0\n",
      "8150 1.0\n",
      "8200 9.0\n",
      "8250 9.0\n",
      "8300 25.0\n",
      "8350 4.0\n",
      "8400 16.0\n",
      "8450 25.0\n",
      "8500 25.0\n",
      "8550 100.0\n",
      "8600 9.0\n",
      "8650 36.0\n",
      "8700 36.0\n",
      "8750 9.0\n",
      "8800 16.0\n",
      "8850 1.0\n",
      "8900 16.0\n",
      "8950 9.0\n",
      "9000 1.0\n",
      "9050 9.0\n",
      "9100 100.0\n",
      "9150 4.0\n",
      "9200 16.0\n",
      "9250 4.0\n",
      "9300 81.0\n",
      "9350 4.0\n",
      "9400 196.0\n",
      "9450 4.0\n",
      "9500 4.0\n",
      "9550 16.0\n",
      "9600 81.0\n",
      "9650 9.0\n",
      "9700 4.0\n",
      "9750 4.0\n",
      "9800 36.0\n",
      "9850 64.0\n",
      "9900 4.0\n",
      "9950 9.0\n",
      "10000 4.0\n",
      "10050 49.0\n",
      "10100 16.0\n",
      "10150 16.0\n",
      "10200 9.0\n",
      "10250 4.0\n",
      "10300 16.0\n",
      "10350 4.0\n",
      "10400 25.0\n",
      "10450 4.0\n",
      "10500 16.0\n",
      "10550 4.0\n",
      "10600 9.0\n",
      "10650 9.0\n",
      "10700 1.0\n",
      "10750 1.0\n",
      "10800 16.0\n",
      "10850 9.0\n",
      "10900 4.0\n",
      "10950 9.0\n",
      "11000 9.0\n",
      "11050 16.0\n",
      "11100 16.0\n",
      "11150 9.0\n",
      "11200 4.0\n",
      "11250 4.0\n",
      "11300 1.0\n",
      "11350 36.0\n",
      "11400 16.0\n",
      "11450 1.0\n",
      "11500 4.0\n",
      "11550 16.0\n",
      "11600 9.0\n",
      "11650 25.0\n",
      "11700 25.0\n",
      "11750 64.0\n",
      "11800 4.0\n",
      "11850 16.0\n",
      "11900 4.0\n",
      "11950 1.0\n",
      "12000 9.0\n",
      "12050 4.0\n",
      "12100 4.0\n",
      "12150 25.0\n",
      "12200 9.0\n",
      "12250 81.0\n",
      "12300 25.0\n",
      "12350 9.0\n",
      "12400 9.0\n",
      "12450 9.0\n",
      "12500 1.0\n",
      "12550 49.0\n",
      "12600 4.0\n",
      "12650 25.0\n",
      "12700 1.0\n",
      "12750 16.0\n",
      "12800 100.0\n",
      "12850 9.0\n",
      "12900 1.0\n",
      "12950 1.0\n",
      "13000 9.0\n",
      "13050 25.0\n",
      "13100 16.0\n",
      "13150 25.0\n",
      "13200 4.0\n",
      "13250 100.0\n",
      "13300 49.0\n",
      "13350 49.0\n",
      "13400 1.0\n",
      "13450 16.0\n",
      "13500 4.0\n",
      "13550 1.0\n",
      "13600 16.0\n",
      "13650 9.0\n",
      "13700 25.0\n",
      "13750 25.0\n",
      "13800 16.0\n",
      "13850 16.0\n",
      "13900 9.0\n",
      "13950 64.0\n",
      "14000 25.0\n",
      "14050 4.0\n",
      "14100 25.0\n",
      "14150 16.0\n",
      "14200 9.0\n",
      "14250 4.0\n",
      "14300 49.0\n",
      "14350 16.0\n",
      "14400 4.0\n",
      "14450 1.0\n",
      "14500 9.0\n",
      "14550 4.0\n",
      "14600 36.0\n",
      "14650 25.0\n",
      "14700 4.0\n",
      "14750 25.0\n",
      "14800 16.0\n",
      "14850 9.0\n",
      "14900 25.0\n",
      "14950 9.0\n",
      "15000 121.0\n",
      "15050 1.0\n",
      "15100 100.0\n",
      "15150 81.0\n",
      "15200 1.0\n",
      "15250 4.0\n",
      "15300 4.0\n",
      "15350 16.0\n",
      "15400 9.0\n",
      "15450 4.0\n",
      "15500 1.0\n",
      "15550 4.0\n",
      "15600 4.0\n",
      "15650 4.0\n",
      "15700 1.0\n",
      "15750 4.0\n",
      "15800 81.0\n",
      "15850 4.0\n",
      "15900 4.0\n",
      "15950 9.0\n",
      "16000 64.0\n",
      "16050 16.0\n",
      "16100 16.0\n",
      "16150 16.0\n",
      "16200 9.0\n",
      "16250 25.0\n",
      "16300 16.0\n",
      "16350 9.0\n",
      "16400 25.0\n",
      "16450 64.0\n",
      "16500 1.0\n",
      "16550 36.0\n",
      "16600 16.0\n",
      "16650 4.0\n",
      "16700 9.0\n",
      "16750 4.0\n",
      "16800 9.0\n",
      "16850 4.0\n",
      "16900 4.0\n",
      "16950 1.0\n",
      "17000 16.0\n",
      "17050 9.0\n",
      "17100 16.0\n",
      "17150 9.0\n",
      "17200 1.0\n",
      "17250 4.0\n",
      "17300 1.0\n",
      "17350 36.0\n",
      "17400 16.0\n",
      "17450 49.0\n",
      "17500 36.0\n",
      "17550 121.0\n",
      "17600 9.0\n",
      "17650 36.0\n",
      "17700 16.0\n",
      "17750 1.0\n",
      "17800 49.0\n",
      "17850 9.0\n",
      "17900 4.0\n",
      "17950 16.0\n",
      "18000 1.0\n",
      "18050 1.0\n",
      "18100 81.0\n",
      "18150 9.0\n",
      "18200 25.0\n",
      "18250 4.0\n",
      "18300 36.0\n",
      "18350 4.0\n",
      "18400 4.0\n",
      "18450 25.0\n",
      "18500 16.0\n",
      "18550 36.0\n",
      "18600 36.0\n",
      "18650 144.0\n",
      "18700 81.0\n",
      "18750 4.0\n",
      "18800 81.0\n",
      "18850 64.0\n",
      "18900 9.0\n",
      "18950 9.0\n",
      "19000 4.0\n",
      "19050 9.0\n",
      "19100 1.0\n",
      "19150 9.0\n",
      "19200 9.0\n",
      "19250 4.0\n",
      "19300 16.0\n",
      "19350 9.0\n",
      "19400 49.0\n",
      "19450 4.0\n",
      "19500 9.0\n",
      "19550 1.0\n",
      "19600 49.0\n",
      "19650 9.0\n",
      "19700 1.0\n",
      "19750 9.0\n",
      "19800 25.0\n",
      "19850 9.0\n",
      "19900 4.0\n",
      "19950 49.0\n",
      "20000 25.0\n"
     ]
    }
   ],
   "source": [
    "DPP.train_DPP_strong(train_iter, batch_size, sample_iter, alpha_iter, lr, weight_decay, reg_exp, reg_var, \n",
    "        rajeesh, el_mean, overwrite)"
   ]
  },
  {
   "cell_type": "code",
   "execution_count": 129,
   "metadata": {
    "scrolled": false
   },
   "outputs": [
    {
     "data": {
      "image/png": "[encoded data removed]",
      "text/plain": [
       "<matplotlib.figure.Figure at 0x12d3b3240>"
      ]
     },
     "metadata": {},
     "output_type": "display_data"
    }
   ],
   "source": [
    "# Plot a loss function\n",
    "plot.plot_defaultdict(DPP.loss_dict,4000)"
   ]
  },
  {
   "cell_type": "code",
   "execution_count": null,
   "metadata": {},
   "outputs": [],
   "source": [
    "set_seed(12)\n",
    "DPP.evaluate(2000)\n",
    "set_seed(12)\n",
    "untrained.evaluate(2000)"
   ]
  },
  {
   "cell_type": "code",
   "execution_count": 135,
   "metadata": {},
   "outputs": [
    {
     "name": "stdout",
     "output_type": "stream",
     "text": [
      "Number of different clusters was:  12\n",
      "Number of clusters predicted was:  -0.7731454863464942\n",
      "Resultant loss was:  163.1532456153738\n",
      "Retrieved subset was of size:  23\n",
      "Number of clusters detected by DPP was:  12\n"
     ]
    }
   ],
   "source": [
    "set_seed(33)\n",
    "untrained = my_torch.DPPRegressor(network_params, dtype)\n",
    "untrained.ortho = False"
   ]
  },
  {
   "cell_type": "code",
   "execution_count": 143,
   "metadata": {},
   "outputs": [
    {
     "name": "stdout",
     "output_type": "stream",
     "text": [
      "Number of different clusters was:  12\n",
      "Number of clusters predicted was:  3.6575110885048074\n",
      "Resultant loss was:  69.59712123842023\n",
      "Retrieved subset was of size:  12\n",
      "Number of clusters detected by DPP was:  11\n"
     ]
    },
    {
     "data": {
      "image/png": "[encoded data removed]",
      "text/plain": [
       "<matplotlib.figure.Figure at 0x1278abc88>"
      ]
     },
     "metadata": {},
     "output_type": "display_data"
    },
    {
     "data": {
      "image/png": "[encoded data removed]",
      "text/plain": [
       "<matplotlib.figure.Figure at 0x12985edd8>"
      ]
     },
     "metadata": {},
     "output_type": "display_data"
    },
    {
     "name": "stdout",
     "output_type": "stream",
     "text": [
      "Number of different clusters was:  12\n",
      "Number of clusters predicted was:  27.89935437365127\n",
      "Resultant loss was:  252.7894694989438\n",
      "Retrieved subset was of size:  22\n",
      "Number of clusters detected by DPP was:  12\n"
     ]
    },
    {
     "data": {
      "image/png": "[encoded data removed]",
      "text/plain": [
       "<matplotlib.figure.Figure at 0x12985ef98>"
      ]
     },
     "metadata": {},
     "output_type": "display_data"
    }
   ],
   "source": [
    "# Doing the plotting\n",
    "\n",
    "seed = 5l\n",
    "set_seed(seed)\n",
    "(pred, target), (words, context), clusters = DPP.sample()\n",
    "plot.plot_matrix(plot.gen_matrix_from_cluster_ix(clusters))\n",
    "plot.plot_embd(DPP.embedding.data)\n",
    "\n",
    "set_seed(seed)\n",
    "(pred, target), (words, context), clusters = untrained.sample()\n",
    "plot.plot_embd(untrained.embedding.data)"
   ]
  },
  {
   "cell_type": "code",
   "execution_count": null,
   "metadata": {},
   "outputs": [],
   "source": [
    "words1"
   ]
  },
  {
   "cell_type": "code",
   "execution_count": null,
   "metadata": {},
   "outputs": [],
   "source": [
    "words.data[1]"
   ]
  },
  {
   "cell_type": "code",
   "execution_count": 123,
   "metadata": {
    "collapsed": true
   },
   "outputs": [],
   "source": [
    "# Save a state-dict\n",
    "torch.save(DPP.state_dict(), \"dpp_nets/models/loss_baseline_long.p\")"
   ]
  },
  {
   "cell_type": "code",
   "execution_count": null,
   "metadata": {
    "collapsed": true
   },
   "outputs": [],
   "source": [
    "print(\"done\")"
   ]
  },
  {
   "cell_type": "code",
   "execution_count": 5,
   "metadata": {},
   "outputs": [
    {
     "name": "stdout",
     "output_type": "stream",
     "text": [
      "Number of different clusters was:  16\n",
      "Number of clusters predicted was:  5.034453827364458\n",
      "Resultant loss was:  120.24320286420196\n",
      "Retrieved subset was of size:  25\n",
      "Number of clusters detected by DPP was:  14\n",
      "Average Loss is:  134.44070574472107\n",
      "Average Subset Size:  10.205999999999994\n",
      "Subset Variance:  0.15747869396201772\n",
      "Proportion of true clusters retrieved: 0.7824907999225257\n"
     ]
    }
   ],
   "source": [
    "# Load pre-trained predcitor\n",
    "import copy\n",
    "\n",
    "trained_pred = torch.load(\"dpp_nets/models/loss_baseline_long.p\")\n",
    "state_clone = copy.deepcopy(trained_pred)\n",
    "model = my_torch.DPPRegressor(network_params, dtype)\n",
    "model.load_state_dict(trained_pred)\n",
    "\n",
    "DPP.load_state_dict(state_clone)\n",
    "set_seed(10)\n",
    "DPP.evaluate(1000)"
   ]
  },
  {
   "cell_type": "code",
   "execution_count": null,
   "metadata": {
    "collapsed": true
   },
   "outputs": [],
   "source": [
    "from torch.autograd import Variable\n",
    "A = Variable(torch.randn(5,10))"
   ]
  },
  {
   "cell_type": "code",
   "execution_count": null,
   "metadata": {
    "collapsed": true
   },
   "outputs": [],
   "source": [
    "mask = Variable(to)"
   ]
  },
  {
   "cell_type": "code",
   "execution_count": null,
   "metadata": {},
   "outputs": [],
   "source": [
    "torch.ByteTensor([1,0,1,0,1]).unsqueeze(1).expand([5,10])"
   ]
  },
  {
   "cell_type": "code",
   "execution_count": null,
   "metadata": {},
   "outputs": [],
   "source": [
    "A = Variable(torch.randn(3,5,2))\n",
    "print(A)\n",
    "mask = Variable(torch.ByteTensor([[1,1,1,1,0],[1,1,0,0,0],[1,1,1,1,1]]).unsqueeze(2).expand(3,5,2))\n",
    "A.masked_select(mask).view(-1,2)"
   ]
  },
  {
   "cell_type": "code",
   "execution_count": null,
   "metadata": {
    "collapsed": true
   },
   "outputs": [],
   "source": [
    "mask = torch.ByteTensor([[1,1,1,1,0],[1,1,0,0,0],[1,1,1,1,1]]).unsqueeze(2).expand(3,5,2)"
   ]
  },
  {
   "cell_type": "code",
   "execution_count": null,
   "metadata": {},
   "outputs": [],
   "source": [
    "import numpy as np"
   ]
  },
  {
   "cell_type": "code",
   "execution_count": null,
   "metadata": {},
   "outputs": [],
   "source": [
    "np.random.normal(5*np.arange(9,dtype=float), scale=0.5)"
   ]
  },
  {
   "cell_type": "code",
   "execution_count": null,
   "metadata": {},
   "outputs": [],
   "source": [
    "np.arange(9)"
   ]
  },
  {
   "cell_type": "code",
   "execution_count": null,
   "metadata": {},
   "outputs": [],
   "source": [
    "set_size = 40\n",
    "pred_in = 50\n",
    "\n",
    "SCALE = 5\n",
    "OFFSET = 20\n",
    "STD = 0.5\n",
    "GLUE = 5\n",
    "\n",
    "words = np.random.randn(set_size, pred_in)\n",
    "n_clusters = 1 + np.random.choice(20,1) \n",
    "rep = (set_size // n_clusters) + 1 \n",
    "clusters = np.random.choice(pred_in, n_clusters, replace=False) # there are pred_in different clusters altogether\n",
    "clusters = np.tile(clusters, rep)[:(set_size)]\n",
    "cluster_means = SCALE * (clusters - OFFSET)\n",
    "cluster_means = np.tile(cluster_means,[GLUE, 1]).T\n",
    "words[:,:GLUE] = np.random.normal(cluster_means, STD)"
   ]
  },
  {
   "cell_type": "code",
   "execution_count": null,
   "metadata": {},
   "outputs": [],
   "source": [
    "words = torch.randn(40,40)\n",
    "context = words.sum(dim=0).expand_as(words)\n",
    "x = Variable(torch.cat([words, context], dim = 1))"
   ]
  },
  {
   "cell_type": "code",
   "execution_count": 25,
   "metadata": {},
   "outputs": [
    {
     "data": {
      "text/plain": [
       "True"
      ]
     },
     "execution_count": 25,
     "metadata": {},
     "output_type": "execute_result"
    }
   ],
   "source": [
    "DPP.ortho"
   ]
  },
  {
   "cell_type": "code",
   "execution_count": null,
   "metadata": {},
   "outputs": [],
   "source": [
    "words = torch.randn(40,40)\n",
    "context = words.sum(dim=0).expand_as(words)\n",
    "x = Variable(torch.cat([words, context], dim = 1))\n",
    "model = nn.Sequential(nn.Linear(80,200), nn.ELU(), nn.Linear(200,100))\n",
    "model(x).data\n",
    "plot.plot_embd(model(x).data)"
   ]
  },
  {
   "cell_type": "code",
   "execution_count": null,
   "metadata": {
    "collapsed": true
   },
   "outputs": [],
   "source": [
    "def compute_miss(clusters, subset):\n",
    "    # How many different clusters were detected?\n",
    "    true_ix = clusters.numpy()\n",
    "    retr_ix = torch.diag(subset.data).numpy()\n",
    "    detected = true_ix[retr_ix.astype(bool)]\n",
    "    n_detected = np.unique(detected).size\n",
    "    target = np.unique(true_ix).size\n",
    "    missed = float((target - n_detected))\n",
    "    too_many = np.sum(retr_ix) - target\n",
    "    maxi = max(missed, too_many)\n",
    "    loss = Variable(self.dtype([maxi**2]))\n",
    "    return loss"
   ]
  }
 ],
 "metadata": {
  "kernelspec": {
   "display_name": "Python 3",
   "language": "python",
   "name": "python3"
  }
 },
 "nbformat": 4,
 "nbformat_minor": 2
}
