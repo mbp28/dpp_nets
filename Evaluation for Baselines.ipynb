{
 "cells": [
  {
   "cell_type": "code",
   "execution_count": 1,
   "metadata": {
    "collapsed": true
   },
   "outputs": [],
   "source": [
    "import argparse\n",
    "import os\n",
    "import shutil\n",
    "import gzip\n",
    "\n",
    "import torch\n",
    "import torch.nn as nn\n",
    "from torch.autograd import Variable\n",
    "\n",
    "import torch\n",
    "import torch.nn as nn\n",
    "from torch.autograd import Variable\n",
    "\n",
    "from dpp_nets.utils.language import Vocabulary, BeerDataset, custom_collate\n",
    "from dpp_nets.layers.baselines import NetBaseline, SetNetBaseline, AttentionBaseline\n",
    "\n",
    "from dpp_nets.utils.language import EvalSet"
   ]
  },
  {
   "cell_type": "code",
   "execution_count": 2,
   "metadata": {
    "collapsed": true
   },
   "outputs": [],
   "source": [
    "# Load saved checkpoint\n",
    "model = 'shortsentsNet1lr0.01best_ckp.pth.tar'\n",
    "model_dir = '/Users/Max/checkpoints/beer_reviews/baseline/' \n",
    "model_path = model_dir + model\n",
    "model = torch.load(model_path, map_location=lambda storage, loc: storage)"
   ]
  },
  {
   "cell_type": "code",
   "execution_count": 3,
   "metadata": {
    "collapsed": true
   },
   "outputs": [],
   "source": [
    "from dpp_nets.utils.language import Vocabulary\n",
    "\n",
    "embd_path = '/Users/Max/data/beer_reviews/review+wiki.filtered.200.txt.gz'\n",
    "word_path = '/Users/Max/data/beer_reviews/reviews.all.train.words.txt.gz'\n",
    "\n",
    "# Set-up Vocabulary\n",
    "vocab = Vocabulary()\n",
    "vocab.loadPretrained(embd_path)\n",
    "vocab.setStops()\n",
    "vocab.loadCorpus(word_path)\n",
    "vocab.updateEmbedding()\n",
    "vocab.setCuda(False)\n",
    "vocab.EmbeddingBag.load_state_dict(model['embedding'])"
   ]
  },
  {
   "cell_type": "code",
   "execution_count": 4,
   "metadata": {
    "collapsed": true
   },
   "outputs": [],
   "source": [
    "EMBD_DIM = 200\n",
    "KERNEL_DIM = 200\n",
    "HIDDEN_DIM = 500\n",
    "ENC_DIM = 200\n",
    "TARGET_DIM = 3 if model['aspect'] in set(['all', 'short']) else 1\n",
    "\n",
    "if model['model_type'] == NetBaseline:\n",
    "    trainer = NetBaseline(EMBD_DIM, HIDDEN_DIM, TARGET_DIM)\n",
    "if model['model_type'] == SetNetBaseline:\n",
    "    trainer = NetBaseline(EMBD_DIM, HIDDEN_DIM, KERNEL_DIM, ENC_DIM, TARGET_DIM)\n",
    "if model['model_type'] == AttentionBaseline:\n",
    "    trainer = SetNetBaseline(EMBD_DIM, HIDDEN_DIM, ENC_DIM, TARGET_DIM)\n",
    "\n",
    "trainer.load_state_dict(model['model'])\n",
    "#trainer.activation = nn.Sigmoid()\n",
    "\n",
    "rat_path = '/Users/Max/data/beer_reviews/annotations.json'\n",
    "evalset = EvalSet(rat_path, vocab)"
   ]
  },
  {
   "cell_type": "code",
   "execution_count": 5,
   "metadata": {},
   "outputs": [
    {
     "data": {
      "text/plain": [
       "0.01592683966787016"
      ]
     },
     "execution_count": 5,
     "metadata": {},
     "output_type": "execute_result"
    }
   ],
   "source": [
    "evalset.evaluateBaseline(trainer, model['mode'])"
   ]
  },
  {
   "cell_type": "code",
   "execution_count": null,
   "metadata": {
    "collapsed": true
   },
   "outputs": [],
   "source": [
    "print('__________________________Training Table__________________________')\n",
    "for k, v in model['train_loss'].items():\n",
    "    print(str.join(\" | \", ['Epoch: %d' % (k), 'Loss: %.5f' % (v)]))"
   ]
  },
  {
   "cell_type": "code",
   "execution_count": null,
   "metadata": {
    "collapsed": true
   },
   "outputs": [],
   "source": [
    "from dpp_nets.helper.plotting import plot_floats\n",
    "\n",
    "# Training Plots\n",
    "plot_floats(model['train_loss'], xlabel='Epochs', ylabel='MSE + Reg', title='Training MSE + Reg')"
   ]
  },
  {
   "cell_type": "code",
   "execution_count": null,
   "metadata": {
    "collapsed": true
   },
   "outputs": [],
   "source": [
    "print('_________________________Validation Table_________________________')\n",
    "for k, v in model['val_loss'].items():\n",
    "    print(str.join(\" | \", ['Epoch: %d' % (k), 'Loss: %.5f' % (v)]))"
   ]
  },
  {
   "cell_type": "code",
   "execution_count": null,
   "metadata": {
    "collapsed": true
   },
   "outputs": [],
   "source": [
    "from dpp_nets.helper.plotting import plot_floats\n",
    "\n",
    "# Training Plots\n",
    "plot_floats(model['val_loss'], xlabel='Epochs', ylabel='MSE + Reg', title='Validation MSE + Reg')"
   ]
  },
  {
   "cell_type": "code",
   "execution_count": null,
   "metadata": {
    "collapsed": true
   },
   "outputs": [],
   "source": [
    "# Evaluation on Test Set\n",
    "\n",
    "loss, pred_loss, reg_loss = evalset.computeLoss(trainer, model['mode'])\n",
    "print(str.join(\" | \", ['Test Set:', 'Loss: %.5f' % (loss), \n",
    "                              'Pred Loss: %.5f' % (pred_loss), 'Reg Loss: %.5f' % (reg_loss)]))\n",
    "\n",
    "prec, extract = evalset.evaluatePrecision(trainer,model['mode'])\n",
    "print(str.join(\" | \", ['Test Set:', 'Precision: %.5f' % (prec), 'Extract: %.5f' % (extract)]))"
   ]
  },
  {
   "cell_type": "code",
   "execution_count": null,
   "metadata": {
    "collapsed": true
   },
   "outputs": [],
   "source": [
    "# Random Samples\n",
    "\n",
    "evalset.sample(trainer, model['mode'])"
   ]
  },
  {
   "cell_type": "code",
   "execution_count": null,
   "metadata": {
    "collapsed": true
   },
   "outputs": [],
   "source": [
    "# Random Marginals\n",
    "evalset.computeMarginals(trainer, model['mode'])"
   ]
  },
  {
   "cell_type": "code",
   "execution_count": 5,
   "metadata": {},
   "outputs": [
    {
     "data": {
      "text/plain": [
       "{'0': [[0, 5], [5, 8], [8, 14], [14, 23]],\n",
       " '1': [[23, 33], [33, 42]],\n",
       " '2': [[73, 82]],\n",
       " '3': [[42, 46], [46, 50], [50, 59], [59, 64], [64, 69], [69, 73]],\n",
       " '4': [[82, 100]],\n",
       " 'raw': '{\\'review/appearance\\': 4.0, \\'beer/style\\': \\'American Double / Imperial IPA\\', \\'review/palate\\': 4.0, \\'review/taste\\': 4.0, \\'beer/name\\': \\'Green Flash Imperial India Pale Ale\\', \\'review/timeUnix\\': 1300608461, \\'beer/ABV\\': 9.4, \\'beer/beerId\\': \\'34085\\', \\'beer/brewerId\\': \\'2743\\', \\'review/timeStruct\\': {\\'isdst\\': 0, \\'mday\\': 20, \\'hour\\': 8, \\'min\\': 7, \\'sec\\': 41, \\'mon\\': 3, \\'year\\': 2011, \\'yday\\': 79, \\'wday\\': 6}, \\'review/overall\\': 4.0, \\'review/text\\': \"Appearance: Golden Honey. Slightly Orange. It\\'s a little opaque. It has a weak head with minimal retention.\\\\t\\\\tSmell: A huge dose of bread pale malts. There is a huge blast of very citric hops. \\\\t\\\\tTaste: Wow. This taste great. It has a good blend of cocoa malts. Very bitter piney hops. Slight tropical fruit sweetness. Apricot. Pineapple. Very bitter finish.\\\\t\\\\tMouthfeel: Medium bodied with a chalky finish.\\\\t\\\\tDrinkability: Good but not quite as enjoyable as the Pliny the Elder which she had before.\", \\'user/profileName\\': \\'BerkeleyBeerMan\\', \\'review/aroma\\': 4.0}\\n',\n",
       " 'rid': 192715,\n",
       " 'x': ['appearance',\n",
       "  ':',\n",
       "  'golden',\n",
       "  'honey',\n",
       "  '.',\n",
       "  'slightly',\n",
       "  'orange',\n",
       "  '.',\n",
       "  'it',\n",
       "  \"'s\",\n",
       "  'a',\n",
       "  'little',\n",
       "  'opaque',\n",
       "  '.',\n",
       "  'it',\n",
       "  'has',\n",
       "  'a',\n",
       "  'weak',\n",
       "  'head',\n",
       "  'with',\n",
       "  'minimal',\n",
       "  'retention',\n",
       "  '.',\n",
       "  'smell',\n",
       "  ':',\n",
       "  'a',\n",
       "  'huge',\n",
       "  'dose',\n",
       "  'of',\n",
       "  'bread',\n",
       "  'pale',\n",
       "  'malts',\n",
       "  '.',\n",
       "  'there',\n",
       "  'is',\n",
       "  'a',\n",
       "  'huge',\n",
       "  'blast',\n",
       "  'of',\n",
       "  'very',\n",
       "  'citric',\n",
       "  'hops',\n",
       "  'taste',\n",
       "  ':',\n",
       "  'wow',\n",
       "  '.',\n",
       "  'this',\n",
       "  'taste',\n",
       "  'great',\n",
       "  '.',\n",
       "  'it',\n",
       "  'has',\n",
       "  'a',\n",
       "  'good',\n",
       "  'blend',\n",
       "  'of',\n",
       "  'cocoa',\n",
       "  'malts',\n",
       "  '.',\n",
       "  'very',\n",
       "  'bitter',\n",
       "  'piney',\n",
       "  'hops',\n",
       "  '.',\n",
       "  'slight',\n",
       "  'tropical',\n",
       "  'fruit',\n",
       "  'sweetness',\n",
       "  '.',\n",
       "  'very',\n",
       "  'bitter',\n",
       "  'finish',\n",
       "  '.',\n",
       "  'mouthfeel',\n",
       "  ':',\n",
       "  'medium',\n",
       "  'bodied',\n",
       "  'with',\n",
       "  'a',\n",
       "  'chalky',\n",
       "  'finish',\n",
       "  '.',\n",
       "  'drinkability',\n",
       "  ':',\n",
       "  'good',\n",
       "  'but',\n",
       "  'not',\n",
       "  'quite',\n",
       "  'as',\n",
       "  'enjoyable',\n",
       "  'as',\n",
       "  'the',\n",
       "  'pliny',\n",
       "  'the',\n",
       "  'elder',\n",
       "  'which',\n",
       "  'she',\n",
       "  'had',\n",
       "  'before',\n",
       "  '.'],\n",
       " 'y': [0.8, 0.8, 0.8, 0.8, 0.8]}"
      ]
     },
     "execution_count": 5,
     "metadata": {},
     "output_type": "execute_result"
    }
   ],
   "source": [
    "evalset.reviews[713]"
   ]
  },
  {
   "cell_type": "code",
   "execution_count": null,
   "metadata": {
    "collapsed": true
   },
   "outputs": [],
   "source": []
  }
 ],
 "metadata": {
  "kernelspec": {
   "display_name": "Python 3",
   "language": "python",
   "name": "python3"
  },
  "language_info": {
   "codemirror_mode": {
    "name": "ipython",
    "version": 3
   },
   "file_extension": ".py",
   "mimetype": "text/x-python",
   "name": "python",
   "nbconvert_exporter": "python",
   "pygments_lexer": "ipython3",
   "version": "3.6.2"
  }
 },
 "nbformat": 4,
 "nbformat_minor": 2
}
