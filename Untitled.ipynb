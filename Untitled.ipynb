{
 "cells": [
  {
   "cell_type": "code",
   "execution_count": 1,
   "metadata": {
    "collapsed": true
   },
   "outputs": [],
   "source": [
    "import torch\n",
    "import torch.nn as nn"
   ]
  },
  {
   "cell_type": "code",
   "execution_count": 11,
   "metadata": {
    "collapsed": true
   },
   "outputs": [],
   "source": [
    "V = torch.randn(5, 10)\n",
    "L = V.mm(V.t())\n",
    "\n",
    "vecs, vals, _ = torch.svd(V)\n",
    "vals = vals.pow(2)\n",
    "n = vecs.size(0)\n",
    "n_vals = vals.size(0)\n",
    "\n",
    "subset = torch.FloatTensor([0,1,0,1,0])\n",
    "subset_sum = subset.long().sum()"
   ]
  },
  {
   "cell_type": "code",
   "execution_count": 12,
   "metadata": {},
   "outputs": [
    {
     "name": "stdout",
     "output_type": "stream",
     "text": [
      "\n",
      " 0.0741\n",
      " 0.1794\n",
      " 0.3043\n",
      " 0.7958\n",
      " 1.1396\n",
      "[torch.FloatTensor of size 5]\n",
      " \n",
      " 0.0000  0.0000  0.0000  0.0000  0.0000\n",
      " 1.0931 -0.4053  0.0728 -0.1016 -0.0090\n",
      " 0.0000  0.0000  0.0000  0.0000  0.0000\n",
      "-0.8026 -1.1328  0.4221 -0.3973 -0.2167\n",
      " 0.0000  0.0000  0.0000  0.0000  0.0000\n",
      "[torch.FloatTensor of size 5x5]\n",
      "\n"
     ]
    }
   ],
   "source": [
    "## Best\n",
    "\n",
    "grad_vals = 1 / vals\n",
    "grad_vecs = vecs.new().resize_(n, n_vals).copy_(torch.zeros(n, n_vals))\n",
    "\n",
    "ix = subset.new().resize_(n).copy_((subset * torch.arange(0,n))).nonzero().squeeze()\n",
    "Pvecs = vecs[ix,:].squeeze(1)\n",
    "\n",
    "submatrix = Pvecs.mm(vals.diag()).mm(Pvecs.t())\n",
    "subinv = torch.inverse(submatrix)\n",
    "\n",
    "grad_vals += Pvecs.t().mm(subinv).mm(Pvecs).diag()\n",
    "grad_vecs[ix,:] += subinv.mm(Pvecs).mm(vals.diag())    \n",
    "\n",
    "print(grad_vals, grad_vecs)"
   ]
  },
  {
   "cell_type": "code",
   "execution_count": 13,
   "metadata": {},
   "outputs": [
    {
     "name": "stdout",
     "output_type": "stream",
     "text": [
      "\n",
      " 0.0741\n",
      " 0.1794\n",
      " 0.3043\n",
      " 0.7958\n",
      " 1.1396\n",
      "[torch.FloatTensor of size 5]\n",
      " \n",
      " 0.0000  0.0000  0.0000  0.0000  0.0000\n",
      " 1.0931 -0.4053  0.0728 -0.1016 -0.0090\n",
      " 0.0000  0.0000  0.0000  0.0000  0.0000\n",
      "-0.8026 -1.1328  0.4221 -0.3973 -0.2167\n",
      " 0.0000  0.0000  0.0000  0.0000  0.0000\n",
      "[torch.FloatTensor of size 5x5]\n",
      "\n"
     ]
    }
   ],
   "source": [
    "grad_vals = 1 / vals\n",
    "grad_vecs = torch.zeros(n, n_vals)\n",
    "\n",
    "matrix = vecs.mm(vals.diag()).mm(vecs.t())\n",
    "\n",
    "P = torch.eye(n).masked_select(subset.expand(n,n).t().byte()).view(subset_sum, -1)\n",
    "submatrix = P.mm(matrix).mm(P.t())\n",
    "# ix = (subset * torch.arange(0,len(subset))).nonzero()\n",
    "# submatrix = matrix[ix,].squeeze(1).t()[ix,].squeeze(1)\n",
    "subinv = torch.inverse(submatrix)\n",
    "Pvecs = P.mm(vecs)\n",
    "# Pvecs = vecs[ix,:].squeeze(1)\n",
    "\n",
    "grad_vals += Pvecs.t().mm(subinv).mm(Pvecs).diag()\n",
    "grad_vecs += P.t().mm(subinv).mm(Pvecs).mm(vals.diag())\n",
    "print(grad_vals, grad_vecs)"
   ]
  },
  {
   "cell_type": "code",
   "execution_count": 14,
   "metadata": {},
   "outputs": [
    {
     "name": "stdout",
     "output_type": "stream",
     "text": [
      "\n",
      " 0.0741\n",
      " 0.1794\n",
      " 0.3043\n",
      " 0.7958\n",
      " 1.1396\n",
      "[torch.FloatTensor of size 5]\n",
      " \n",
      " 0.0000  0.0000  0.0000  0.0000  0.0000\n",
      " 1.0931 -0.4053  0.0728 -0.1016 -0.0090\n",
      " 0.0000  0.0000  0.0000  0.0000  0.0000\n",
      "-0.8026 -1.1328  0.4221 -0.3973 -0.2167\n",
      " 0.0000  0.0000  0.0000  0.0000  0.0000\n",
      "[torch.FloatTensor of size 5x5]\n",
      "\n"
     ]
    }
   ],
   "source": [
    "grad_vals = 1 / vals\n",
    "grad_vecs = vecs.new().resize_(n, n_vals).copy_(torch.zeros(n, n_vals))\n",
    "\n",
    "ix = subset.new().resize_(n).copy_((subset * torch.arange(0,n))).nonzero()\n",
    "Pvecs = vecs[ix,:].squeeze(1)\n",
    "\n",
    "submatrix = Pvecs.mm(vals.diag()).mm(Pvecs.t())\n",
    "subinv = torch.inverse(submatrix)\n",
    "\n",
    "grad_vals += Pvecs.t().mm(subinv).mm(Pvecs).diag()\n",
    "grad_vecs += P.t().mm(subinv).mm(Pvecs).mm(vals.diag())    \n",
    "\n",
    "print(grad_vals, grad_vecs)"
   ]
  },
  {
   "cell_type": "code",
   "execution_count": null,
   "metadata": {
    "collapsed": true
   },
   "outputs": [],
   "source": []
  },
  {
   "cell_type": "code",
   "execution_count": null,
   "metadata": {
    "collapsed": true
   },
   "outputs": [],
   "source": []
  },
  {
   "cell_type": "code",
   "execution_count": 1,
   "metadata": {
    "collapsed": true
   },
   "outputs": [],
   "source": [
    "import matplotlib.pyplot as plt\n",
    "import numpy as np\n",
    "\n",
    "def autolabel(rects):\n",
    "    for rect in rects:\n",
    "        height = rect.get_height()\n",
    "        ax.text(rect.get_x() + rect.get_width()/2., 1.01*height,\n",
    "                '%.2f' % float(height),\n",
    "                ha='center', va='bottom')\n",
    "\n",
    "def curate_ax(idx, ax, my_data):\n",
    "    \n",
    "    x_c = 1\n",
    "    x_m = 0.06\n",
    "    x_positioning = [x_c + x_m*i for i in range(len(my_data))]\n",
    "    width = 0.05 # width of bars\n",
    "    colors = ['0.9', '0.75', '0.6', '0.45', '0.3', '0.15']\n",
    "    \n",
    "    rects = []\n",
    "    for i, data in enumerate(my_data):\n",
    "        r = ax.bar(x_positioning[i], data[idx], width, color=colors[i])\n",
    "        rects.append(r)\n",
    "        #autolabel(r)\n",
    "    return rects"
   ]
  },
  {
   "cell_type": "code",
   "execution_count": 2,
   "metadata": {},
   "outputs": [
    {
     "data": {
      "image/png": "[encoded data removed]",
      "text/plain": [
       "<matplotlib.figure.Figure at 0x1085cad68>"
      ]
     },
     "metadata": {},
     "output_type": "display_data"
    }
   ],
   "source": [
    "my_data = [[0.32, 0.4, 0.39],[0.30, 0.4, 0.2],[0.24,0.4, 0.1],\n",
    "           [0.7,0.4, 0.3],[0.75,0.4, 0.7],[0.8,0.4,0.6]]\n",
    "f, (ax0, ax1, ax2) = plt.subplots(1, 3, sharey=True)\n",
    "\n",
    "# Create subplots subplot\n",
    "rects0 = curate_ax(0, ax0, my_data)\n",
    "curate_ax(1, ax1, my_data)\n",
    "curate_ax(2, ax2, my_data)\n",
    "\n",
    "# Axis and Title Settings\n",
    "plt.suptitle('Learning To Count Clusters')\n",
    "\n",
    "# y-axis \n",
    "ax0.set_yticks([0,1])\n",
    "ax0.set_ylim([0,1])\n",
    "ax0.set_ylabel('Accuracy')\n",
    "\n",
    "# x-axis\n",
    "ax0.set_xticks([],[])\n",
    "ax1.set_xticks([],[])\n",
    "ax2.set_xticks([],[])\n",
    "\n",
    "ax0.set_xlabel('All Sets')\n",
    "#ax0.set_title('y = 5')\n",
    "\n",
    "# Legend\n",
    "#ax.legend((rects1[0], rects2[0]), ('Men', 'Women'))\n",
    "plt.legend((rects0[0], rects0[1], rects0[2], rects0[3], rects0[4], rects0[5]), \n",
    "           ('5', '6', '7','8','9','10'), \n",
    "           loc = 'best', bbox_to_anchor = (0,-0.1,1.1,1),\n",
    "           bbox_transform = plt.gcf().transFigure)\n",
    "plt.show()"
   ]
  },
  {
   "cell_type": "code",
   "execution_count": 34,
   "metadata": {},
   "outputs": [
    {
     "data": {
      "image/png": "[encoded data removed]",
      "text/plain": [
       "<matplotlib.figure.Figure at 0x10b819400>"
      ]
     },
     "metadata": {},
     "output_type": "display_data"
    }
   ],
   "source": [
    "x = np.linspace(0,100)\n",
    "y = np.sin(x)\n",
    "y2 = np.cos(x)\n",
    "\n",
    "f, axarr = plt.subplots(2, 2, sharex='col')\n",
    "f.subplots_adjust(left=None, bottom=None, right=None, top=None, wspace=0.4, hspace=None)\n",
    "ax0 = axarr[0,0]\n",
    "ax1 = axarr[0,1]\n",
    "ax2 = axarr[1,0]\n",
    "ax3 = axarr[1,1]\n",
    "\n",
    "# Loss\n",
    "ax0.set_ylabel('BCE', size=9)\n",
    "ax0.set_yticks([0,0.25,0.5,0.75,1])\n",
    "ax0.set_yticklabels(['0','','','','1'],size=8)\n",
    "ax0.set_ylim([0,1])\n",
    "\n",
    "#ax0.plot(x,y2)\n",
    "\n",
    "# Subset Size\n",
    "ax1.set_ylabel('Cardinality', size=9)\n",
    "ax1.set_yticks([0,2.5,5,7.5,10])\n",
    "ax1.set_yticklabels(['0','','','','10'],size=8)\n",
    "ax1.set_ylim([0,10])\n",
    "\n",
    "\n",
    "# Accuracy \n",
    "ax2.set_ylabel('Accuracy', size=9)\n",
    "ax2.set_yticks([0,0.25,0.5,0.75,1])\n",
    "ax2.set_yticklabels(['0','','','','1'],size=8)\n",
    "ax2.set_ylim([0,1])\n",
    "\n",
    "# Precision\n",
    "ax3.set_ylabel('Recall', size=9)\n",
    "ax3.set_yticks([0,0.25,0.5,0.75,1])\n",
    "ax3.set_yticklabels(['0','','','','1'],size=8)\n",
    "ax3.set_ylim([0,1])\n",
    "\n",
    "# Set x-axis \n",
    "ax3.set_xlabel('t', size=9)\n",
    "#ax3.set_xticks([])\n",
    "#ax3.set_xticklabels(['0','','','','1'],size=8)\n",
    "ax4.set_xlabel('t', size=9)\n",
    "#ax4\n",
    "plt.show()"
   ]
  },
  {
   "cell_type": "code",
   "execution_count": 9,
   "metadata": {},
   "outputs": [
    {
     "data": {
      "text/plain": [
       "array([   0.        ,    2.04081633,    4.08163265,    6.12244898,\n",
       "          8.16326531,   10.20408163,   12.24489796,   14.28571429,\n",
       "         16.32653061,   18.36734694,   20.40816327,   22.44897959,\n",
       "         24.48979592,   26.53061224,   28.57142857,   30.6122449 ,\n",
       "         32.65306122,   34.69387755,   36.73469388,   38.7755102 ,\n",
       "         40.81632653,   42.85714286,   44.89795918,   46.93877551,\n",
       "         48.97959184,   51.02040816,   53.06122449,   55.10204082,\n",
       "         57.14285714,   59.18367347,   61.2244898 ,   63.26530612,\n",
       "         65.30612245,   67.34693878,   69.3877551 ,   71.42857143,\n",
       "         73.46938776,   75.51020408,   77.55102041,   79.59183673,\n",
       "         81.63265306,   83.67346939,   85.71428571,   87.75510204,\n",
       "         89.79591837,   91.83673469,   93.87755102,   95.91836735,\n",
       "         97.95918367,  100.        ])"
      ]
     },
     "execution_count": 9,
     "metadata": {},
     "output_type": "execute_result"
    }
   ],
   "source": [
    "f, (ax0, ax1, ax2, ax3, ax4) = plt.subplots(1, 5, sharey=True)\n",
    "\n",
    "# Create subplots subplot\n",
    "rects0 = curate_ax(0, ax0, super_loss)\n",
    "curate_ax(1, ax1, super_loss)\n",
    "curate_ax(2, ax2, super_loss)\n",
    "curate_ax(3, ax3, super_loss)\n",
    "curate_ax(4, ax4, super_loss)\n",
    "\n",
    "\n",
    "# Axis and Title Settings\n",
    "head = plt.suptitle('Learning To Count Clusters')\n",
    "\n",
    "# y-axis \n",
    "ax0.set_yticks([0,5,10,15,20,25])\n",
    "ax0.set_ylim([0,25])\n",
    "ax0.set_ylabel('Accuracy')\n",
    "\n",
    "# x-axis\n",
    "ax0.set_xticks([],[])\n",
    "ax1.set_xticks([],[])\n",
    "ax2.set_xticks([],[])\n",
    "ax3.set_xticks([],[])\n",
    "ax4.set_xticks([],[])\n",
    "#ax5.set_xticks([],[])\n",
    "\n",
    "ax0.set_xlabel('All Sets')\n",
    "ax1.set_xlabel('y = 5')\n",
    "ax2.set_xlabel('y = 10')\n",
    "ax3.set_xlabel('y = 15')\n",
    "ax4.set_xlabel('y = 20')\n",
    "#ax0.set_title('y = 5')\n",
    "\n",
    "# Legend\n",
    "# Legend\n",
    "lgd = plt.legend((rects0[0], rects0[1], rects0[2]), \n",
    "           (r'$\\lambda = 10$', r'$\\lambda = 15$', r'$\\lambda = 20$'), \n",
    "           loc = 'best', bbox_to_anchor = (0,-0.1,1.1,1),\n",
    "                 fontsize=9, numpoints=3, handlelength=1,\n",
    "           bbox_transform = plt.gcf().transFigure)\n",
    "plt.savefig('odl.pdf', bbox_extra_artists=(lgd,head), bbox_inches='tight')\n",
    "plt.show()"
   ]
  },
  {
   "cell_type": "code",
   "execution_count": null,
   "metadata": {
    "collapsed": true
   },
   "outputs": [],
   "source": []
  }
 ],
 "metadata": {
  "kernelspec": {
   "display_name": "Python 3",
   "language": "python",
   "name": "python3"
  },
  "language_info": {
   "codemirror_mode": {
    "name": "ipython",
    "version": 3
   },
   "file_extension": ".py",
   "mimetype": "text/x-python",
   "name": "python",
   "nbconvert_exporter": "python",
   "pygments_lexer": "ipython3",
   "version": "3.6.2"
  }
 },
 "nbformat": 4,
 "nbformat_minor": 2
}
