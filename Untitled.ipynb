{
 "cells": [
  {
   "cell_type": "code",
   "execution_count": 1,
   "metadata": {
    "collapsed": true
   },
   "outputs": [],
   "source": [
    "import torch\n",
    "import torch.nn as nn"
   ]
  },
  {
   "cell_type": "code",
   "execution_count": 2,
   "metadata": {
    "collapsed": true
   },
   "outputs": [],
   "source": [
    "V = torch.randn(5, 10)\n",
    "L = V.mm(V.t())\n",
    "\n",
    "vecs, vals, _ = torch.svd(V)\n",
    "vals = vals.pow(2)\n",
    "n = vecs.size(0)\n",
    "n_vals = vals.size(0)\n",
    "\n",
    "subset = torch.FloatTensor([0,1,,0,0])\n",
    "subset_sum = subset.long().sum()"
   ]
  },
  {
   "cell_type": "code",
   "execution_count": 3,
   "metadata": {},
   "outputs": [
    {
     "name": "stdout",
     "output_type": "stream",
     "text": [
      "\n",
      " 0.0788\n",
      " 0.1595\n",
      " 0.2523\n",
      " 0.2665\n",
      " 0.5093\n",
      "[torch.FloatTensor of size 5]\n",
      " \n",
      " 0.0000  0.0000  0.0000  0.0000  0.0000\n",
      " 0.7348  0.3659  0.7407  0.1647 -0.1252\n",
      "-0.6261  0.7074 -0.1529  0.6166  0.2072\n",
      " 0.0000  0.0000  0.0000  0.0000  0.0000\n",
      " 0.0000  0.0000  0.0000  0.0000  0.0000\n",
      "[torch.FloatTensor of size 5x5]\n",
      "\n"
     ]
    }
   ],
   "source": [
    "## Best\n",
    "\n",
    "grad_vals = 1 / vals\n",
    "grad_vecs = vecs.new().resize_(n, n_vals).copy_(torch.zeros(n, n_vals))\n",
    "\n",
    "ix = subset.new().resize_(n).copy_((subset * torch.arange(0,n))).nonzero().squeeze()\n",
    "Pvecs = vecs[ix,:].squeeze(1)\n",
    "\n",
    "submatrix = Pvecs.mm(vals.diag()).mm(Pvecs.t())\n",
    "subinv = torch.inverse(submatrix)\n",
    "\n",
    "grad_vals += Pvecs.t().mm(subinv).mm(Pvecs).diag()\n",
    "grad_vecs[ix,:] += subinv.mm(Pvecs).mm(vals.diag())    \n",
    "\n",
    "print(grad_vals, grad_vecs)"
   ]
  },
  {
   "cell_type": "code",
   "execution_count": 4,
   "metadata": {},
   "outputs": [
    {
     "name": "stdout",
     "output_type": "stream",
     "text": [
      "\n",
      " 0.0788\n",
      " 0.1595\n",
      " 0.2523\n",
      " 0.2665\n",
      " 0.5093\n",
      "[torch.FloatTensor of size 5]\n",
      " \n",
      " 0.0000  0.0000  0.0000  0.0000  0.0000\n",
      " 0.7348  0.3659  0.7407  0.1647 -0.1252\n",
      "-0.6261  0.7074 -0.1529  0.6166  0.2072\n",
      " 0.0000  0.0000  0.0000  0.0000  0.0000\n",
      " 0.0000  0.0000  0.0000  0.0000  0.0000\n",
      "[torch.FloatTensor of size 5x5]\n",
      "\n"
     ]
    }
   ],
   "source": [
    "grad_vals = 1 / vals\n",
    "grad_vecs = torch.zeros(n, n_vals)\n",
    "\n",
    "matrix = vecs.mm(vals.diag()).mm(vecs.t())\n",
    "\n",
    "P = torch.eye(n).masked_select(subset.expand(n,n).t().byte()).view(subset_sum, -1)\n",
    "submatrix = P.mm(matrix).mm(P.t())\n",
    "# ix = (subset * torch.arange(0,len(subset))).nonzero()\n",
    "# submatrix = matrix[ix,].squeeze(1).t()[ix,].squeeze(1)\n",
    "subinv = torch.inverse(submatrix)\n",
    "Pvecs = P.mm(vecs)\n",
    "# Pvecs = vecs[ix,:].squeeze(1)\n",
    "\n",
    "grad_vals += Pvecs.t().mm(subinv).mm(Pvecs).diag()\n",
    "grad_vecs += P.t().mm(subinv).mm(Pvecs).mm(vals.diag())\n",
    "print(grad_vals, grad_vecs)"
   ]
  },
  {
   "cell_type": "code",
   "execution_count": 5,
   "metadata": {},
   "outputs": [
    {
     "name": "stdout",
     "output_type": "stream",
     "text": [
      "\n",
      " 0.0788\n",
      " 0.1595\n",
      " 0.2523\n",
      " 0.2665\n",
      " 0.5093\n",
      "[torch.FloatTensor of size 5]\n",
      " \n",
      " 0.0000  0.0000  0.0000  0.0000  0.0000\n",
      " 0.7348  0.3659  0.7407  0.1647 -0.1252\n",
      "-0.6261  0.7074 -0.1529  0.6166  0.2072\n",
      " 0.0000  0.0000  0.0000  0.0000  0.0000\n",
      " 0.0000  0.0000  0.0000  0.0000  0.0000\n",
      "[torch.FloatTensor of size 5x5]\n",
      "\n"
     ]
    }
   ],
   "source": [
    "grad_vals = 1 / vals\n",
    "grad_vecs = vecs.new().resize_(n, n_vals).copy_(torch.zeros(n, n_vals))\n",
    "\n",
    "ix = subset.new().resize_(n).copy_((subset * torch.arange(0,n))).nonzero()\n",
    "Pvecs = vecs[ix,:].squeeze(1)\n",
    "\n",
    "submatrix = Pvecs.mm(vals.diag()).mm(Pvecs.t())\n",
    "subinv = torch.inverse(submatrix)\n",
    "\n",
    "grad_vals += Pvecs.t().mm(subinv).mm(Pvecs).diag()\n",
    "grad_vecs += P.t().mm(subinv).mm(Pvecs).mm(vals.diag())    \n",
    "\n",
    "print(grad_vals, grad_vecs)"
   ]
  },
  {
   "cell_type": "code",
   "execution_count": 6,
   "metadata": {},
   "outputs": [
    {
     "data": {
      "text/plain": [
       "\n",
       " 1\n",
       " 2\n",
       "[torch.LongTensor of size 2x1]"
      ]
     },
     "execution_count": 6,
     "metadata": {},
     "output_type": "execute_result"
    }
   ],
   "source": [
    "ix"
   ]
  },
  {
   "cell_type": "code",
   "execution_count": 7,
   "metadata": {},
   "outputs": [
    {
     "data": {
      "text/plain": [
       "\n",
       " 0  0\n",
       " 1  0\n",
       " 0  1\n",
       " 0  0\n",
       " 0  0\n",
       "[torch.FloatTensor of size 5x2]"
      ]
     },
     "execution_count": 7,
     "metadata": {},
     "output_type": "execute_result"
    }
   ],
   "source": [
    "torch.eye(n)[ix,].squeeze(1).t() # = P.t()"
   ]
  },
  {
   "cell_type": "code",
   "execution_count": 8,
   "metadata": {},
   "outputs": [],
   "source": [
    "A = torch.zeros(5,5)\n",
    "A[ix,] = subinv.mm(Pvecs).mm(vals.diag())    "
   ]
  },
  {
   "cell_type": "code",
   "execution_count": 9,
   "metadata": {},
   "outputs": [
    {
     "data": {
      "text/plain": [
       "\n",
       " 0.0000  0.0000  0.0000  0.0000  0.0000\n",
       " 0.7348  0.3659  0.7407  0.1647 -0.1252\n",
       "-0.6261  0.7074 -0.1529  0.6166  0.2072\n",
       " 0.0000  0.0000  0.0000  0.0000  0.0000\n",
       " 0.0000  0.0000  0.0000  0.0000  0.0000\n",
       "[torch.FloatTensor of size 5x5]"
      ]
     },
     "execution_count": 9,
     "metadata": {},
     "output_type": "execute_result"
    }
   ],
   "source": [
    "A"
   ]
  },
  {
   "cell_type": "code",
   "execution_count": 10,
   "metadata": {},
   "outputs": [
    {
     "name": "stdout",
     "output_type": "stream",
     "text": [
      "<class 'torch.LongTensor'>\n",
      "<class 'torch.FloatTensor'>\n",
      "<class 'torch.FloatTensor'>\n",
      "<class 'torch.LongTensor'>\n"
     ]
    }
   ],
   "source": [
    "ix = (subset * torch.arange(0,len(subset))).nonzero()\n",
    "print(type(ix))\n",
    "print(type(subset))\n",
    "print(type(torch.arange(0, n)))\n",
    "ix = subset.new().resize_(n).copy_((subset * torch.arange(0,n))).nonzero()\n",
    "print(type(ix))"
   ]
  }
 ],
 "metadata": {
  "kernelspec": {
   "display_name": "Python 3",
   "language": "python",
   "name": "python3"
  },
  "language_info": {
   "codemirror_mode": {
    "name": "ipython",
    "version": 3
   },
   "file_extension": ".py",
   "mimetype": "text/x-python",
   "name": "python",
   "nbconvert_exporter": "python",
   "pygments_lexer": "ipython3",
   "version": "3.6.2"
  }
 },
 "nbformat": 4,
 "nbformat_minor": 2
}
