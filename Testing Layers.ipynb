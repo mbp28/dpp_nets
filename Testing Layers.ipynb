{
 "cells": [
  {
   "cell_type": "code",
   "execution_count": 1,
   "metadata": {
    "collapsed": true
   },
   "outputs": [],
   "source": [
    "from dpp_nets.layers.layers import *\n",
    "from dpp_nets.my_torch.utilities import pad_tensor"
   ]
  },
  {
   "cell_type": "code",
   "execution_count": 2,
   "metadata": {},
   "outputs": [],
   "source": [
    "embd_dim = 10\n",
    "hidden_dim = 20\n",
    "kernel_dim = 15\n",
    "enc_dim = 50\n",
    "target_dim = 3\n",
    "alpha_iter = 5\n",
    "\n",
    "kernel_net = KernelVar(embd_dim, hidden_dim, kernel_dim).double()\n",
    "#sampler = MarginalSampler()\n",
    "sampler = ReinforceSampler(alpha_iter)\n",
    "pred_net = PredNet(embd_dim, hidden_dim, enc_dim, target_dim).double()"
   ]
  },
  {
   "cell_type": "code",
   "execution_count": 8,
   "metadata": {},
   "outputs": [
    {
     "name": "stdout",
     "output_type": "stream",
     "text": [
      "Zero Subset was produced. Re-sample\n",
      "Zero Subset was produced. Re-sample\n",
      "Zero Subset was produced. Re-sample\n",
      "Zero Subset was produced. Re-sample\n",
      "Zero Subset was produced. Re-sample\n",
      "Zero Subset was produced. Re-sample\n",
      "Zero Subset was produced. Re-sample\n",
      "Zero Subset was produced. Re-sample\n",
      "Zero Subset was produced. Re-sample\n",
      "Zero Subset was produced. Re-sample\n",
      "Zero Subset was produced. Re-sample\n",
      "Zero Subset was produced. Re-sample\n",
      "Zero Subset was produced. Re-sample\n",
      "Zero Subset was produced. Re-sample\n",
      "Zero Subset was produced. Re-sample\n",
      "Zero Subset was produced. Re-sample\n"
     ]
    },
    {
     "data": {
      "text/plain": [
       "Variable containing:\n",
       " 1.0636\n",
       "[torch.DoubleTensor of size 1]"
      ]
     },
     "execution_count": 8,
     "metadata": {},
     "output_type": "execute_result"
    }
   ],
   "source": [
    "batch_size = 4\n",
    "max_set_size = 7\n",
    "data = torch.cat([pad_tensor(torch.randn(1,6,embd_dim),1,0,max_set_size),\n",
    "           pad_tensor(torch.randn(1,4,embd_dim),1,0,max_set_size), \n",
    "           pad_tensor(torch.randn(1,7,embd_dim),1,0,max_set_size),\n",
    "        pad_tensor(torch.randn(1,5,embd_dim),1,0,max_set_size)])\n",
    "\n",
    "words = Variable(data).double()\n",
    "target = Variable(torch.randn(batch_size, target_dim)).double()\n",
    "kernel, words = kernel_net(words)\n",
    "sampler.s_ix = kernel_net.s_ix\n",
    "sampler.e_ix = kernel_net.e_ix\n",
    "weighted_words = sampler(kernel, words)\n",
    "pred_net.s_ix = sampler.s_ix\n",
    "pred_net.e_ix = sampler.e_ix\n",
    "pred_net(weighted_words)\n",
    "\n",
    "# trainer = MarginalTrainer(kernel_net, sampler, pred_net)\n",
    "trainer = ReinforceTrainer(kernel_net, sampler, pred_net)\n",
    "trainer.reg = 0\n",
    "trainer.reg_mean = 3\n",
    "trainer.activation = nn.Sigmoid()\n",
    "words = Variable(data).double()\n",
    "trainer(words, target)"
   ]
  },
  {
   "cell_type": "code",
   "execution_count": 9,
   "metadata": {},
   "outputs": [
    {
     "data": {
      "text/plain": [
       "<bound method Module.parameters of ReinforceTrainer (\n",
       "  (kernel_net): KernelVar (\n",
       "    (layer1): Linear (20 -> 20)\n",
       "    (layer2): Linear (20 -> 20)\n",
       "    (layer3): Linear (20 -> 15)\n",
       "    (net): Sequential (\n",
       "      (0): Linear (20 -> 20)\n",
       "      (1): ELU (alpha=1.0)\n",
       "      (2): Linear (20 -> 20)\n",
       "      (3): ELU (alpha=1.0)\n",
       "      (4): Linear (20 -> 15)\n",
       "    )\n",
       "  )\n",
       "  (sampler): ReinforceSampler (\n",
       "  )\n",
       "  (pred_net): PredNet (\n",
       "    (enc_layer1): Linear (10 -> 20)\n",
       "    (enc_layer2): Linear (20 -> 20)\n",
       "    (enc_layer3): Linear (20 -> 50)\n",
       "    (enc_net): Sequential (\n",
       "      (0): Linear (10 -> 20)\n",
       "      (1): ReLU ()\n",
       "      (2): Linear (20 -> 20)\n",
       "      (3): ReLU ()\n",
       "      (4): Linear (20 -> 50)\n",
       "    )\n",
       "    (pred_layer1): Linear (50 -> 20)\n",
       "    (pred_layer2): Linear (20 -> 20)\n",
       "    (pred_layer3): Linear (20 -> 3)\n",
       "    (pred_net): Sequential (\n",
       "      (0): Linear (50 -> 20)\n",
       "      (1): ReLU ()\n",
       "      (2): Linear (20 -> 20)\n",
       "      (3): ReLU ()\n",
       "      (4): Linear (20 -> 3)\n",
       "    )\n",
       "  )\n",
       "  (criterion): MSELoss (\n",
       "  )\n",
       "  (activation): Sigmoid ()\n",
       ")>"
      ]
     },
     "execution_count": 9,
     "metadata": {},
     "output_type": "execute_result"
    }
   ],
   "source": [
    "trainer.parameters"
   ]
  },
  {
   "cell_type": "code",
   "execution_count": null,
   "metadata": {
    "collapsed": true
   },
   "outputs": [],
   "source": [
    "t"
   ]
  }
 ],
 "metadata": {
  "kernelspec": {
   "display_name": "Python 3",
   "language": "python",
   "name": "python3"
  },
  "language_info": {
   "codemirror_mode": {
    "name": "ipython",
    "version": 3
   },
   "file_extension": ".py",
   "mimetype": "text/x-python",
   "name": "python",
   "nbconvert_exporter": "python",
   "pygments_lexer": "ipython3",
   "version": "3.6.1"
  }
 },
 "nbformat": 4,
 "nbformat_minor": 2
}
