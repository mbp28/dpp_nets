{
 "cells": [
  {
   "cell_type": "code",
   "execution_count": 1,
   "metadata": {
    "collapsed": true
   },
   "outputs": [],
   "source": [
    "import torch\n",
    "from dpp_nets.my_torch.simulator2 import SimulClassifier\n",
    "from dpp_nets.helper.plotting import plot_floats, plot_dict\n"
   ]
  },
  {
   "cell_type": "code",
   "execution_count": 21,
   "metadata": {
    "collapsed": true
   },
   "outputs": [],
   "source": [
    "# Global Settings\n",
    "input_set_size = 15\n",
    "aspects_n = 5\n",
    "dtype = torch.DoubleTensor\n",
    "path = '/Users/Max/Desktop/master thesis/latex/figures/plots'\n",
    "\n",
    "fname = None  \n",
    "title = 'Loss over Time'\n",
    "xlabel = 'Training Steps'\n",
    "ylabel = 'BCE Loss'\n",
    "\n",
    "reg=10\n",
    "reg_mean = 5\n",
    "\n",
    "train_steps = 5000\n",
    "batch_size = 20\n",
    "lr = 1e-3\n",
    "reg=100\n",
    "reg_mean = aspects_n\n",
    "sample_iter = 5"
   ]
  },
  {
   "cell_type": "code",
   "execution_count": 28,
   "metadata": {},
   "outputs": [
    {
     "name": "stdout",
     "output_type": "stream",
     "text": [
      "0.6935283873630498\n",
      "0.6949331462553837\n",
      "0.6977764699275221\n",
      "0.7003840180346376\n",
      "0.6938847046519957\n",
      "0.6955219252885648\n",
      "0.6941583453592969\n",
      "0.6984275425247425\n",
      "0.692951659121005\n",
      "0.6902967353865265\n",
      "0.6932891314474422\n",
      "0.6925669248807269\n",
      "0.6922369652563601\n",
      "0.694102889036817\n",
      "0.6965947146504509\n",
      "0.6913673663707125\n",
      "0.6935232961456964\n",
      "0.6941238288854567\n",
      "0.6941578241492777\n",
      "0.694550809588693\n",
      "0.6939755039590857\n",
      "0.6953452069699673\n",
      "0.6913484354433637\n",
      "0.6923046169037924\n",
      "0.6965301613481908\n",
      "0.691726562796692\n",
      "0.6886953943371559\n",
      "0.6953201935942791\n",
      "0.6997115470478218\n",
      "0.6956253261738411\n",
      "0.6910692609325403\n",
      "0.6936393863939047\n",
      "0.6924127410450082\n",
      "0.6929902849502289\n",
      "0.6919744876097392\n",
      "0.6894695064319571\n",
      "0.6944360070178351\n",
      "0.6948873279137301\n",
      "0.6925935984665113\n",
      "0.6950921798354274\n",
      "0.694378125867159\n",
      "0.6929941239646937\n",
      "0.6957523116034262\n",
      "0.6907389515783307\n",
      "0.6919200476628824\n",
      "0.6967573800998675\n",
      "0.6964088859073443\n",
      "0.6901945303541486\n",
      "0.6943866900971192\n",
      "0.6904044151058567\n",
      "Loss: 0.6932608163428556 Pred Acc: 0.5037999999999998 Precision: 0.694766666666668 Recall: 0.6940000000000014 Set Size: 4.995\n"
     ]
    }
   ],
   "source": [
    "# Multi-Sample + Baseline\n",
    "# Reg is already scaled by sample_iter :)\n",
    "torch.manual_seed(0)\n",
    "best = SimulClassifier(input_set_size, aspects_n, dtype)\n",
    "best.train(train_steps, batch_size, 5, baseline=True, lr=1e-2, reg=1, reg_mean=reg_mean)\n",
    "best.evaluate(1000)"
   ]
  },
  {
   "cell_type": "code",
   "execution_count": 25,
   "metadata": {},
   "outputs": [
    {
     "data": {
      "image/png": "[encoded data removed]",
      "text/plain": [
       "<matplotlib.figure.Figure at 0x104275b00>"
      ]
     },
     "metadata": {},
     "output_type": "display_data"
    }
   ],
   "source": [
    "# Plots\n",
    "plot_floats(best.loss_dict, 100, fname, title, xlabel, ylabel)"
   ]
  },
  {
   "cell_type": "code",
   "execution_count": 27,
   "metadata": {},
   "outputs": [
    {
     "data": {
      "image/png": "[encoded data removed]",
      "text/plain": [
       "<matplotlib.figure.Figure at 0x115859710>"
      ]
     },
     "metadata": {},
     "output_type": "display_data"
    }
   ],
   "source": [
    "# Plots\n",
    "plot_floats(pure_reinforce.loss_dict, 100, fname, title, xlabel, ylabel)"
   ]
  },
  {
   "cell_type": "code",
   "execution_count": 26,
   "metadata": {},
   "outputs": [
    {
     "name": "stdout",
     "output_type": "stream",
     "text": [
      "0.4529880745355033\n",
      "0.2923851134887452\n",
      "0.27710466249917776\n",
      "0.1964949544250091\n",
      "0.32073829215040883\n",
      "0.27013666189250585\n",
      "0.2201889488999825\n",
      "0.28268772324739094\n",
      "0.2555192369211301\n",
      "0.3149611828062215\n",
      "0.1401187606730852\n",
      "0.3685850484763339\n",
      "0.1831653672353092\n",
      "0.23182783842535876\n",
      "0.23554200774999448\n",
      "0.1594890970709661\n",
      "0.30922404526198877\n",
      "0.19833164925601723\n",
      "0.2063350899765941\n",
      "0.21846008089411167\n",
      "0.28654518166688947\n",
      "0.1804741477249642\n",
      "0.20884873753586333\n",
      "0.2211317253025585\n",
      "0.19120940752021334\n",
      "0.13936796195111484\n",
      "0.25877924054318124\n",
      "0.1659523584681171\n",
      "0.16421288018081207\n",
      "0.17716988540260098\n",
      "0.22774765539988215\n",
      "0.17732152020210754\n",
      "0.1991138337513238\n",
      "0.21381506171075282\n",
      "0.20447183373101735\n",
      "0.15439799309609878\n",
      "0.19921318466065002\n",
      "0.14321658421440694\n",
      "0.16630973031653332\n",
      "0.18754684637855878\n",
      "0.18623546014432862\n",
      "0.17530044339924872\n",
      "0.22324245225418565\n",
      "0.21739527672168218\n",
      "0.23180402522221272\n",
      "0.16991117129036373\n",
      "0.19903172756229606\n",
      "0.17069542978261715\n",
      "0.18653031982837648\n",
      "0.13831506698426554\n",
      "Loss: 0.19694213099553978 Pred Acc: 0.8683999999999962 Precision: 0.7410333333333334 Recall: 0.7445999999999994 Set Size: 4.996\n"
     ]
    }
   ],
   "source": [
    "# Pure Reinforce\n",
    "torch.manual_seed(0)\n",
    "pure_reinforce = SimulClassifier(30, aspects_n, dtype)\n",
    "pure_reinforce.train(train_steps, batch_size, 1, baseline=False, lr=lr, reg=reg, reg_mean=reg_mean)\n",
    "pure_reinforce.evaluate(1000)"
   ]
  },
  {
   "cell_type": "code",
   "execution_count": 34,
   "metadata": {},
   "outputs": [
    {
     "name": "stdout",
     "output_type": "stream",
     "text": [
      "0.042980946477071076 0.9793999999999983 0.5925 0.9479999999999963 8.0\n"
     ]
    }
   ],
   "source": [
    "plot_floats(pure_reinforce.loss_dict, 10, fname, title, xlabel, ylabel)"
   ]
  },
  {
   "cell_type": "code",
   "execution_count": null,
   "metadata": {
    "collapsed": true
   },
   "outputs": [],
   "source": [
    "# Multi-Sampling\n",
    "torch.manual_seed(0)\n",
    "multi = SimulClassifier(20, aspects_n, dtype)\n",
    "multi.train(train_steps, batch_size, sample_iter, baseline=False, lr=lr, reg=reg, reg_mean=reg_mean)\n",
    "multi.evaluate(1000)\n",
    "plot_floats(multi.loss_dict, 10, fname, title, xlabel, ylabel)"
   ]
  },
  {
   "cell_type": "code",
   "execution_count": null,
   "metadata": {
    "collapsed": true
   },
   "outputs": [],
   "source": []
  },
  {
   "cell_type": "code",
   "execution_count": null,
   "metadata": {
    "collapsed": true
   },
   "outputs": [],
   "source": [
    "\"\"\"\n",
    "========\n",
    "Barchart\n",
    "========\n",
    "\n",
    "A bar plot with errorbars and height labels on individual bars\n",
    "\"\"\"\n",
    "import numpy as np\n",
    "import matplotlib.pyplot as plt\n",
    "\n",
    "N = 5\n",
    "men_means = (20, 35, 30, 35, 27)\n",
    "men_std = (2, 3, 4, 1, 2)\n",
    "\n",
    "ind = np.arange(N)  # the x locations for the groups\n",
    "width = 0.35       # the width of the bars\n",
    "\n",
    "fig, ax = plt.subplots()\n",
    "rects1 = ax.bar(ind, men_means, width, color='r', yerr=men_std)\n",
    "\n",
    "women_means = (25, 32, 34, 20, 25)\n",
    "women_std = (3, 5, 2, 3, 3)\n",
    "rects2 = ax.bar(ind + width, women_means, width, color='y', yerr=women_std)\n",
    "\n",
    "# add some text for labels, title and axes ticks\n",
    "ax.set_ylabel('Scores')\n",
    "ax.set_title('Scores by group and gender')\n",
    "ax.set_xticks(ind + width / 2)\n",
    "ax.set_xticklabels(('G1', 'G2', 'G3', 'G4', 'G5'))\n",
    "\n",
    "ax.legend((rects1[0], rects2[0]), ('Men', 'Women'))\n",
    "\n",
    "\n",
    "def autolabel(rects):\n",
    "    \"\"\"\n",
    "    Attach a text label above each bar displaying its height\n",
    "    \"\"\"\n",
    "    for rect in rects:\n",
    "        height = rect.get_height()\n",
    "        ax.text(rect.get_x() + rect.get_width()/2., 1.05*height,\n",
    "                '%d' % int(height),\n",
    "                ha='center', va='bottom')\n",
    "\n",
    "autolabel(rects1)\n",
    "autolabel(rects2)\n",
    "\n",
    "plt.show()"
   ]
  },
  {
   "cell_type": "code",
   "execution_count": null,
   "metadata": {
    "collapsed": true
   },
   "outputs": [],
   "source": [
    "\"\"\"Examples illustrating the use of plt.subplots().\n",
    "\n",
    "This function creates a figure and a grid of subplots with a single call, while\n",
    "providing reasonable control over how the individual plots are created.  For\n",
    "very refined tuning of subplot creation, you can still use add_subplot()\n",
    "directly on a new figure.\n",
    "\"\"\"\n",
    "\n",
    "import matplotlib.pyplot as plt\n",
    "import numpy as np\n",
    "\n",
    "# Simple data to display in various forms\n",
    "x = np.linspace(0, 2 * np.pi, 400)\n",
    "y = np.sin(x ** 2)\n",
    "\n",
    "plt.close('all')\n",
    "\n",
    "# Just a figure and one subplot\n",
    "f, ax = plt.subplots()\n",
    "ax.plot(x, y)\n",
    "ax.set_title('Simple plot')\n",
    "\n",
    "# Two subplots, the axes array is 1-d\n",
    "f, axarr = plt.subplots(2, sharex=True)\n",
    "axarr[0].plot(x, y)\n",
    "axarr[0].set_title('Sharing X axis')\n",
    "axarr[1].scatter(x, y)\n",
    "\n",
    "# Two subplots, unpack the axes array immediately\n",
    "f, (ax1, ax2) = plt.subplots(1, 2, sharey=True)\n",
    "ax1.plot(x, y)\n",
    "ax1.set_title('Sharing Y axis')\n",
    "ax2.scatter(x, y)\n",
    "\n",
    "# Three subplots sharing both x/y axes\n",
    "f, (ax1, ax2, ax3) = plt.subplots(3, sharex=True, sharey=True)\n",
    "ax1.plot(x, y)\n",
    "ax1.set_title('Sharing both axes')\n",
    "ax2.scatter(x, y)\n",
    "ax3.scatter(x, 2 * y ** 2 - 1, color='r')\n",
    "# Fine-tune figure; make subplots close to each other and hide x ticks for\n",
    "# all but bottom plot.\n",
    "f.subplots_adjust(hspace=0)\n",
    "plt.setp([a.get_xticklabels() for a in f.axes[:-1]], visible=False)\n",
    "\n",
    "# row and column sharing\n",
    "f, ((ax1, ax2), (ax3, ax4)) = plt.subplots(2, 2, sharex='col', sharey='row')\n",
    "ax1.plot(x, y)\n",
    "ax1.set_title('Sharing x per column, y per row')\n",
    "ax2.scatter(x, y)\n",
    "ax3.scatter(x, 2 * y ** 2 - 1, color='r')\n",
    "ax4.plot(x, 2 * y ** 2 - 1, color='r')\n",
    "\n",
    "# Four axes, returned as a 2-d array\n",
    "f, axarr = plt.subplots(2, 2)\n",
    "axarr[0, 0].plot(x, y)\n",
    "axarr[0, 0].set_title('Axis [0,0]')\n",
    "axarr[0, 1].scatter(x, y)\n",
    "axarr[0, 1].set_title('Axis [0,1]')\n",
    "axarr[1, 0].plot(x, y ** 2)\n",
    "axarr[1, 0].set_title('Axis [1,0]')\n",
    "axarr[1, 1].scatter(x, y ** 2)\n",
    "axarr[1, 1].set_title('Axis [1,1]')\n",
    "# Fine-tune figure; hide x ticks for top plots and y ticks for right plots\n",
    "plt.setp([a.get_xticklabels() for a in axarr[0, :]], visible=False)\n",
    "plt.setp([a.get_yticklabels() for a in axarr[:, 1]], visible=False)\n",
    "\n",
    "# Four polar axes\n",
    "f, axarr = plt.subplots(2, 2, subplot_kw=dict(projection='polar'))\n",
    "axarr[0, 0].plot(x, y)\n",
    "axarr[0, 0].set_title('Axis [0,0]')\n",
    "axarr[0, 1].scatter(x, y)\n",
    "axarr[0, 1].set_title('Axis [0,1]')\n",
    "axarr[1, 0].plot(x, y ** 2)\n",
    "axarr[1, 0].set_title('Axis [1,0]')\n",
    "axarr[1, 1].scatter(x, y ** 2)\n",
    "axarr[1, 1].set_title('Axis [1,1]')\n",
    "# Fine-tune figure; make subplots farther from each other.\n",
    "f.subplots_adjust(hspace=0.3)\n",
    "\n",
    "plt.show()"
   ]
  },
  {
   "cell_type": "code",
   "execution_count": null,
   "metadata": {
    "collapsed": true
   },
   "outputs": [],
   "source": [
    "f, ax = plt.subplots()\n",
    "ax.plot(x, y)\n",
    "ax.set_title('Simple plot')\n"
   ]
  },
  {
   "cell_type": "code",
   "execution_count": null,
   "metadata": {
    "collapsed": true
   },
   "outputs": [],
   "source": [
    "plt.show()"
   ]
  },
  {
   "cell_type": "code",
   "execution_count": null,
   "metadata": {
    "collapsed": true
   },
   "outputs": [],
   "source": [
    "f, (ax1, ax2) = plt.subplots(1, 2, sharey=True)\n",
    "ax1.plot(x, y)\n",
    "plt.suptitle('Global Title')\n",
    "ax1.set_title('Sharing Y axis')\n",
    "ax2.scatter(x, y)\n",
    "plt.show()"
   ]
  },
  {
   "cell_type": "code",
   "execution_count": null,
   "metadata": {
    "collapsed": true
   },
   "outputs": [],
   "source": [
    "N = 5\n",
    "men_means = (20, 35, 30, 35, 27)\n",
    "men_std = (2, 3, 4, 1, 2)\n",
    "\n",
    "ind = np.arange(N)  # the x locations for the groups\n",
    "width = 0.35       # the width of the bars\n",
    "\n",
    "fig, ax = plt.subplots()\n",
    "rects1 = ax.bar(ind, men_means, width, color='r', yerr=men_std)\n",
    "\n",
    "women_means = (25, 32, 34, 20, 25)\n",
    "women_std = (3, 5, 2, 3, 3)\n",
    "rects2 = ax.bar(ind + width, women_means, width, color='y', yerr=women_std)\n",
    "\n",
    "# add some text for labels, title and axes ticks\n",
    "ax.set_ylabel('Scores')\n",
    "ax.set_title('Scores by group and gender')\n",
    "ax.set_xticks(ind + width / 2)\n",
    "ax.set_xticklabels(('G1', 'G2', 'G3', 'G4', 'G5'))\n",
    "\n",
    "ax.legend((rects1[0], rects2[0]), ('Men', 'Women'))\n",
    "plt.show()"
   ]
  },
  {
   "cell_type": "code",
   "execution_count": null,
   "metadata": {
    "collapsed": true
   },
   "outputs": [],
   "source": [
    "def autolabel(rects):\n",
    "    for rect in rects:\n",
    "        height = rect.get_height()\n",
    "        ax.text(rect.get_x() + rect.get_width()/2., 1.01*height,\n",
    "                '%.2f' % float(height),\n",
    "                ha='center', va='bottom')\n",
    "reg5 = (0.32)\n",
    "reg6 = (0.3)\n",
    "reg7 = (0.24)\n",
    "reg8 = (0.7)\n",
    "reg9 = (0.75)\n",
    "reg10 = (0.8)\n",
    "\n",
    "linc = 1\n",
    "linm = 0.1\n",
    "ind = [linc + linm * i for i in range(6)]  # the x locations for the groups\n",
    "width = 0.05       # the width of the bars\n",
    "\n",
    "fig, ax = plt.subplots()\n",
    "rects5 = ax.bar(ind[0], reg5, width, color='0.9')\n",
    "rects6 = ax.bar(ind[1], reg6, width, color='0.75')\n",
    "rects7 = ax.bar(ind[2], reg7, width, color='0.6')\n",
    "rects8 = ax.bar(ind[3], reg8, width, color='0.45')\n",
    "rects9 = ax.bar(ind[4], reg9, width, color='0.3')\n",
    "rects10 = ax.bar(ind[5], reg10, width, color='0.15')\n",
    "\n",
    "# add some text for labels, title and axes ticks\n",
    "ax.set_title('Segmentation Task (higher is better)')\n",
    "plt.xticks([], [])\n",
    "#plt.axis('off')\n",
    "ax.set_xlabel('Overall')\n",
    "ax.set_ylim([0,1])\n",
    "ax.set_ylabel('Accuracy')\n",
    "autolabel(rects5)\n",
    "autolabel(rects6)\n",
    "autolabel(rects7)\n",
    "autolabel(rects8)\n",
    "autolabel(rects9)\n",
    "autolabel(rects10)\n",
    "\n",
    "plt.show()"
   ]
  },
  {
   "cell_type": "code",
   "execution_count": null,
   "metadata": {
    "collapsed": true
   },
   "outputs": [],
   "source": [
    "import matplotlib.pyplot as plt\n",
    "import numpy as np\n",
    "\n",
    "def autolabel(rects):\n",
    "    for rect in rects:\n",
    "        height = rect.get_height()\n",
    "        ax.text(rect.get_x() + rect.get_width()/2., 1.01*height,\n",
    "                '%.2f' % float(height),\n",
    "                ha='center', va='bottom')\n",
    "\n",
    "def curate_ax(idx, ax, my_data):\n",
    "    \n",
    "    x_c = 1\n",
    "    x_m = 0.06\n",
    "    x_positioning = [x_c + x_m*i for i in range(len(my_data))]\n",
    "    width = 0.05 # width of bars\n",
    "    colors = ['0.9', '0.75', '0.6', '0.45', '0.3', '0.15']\n",
    "    \n",
    "    rects = []\n",
    "    for i, data in enumerate(my_data):\n",
    "        r = ax.bar(x_positioning[i], data[idx], width, color=colors[i])\n",
    "        rects.append(r)\n",
    "        #autolabel(r)\n",
    "    return rects"
   ]
  },
  {
   "cell_type": "code",
   "execution_count": null,
   "metadata": {
    "collapsed": true
   },
   "outputs": [],
   "source": [
    "my_data = [[0.32, 0.4, 0.39],[0.30, 0.4, 0.2],[0.24,0.4, 0.1],\n",
    "           [0.7,0.4, 0.3],[0.75,0.4, 0.7],[0.8,0.4,0.6]]\n",
    "f, (ax0, ax1, ax2) = plt.subplots(1, 3, sharey=True)\n",
    "\n",
    "# Create subplots subplot\n",
    "rects0 = curate_ax(0, ax0, my_data)\n",
    "curate_ax(1, ax1, my_data)\n",
    "curate_ax(2, ax2, my_data)\n",
    "\n",
    "# Axis and Title Settings\n",
    "plt.suptitle('Learning To Count Clusters')\n",
    "\n",
    "# y-axis \n",
    "ax0.set_yticks([0,1])\n",
    "ax0.set_ylim([0,1])\n",
    "ax0.set_ylabel('Accuracy')\n",
    "\n",
    "# x-axis\n",
    "ax0.set_xticks([],[])\n",
    "ax1.set_xticks([],[])\n",
    "ax2.set_xticks([],[])\n",
    "\n",
    "ax0.set_xlabel('All Sets')\n",
    "#ax0.set_title('y = 5')\n",
    "\n",
    "# Legend\n",
    "#ax.legend((rects1[0], rects2[0]), ('Men', 'Women'))\n",
    "plt.legend((rects0[0], rects0[1], rects0[2], rects0[3], rects0[4], rects0[5]), \n",
    "           ('5', '6', '7','8','9','10'), \n",
    "           loc = 'best', bbox_to_anchor = (0,-0.1,1.1,1),\n",
    "           bbox_transform = plt.gcf().transFigure)\n",
    "plt.show()"
   ]
  }
 ],
 "metadata": {
  "kernelspec": {
   "display_name": "Python 3",
   "language": "python",
   "name": "python3"
  },
  "language_info": {
   "codemirror_mode": {
    "name": "ipython",
    "version": 3
   },
   "file_extension": ".py",
   "mimetype": "text/x-python",
   "name": "python",
   "nbconvert_exporter": "python",
   "pygments_lexer": "ipython3",
   "version": "3.6.2"
  }
 },
 "nbformat": 4,
 "nbformat_minor": 2
}
