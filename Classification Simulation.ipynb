{
 "cells": [
  {
   "cell_type": "code",
   "execution_count": 1,
   "metadata": {
    "collapsed": true
   },
   "outputs": [],
   "source": [
    "import torch\n",
    "from dpp_nets.my_torch.simulator2 import SimulClassifier\n",
    "from dpp_nets.helper.plotting import plot_floats, plot_dict\n"
   ]
  },
  {
   "cell_type": "code",
   "execution_count": 21,
   "metadata": {
    "collapsed": true
   },
   "outputs": [],
   "source": [
    "# Global Settings\n",
    "input_set_size = 15\n",
    "aspects_n = 5\n",
    "dtype = torch.DoubleTensor\n",
    "path = '/Users/Max/Desktop/master thesis/latex/figures/plots'\n",
    "\n",
    "fname = None  \n",
    "title = 'Loss over Time'\n",
    "xlabel = 'Training Steps'\n",
    "ylabel = 'BCELoss'\n",
    "\n",
    "reg=10\n",
    "reg_mean = 5\n",
    "\n",
    "train_steps = 5000\n",
    "batch_size = 20\n",
    "lr = 1e-3\n",
    "reg=100\n",
    "reg_mean = aspects_n\n",
    "sample_iter = 5"
   ]
  },
  {
   "cell_type": "code",
   "execution_count": 23,
   "metadata": {},
   "outputs": [
    {
     "name": "stdout",
     "output_type": "stream",
     "text": [
      "0.3146324043291008\n",
      "0.2509389433191806\n",
      "0.24115184618194171\n",
      "0.19453388161644689\n",
      "0.19788685400730516\n",
      "0.1627976624685453\n",
      "0.17485923313812302\n",
      "0.1720812090439842\n",
      "0.17089567708597714\n",
      "0.1860854892427818\n",
      "0.16875201946509763\n",
      "0.16764194443693178\n",
      "0.13750434637750847\n",
      "0.13651470084341558\n",
      "0.1438523153155891\n",
      "0.14304883459600407\n",
      "0.13663397139767158\n",
      "0.14371937844820523\n",
      "0.11738748144272661\n",
      "0.15754224203575953\n",
      "0.13982902703987843\n",
      "0.12462123534458566\n",
      "0.18624917380453365\n",
      "0.1476378169162045\n",
      "0.1263829783776641\n",
      "0.18108369531777727\n",
      "0.1181084015661828\n",
      "0.12585857447116985\n",
      "0.13269097797478943\n",
      "0.17424595612523386\n",
      "0.11316543890177164\n",
      "0.11603939198053767\n",
      "0.12131542314753878\n",
      "0.1200231712493502\n",
      "0.1551015722121454\n",
      "0.12308858340490084\n",
      "0.11684002641357409\n",
      "0.1305026125970064\n",
      "0.11234764846387903\n",
      "0.13327026110500845\n",
      "0.1106252095578349\n",
      "0.11792319612750153\n",
      "0.11337516839134659\n",
      "0.13977149729294513\n",
      "0.15124667151311477\n",
      "0.16682852740488102\n",
      "0.10527590538997975\n",
      "0.14936526972323758\n",
      "0.15239220142473425\n",
      "0.12485960169751426\n",
      "Loss: 0.11437848659714647 Pred Acc: 0.9651999999999971 Precision: 0.6258000000000026 Recall: 0.6300000000000028 Set Size: 5.037\n"
     ]
    }
   ],
   "source": [
    "# Multi-Sample + Baseline\n",
    "# Reg is already scaled by sample_iter :)\n",
    "torch.manual_seed(0)\n",
    "best = SimulClassifier(input_set_size, aspects_n, dtype)\n",
    "best.train(train_steps, batch_size, 5, baseline=True, lr=1e-3, reg=1, reg_mean=reg_mean)\n",
    "best.evaluate(1000)"
   ]
  },
  {
   "cell_type": "code",
   "execution_count": 25,
   "metadata": {},
   "outputs": [
    {
     "data": {
      "image/png": "[encoded data removed]",
      "text/plain": [
       "<matplotlib.figure.Figure at 0x104275b00>"
      ]
     },
     "metadata": {},
     "output_type": "display_data"
    }
   ],
   "source": [
    "# Plots\n",
    "plot_floats(best.loss_dict, 100, fname, title, xlabel, ylabel)"
   ]
  },
  {
   "cell_type": "code",
   "execution_count": 26,
   "metadata": {},
   "outputs": [
    {
     "name": "stdout",
     "output_type": "stream",
     "text": [
      "0.4529880745355033\n",
      "0.2923851134887452\n",
      "0.27710466249917776\n",
      "0.1964949544250091\n",
      "0.32073829215040883\n",
      "0.27013666189250585\n",
      "0.2201889488999825\n",
      "0.28268772324739094\n",
      "0.2555192369211301\n",
      "0.3149611828062215\n",
      "0.1401187606730852\n",
      "0.3685850484763339\n",
      "0.1831653672353092\n",
      "0.23182783842535876\n",
      "0.23554200774999448\n",
      "0.1594890970709661\n",
      "0.30922404526198877\n",
      "0.19833164925601723\n",
      "0.2063350899765941\n",
      "0.21846008089411167\n",
      "0.28654518166688947\n",
      "0.1804741477249642\n",
      "0.20884873753586333\n",
      "0.2211317253025585\n",
      "0.19120940752021334\n",
      "0.13936796195111484\n",
      "0.25877924054318124\n",
      "0.1659523584681171\n",
      "0.16421288018081207\n",
      "0.17716988540260098\n",
      "0.22774765539988215\n",
      "0.17732152020210754\n",
      "0.1991138337513238\n",
      "0.21381506171075282\n",
      "0.20447183373101735\n",
      "0.15439799309609878\n",
      "0.19921318466065002\n",
      "0.14321658421440694\n",
      "0.16630973031653332\n",
      "0.18754684637855878\n",
      "0.18623546014432862\n",
      "0.17530044339924872\n",
      "0.22324245225418565\n",
      "0.21739527672168218\n",
      "0.23180402522221272\n",
      "0.16991117129036373\n",
      "0.19903172756229606\n",
      "0.17069542978261715\n",
      "0.18653031982837648\n",
      "0.13831506698426554\n",
      "Loss: 0.19694213099553978 Pred Acc: 0.8683999999999962 Precision: 0.7410333333333334 Recall: 0.7445999999999994 Set Size: 4.996\n"
     ]
    }
   ],
   "source": [
    "# Pure Reinforce\n",
    "torch.manual_seed(0)\n",
    "pure_reinforce = SimulClassifier(input_set_size, aspects_n, dtype)\n",
    "pure_reinforce.train(train_steps, batch_size, 1, baseline=False, lr=lr, reg=reg, reg_mean=reg_mean)\n",
    "pure_reinforce.evaluate(1000)"
   ]
  },
  {
   "cell_type": "code",
   "execution_count": 34,
   "metadata": {},
   "outputs": [
    {
     "name": "stdout",
     "output_type": "stream",
     "text": [
      "0.042980946477071076 0.9793999999999983 0.5925 0.9479999999999963 8.0\n"
     ]
    }
   ],
   "source": [
    "plot_floats(pure_reinforce.loss_dict, 10, fname, title, xlabel, ylabel)"
   ]
  },
  {
   "cell_type": "code",
   "execution_count": null,
   "metadata": {
    "collapsed": true
   },
   "outputs": [],
   "source": [
    "# Multi-Sampling\n",
    "torch.manual_seed(0)\n",
    "multi = SimulClassifier(input_set_size, aspects_n, dtype)\n",
    "multi.train(train_steps, batch_size, sample_iter, baseline=False, lr=lr, reg=reg, reg_mean=reg_mean)\n",
    "multi.evaluate(1000)\n",
    "plot_floats(multi.loss_dict, 10, fname, title, xlabel, ylabel)"
   ]
  },
  {
   "cell_type": "code",
   "execution_count": 5,
   "metadata": {
    "collapsed": true
   },
   "outputs": [],
   "source": [
    "### Now the Big Evaluation of the 4 models to see how it looks.\n",
    "\n",
    "# Training Settings for Comparison Purposes\n",
    "train_steps = 2000\n",
    "batch_size = 20\n",
    "lr = 1e-3\n",
    "reg=100\n",
    "reg_mean = aspects_n\n",
    "sample_iter = 5"
   ]
  },
  {
   "cell_type": "code",
   "execution_count": 6,
   "metadata": {},
   "outputs": [
    {
     "name": "stdout",
     "output_type": "stream",
     "text": [
      "Loss: 0.6943795970701252 Pred Acc: 0.5042000000000009 Precision: 0.33003333333333323 Recall: 0.125600000000001 Set Size: 1.901\n",
      "0.32344495337508095\n",
      "0.3403809488259556\n",
      "0.2551450198632196\n",
      "0.21321289068280716\n",
      "0.33658633629629436\n",
      "0.20308584454987968\n",
      "0.19030784663885228\n",
      "0.23489811709862307\n",
      "0.3115316467078893\n",
      "0.248049967705177\n",
      "0.30088114905399566\n",
      "0.17684942685927507\n",
      "0.15226566418685772\n",
      "0.16966393672701918\n",
      "0.1996354619601778\n",
      "0.23716160374196846\n",
      "0.29561865282229827\n",
      "0.22602187002784097\n",
      "0.24287338284317173\n",
      "0.2367733920405707\n",
      "0.2249083200727897\n",
      "0.20570016199267785\n",
      "0.18225324437781926\n",
      "0.1903976020385351\n",
      "0.14780845406479756\n",
      "0.18804707818896566\n",
      "0.24913548013479864\n",
      "0.1886524164166894\n",
      "0.22845100565286622\n",
      "0.20561835216698549\n",
      "0.19236601622303845\n",
      "0.21882809947557647\n",
      "0.14282851141645408\n",
      "0.1924417780334957\n",
      "0.17185483542726726\n",
      "0.17707738331627504\n",
      "0.18993753615148504\n",
      "0.132921498941439\n",
      "0.24015571107275466\n",
      "0.24660104722138784\n",
      "0.1591246444152233\n",
      "0.19468018901802245\n",
      "0.17759491937228009\n",
      "0.2119507981773813\n",
      "0.13845083949336195\n",
      "0.16480914790260384\n",
      "0.13597834532720432\n",
      "0.1441641662910421\n",
      "0.1459568894919761\n",
      "0.16854894488940755\n"
     ]
    }
   ],
   "source": [
    "# Pure Reinforce\n",
    "torch.manual_seed(0)\n",
    "pure_reinforce = SimulClassifier(input_set_size, aspects_n, dtype)\n",
    "pure_reinforce.evaluate(1000)\n",
    "pure_reinforce.train(5000, batch_size, 1, baseline=False, lr=lr, reg=reg, reg_mean=reg_mean)\n",
    "\n",
    "#pure_reinforce.evaluate(1000)\n",
    "#plot_floats(pure_reinforce.loss_dict, 100, fname, title, xlabel, ylabel)"
   ]
  },
  {
   "cell_type": "code",
   "execution_count": 13,
   "metadata": {},
   "outputs": [
    {
     "ename": "NameError",
     "evalue": "name 'pure_reinforce' is not defined",
     "output_type": "error",
     "traceback": [
      "\u001b[0;31m---------------------------------------------------------------------------\u001b[0m",
      "\u001b[0;31mNameError\u001b[0m                                 Traceback (most recent call last)",
      "\u001b[0;32m<ipython-input-13-223173d2ad4f>\u001b[0m in \u001b[0;36m<module>\u001b[0;34m()\u001b[0m\n\u001b[0;32m----> 1\u001b[0;31m \u001b[0mplot_floats\u001b[0m\u001b[0;34m(\u001b[0m\u001b[0mpure_reinforce\u001b[0m\u001b[0;34m.\u001b[0m\u001b[0mloss_dict\u001b[0m\u001b[0;34m,\u001b[0m \u001b[0;36m100\u001b[0m\u001b[0;34m,\u001b[0m \u001b[0mfname\u001b[0m\u001b[0;34m,\u001b[0m \u001b[0mtitle\u001b[0m\u001b[0;34m,\u001b[0m \u001b[0mxlabel\u001b[0m\u001b[0;34m,\u001b[0m \u001b[0mylabel\u001b[0m\u001b[0;34m)\u001b[0m\u001b[0;34m\u001b[0m\u001b[0m\n\u001b[0m",
      "\u001b[0;31mNameError\u001b[0m: name 'pure_reinforce' is not defined"
     ]
    }
   ],
   "source": [
    "plot_floats(pure_reinforce.loss_dict, 100, fname, title, xlabel, ylabel)"
   ]
  },
  {
   "cell_type": "code",
   "execution_count": null,
   "metadata": {
    "collapsed": true
   },
   "outputs": [],
   "source": [
    "# Reinforce Cheat\n",
    "torch.manual_seed(0)\n",
    "reinforce = SimulClassifier(input_set_size, aspects_n, dtype)\n",
    "print(reinforce.signal_clusters)\n",
    "pure_reinforce.evaluate(1000)\n",
    "reinforce.train(train_steps, batch_size, 1, baseline=False, lr=lr*sample_iter, reg=reg*100, reg_mean=reg_mean)\n",
    "\n",
    "reinforce.evaluate(1000)\n",
    "plot_floats(reinforce.loss_dict, 100, fname, title, xlabel, ylabel)"
   ]
  },
  {
   "cell_type": "code",
   "execution_count": 7,
   "metadata": {},
   "outputs": [
    {
     "name": "stdout",
     "output_type": "stream",
     "text": [
      "Loss: 0.6943795970701252 Pred Acc: 0.5042000000000009 Precision: 0.33003333333333323 Recall: 0.125600000000001 Set Size: 1.901\n",
      "0.4062678751828102\n",
      "0.350028124470645\n",
      "0.33704487147088213\n",
      "0.3308736448652337\n",
      "0.2592180302189097\n",
      "0.3010264948884093\n",
      "0.29131841235815803\n",
      "0.224356719824023\n",
      "0.21915550134813586\n",
      "0.24087033888550566\n",
      "0.22446026493372476\n",
      "0.18687385091556866\n",
      "0.20592158175296732\n",
      "0.18595783055927784\n",
      "0.18430574461558216\n",
      "0.19901006929592127\n",
      "0.18731301534092734\n",
      "0.1913748529733582\n",
      "0.16639852623770018\n",
      "0.19480556366950139\n",
      "0.20545953763647348\n",
      "0.17805962205818485\n",
      "0.17302690626472164\n",
      "0.1742265107354738\n",
      "0.17719763062265373\n",
      "0.18967840006896977\n",
      "0.1776779419410851\n",
      "0.17660538997855807\n",
      "0.1858736043754054\n",
      "0.20081463913384415\n",
      "0.20514568751643147\n",
      "0.19850943143258537\n",
      "0.1891593682186421\n",
      "0.18320846984570013\n",
      "0.18346717506251725\n",
      "0.16569667550919434\n",
      "0.19475639981248374\n",
      "0.189407834465841\n",
      "0.18965801610052413\n",
      "0.18300199297633304\n",
      "0.18255861519511893\n",
      "0.18251147517666355\n",
      "0.20232233266312646\n",
      "0.1895307172528389\n",
      "0.17414383916974457\n",
      "0.18455708884114155\n",
      "0.19082917050913953\n",
      "0.16756778712716403\n",
      "0.21222121339415043\n",
      "0.17828136202548056\n",
      "Loss: 0.18244944380547248 Pred Acc: 0.868799999999996 Precision: 0.7338499999999989 Recall: 0.7397999999999991 Set Size: 5.01\n"
     ]
    },
    {
     "ename": "NameError",
     "evalue": "name 'fname' is not defined",
     "output_type": "error",
     "traceback": [
      "\u001b[0;31m---------------------------------------------------------------------------\u001b[0m",
      "\u001b[0;31mNameError\u001b[0m                                 Traceback (most recent call last)",
      "\u001b[0;32m<ipython-input-7-58b55d4c46dc>\u001b[0m in \u001b[0;36m<module>\u001b[0;34m()\u001b[0m\n\u001b[1;32m      6\u001b[0m \u001b[0;34m\u001b[0m\u001b[0m\n\u001b[1;32m      7\u001b[0m \u001b[0mmulti_sample\u001b[0m\u001b[0;34m.\u001b[0m\u001b[0mevaluate\u001b[0m\u001b[0;34m(\u001b[0m\u001b[0;36m1000\u001b[0m\u001b[0;34m)\u001b[0m\u001b[0;34m\u001b[0m\u001b[0m\n\u001b[0;32m----> 8\u001b[0;31m \u001b[0mplot_floats\u001b[0m\u001b[0;34m(\u001b[0m\u001b[0mmulti_sample\u001b[0m\u001b[0;34m.\u001b[0m\u001b[0mloss_dict\u001b[0m\u001b[0;34m,\u001b[0m \u001b[0;36m100\u001b[0m\u001b[0;34m,\u001b[0m \u001b[0mfname\u001b[0m\u001b[0;34m,\u001b[0m \u001b[0mtitle\u001b[0m\u001b[0;34m,\u001b[0m \u001b[0mxlabel\u001b[0m\u001b[0;34m,\u001b[0m \u001b[0mylabel\u001b[0m\u001b[0;34m)\u001b[0m\u001b[0;34m\u001b[0m\u001b[0m\n\u001b[0m",
      "\u001b[0;31mNameError\u001b[0m: name 'fname' is not defined"
     ]
    }
   ],
   "source": [
    "# Multi-Sample\n",
    "torch.manual_seed(0)\n",
    "multi_sample = SimulClassifier(input_set_size, aspects_n, dtype)\n",
    "multi_sample.evaluate(1000)\n",
    "multi_sample.train(5000, batch_size, sample_iter, baseline=False, lr=lr, reg=10*reg, reg_mean=reg_mean)\n",
    "\n",
    "multi_sample.evaluate(1000)\n",
    "plot_floats(multi_sample.loss_dict, 100, fname, title, xlabel, ylabel)"
   ]
  },
  {
   "cell_type": "code",
   "execution_count": 15,
   "metadata": {},
   "outputs": [
    {
     "name": "stdout",
     "output_type": "stream",
     "text": [
      "0.6950955474847648 0.5068000000000008 0.2115333333333336 0.1094000000000008 2.569\n",
      "0.5889608101138654\n",
      "0.526251241398878\n",
      "0.4522018930642123\n",
      "0.46124876848721585\n",
      "0.40151372123295104\n",
      "0.4128158705934485 0.7383999999999995 0.4678553751803746 0.45919999999999883 5.045\n"
     ]
    },
    {
     "ename": "NameError",
     "evalue": "name 'multi_sample' is not defined",
     "output_type": "error",
     "traceback": [
      "\u001b[0;31m---------------------------------------------------------------------------\u001b[0m",
      "\u001b[0;31mNameError\u001b[0m                                 Traceback (most recent call last)",
      "\u001b[0;32m<ipython-input-15-e1644c0c2062>\u001b[0m in \u001b[0;36m<module>\u001b[0;34m()\u001b[0m\n\u001b[1;32m      6\u001b[0m \u001b[0;34m\u001b[0m\u001b[0m\n\u001b[1;32m      7\u001b[0m \u001b[0mbaseline\u001b[0m\u001b[0;34m.\u001b[0m\u001b[0mevaluate\u001b[0m\u001b[0;34m(\u001b[0m\u001b[0;36m1000\u001b[0m\u001b[0;34m)\u001b[0m\u001b[0;34m\u001b[0m\u001b[0m\n\u001b[0;32m----> 8\u001b[0;31m \u001b[0mplot_floats\u001b[0m\u001b[0;34m(\u001b[0m\u001b[0mmulti_sample\u001b[0m\u001b[0;34m.\u001b[0m\u001b[0mloss_dict\u001b[0m\u001b[0;34m,\u001b[0m \u001b[0;36m100\u001b[0m\u001b[0;34m,\u001b[0m \u001b[0mfname\u001b[0m\u001b[0;34m,\u001b[0m \u001b[0mtitle\u001b[0m\u001b[0;34m,\u001b[0m \u001b[0mxlabel\u001b[0m\u001b[0;34m,\u001b[0m \u001b[0mylabel\u001b[0m\u001b[0;34m)\u001b[0m\u001b[0;34m\u001b[0m\u001b[0m\n\u001b[0m",
      "\u001b[0;31mNameError\u001b[0m: name 'multi_sample' is not defined"
     ]
    }
   ],
   "source": [
    "# Multi-Sample + Baseline\n",
    "torch.manual_seed(0)\n",
    "baseline = SimulClassifier(input_set_size, aspects_n, dtype)\n",
    "baseline.evaluate(1000)\n",
    "baseline.train(500, 50, 5, baseline=True, lr=1e-3, reg=1000*reg, reg_mean=reg_mean)\n",
    "\n",
    "baseline.evaluate(1000)"
   ]
  },
  {
   "cell_type": "code",
   "execution_count": 16,
   "metadata": {},
   "outputs": [
    {
     "name": "stdout",
     "output_type": "stream",
     "text": [
      "0.3731610135686763\n",
      "0.3553145508528488\n",
      "0.34086067270917236\n",
      "0.33956755941245986\n",
      "0.31728570964442004\n",
      "0.337115166209783\n",
      "0.3190322096546184\n",
      "0.31605260917965655\n",
      "0.297252605714059\n",
      "0.30984728038693793\n",
      "0.31130676419355374\n",
      "0.3084999710903981\n",
      "0.302122948380376\n",
      "0.30273431700962694\n",
      "0.30455800013175965\n",
      "0.32059119177783696\n",
      "0.28691947445089216\n",
      "0.2896016952891701\n",
      "0.29809628670972094\n",
      "0.3082108132567859\n",
      "0.3030813606146147\n",
      "0.29127345443969976\n",
      "0.29299956248050396\n",
      "0.299465657632889\n",
      "0.2983753898982469\n",
      "0.30453969592012897\n",
      "0.2851784226744246\n",
      "0.2963452219092446\n",
      "0.287104573184523\n",
      "0.2502223421145708\n",
      "0.2541544087806388\n",
      "0.2607174362681777\n",
      "0.23892920015333505\n",
      "0.22734523440373927\n",
      "0.23934206807099923\n",
      "0.2198264224247129\n",
      "0.22332625687686808\n",
      "0.21727228469164703\n",
      "0.211115972161097\n",
      "0.2193421663539576\n",
      "0.20421668929589962\n",
      "0.20025082014161322\n",
      "0.223726643278035\n",
      "0.21482540948334666\n",
      "0.2291210571765414\n",
      "0.222802866144217\n",
      "0.22366384429129835\n",
      "0.20636067290797816\n",
      "0.22344952014775374\n",
      "0.23105984450807565\n"
     ]
    }
   ],
   "source": [
    "baseline.train(5000, 50, 5, baseline=True, lr=1e-3, reg=1000*reg, reg_mean=reg_mean)\n",
    "\n"
   ]
  },
  {
   "cell_type": "code",
   "execution_count": null,
   "metadata": {
    "collapsed": true
   },
   "outputs": [],
   "source": []
  },
  {
   "cell_type": "code",
   "execution_count": null,
   "metadata": {
    "collapsed": true
   },
   "outputs": [],
   "source": []
  },
  {
   "cell_type": "code",
   "execution_count": null,
   "metadata": {
    "collapsed": true
   },
   "outputs": [],
   "source": [
    "\"\"\"\n",
    "========\n",
    "Barchart\n",
    "========\n",
    "\n",
    "A bar plot with errorbars and height labels on individual bars\n",
    "\"\"\"\n",
    "import numpy as np\n",
    "import matplotlib.pyplot as plt\n",
    "\n",
    "N = 5\n",
    "men_means = (20, 35, 30, 35, 27)\n",
    "men_std = (2, 3, 4, 1, 2)\n",
    "\n",
    "ind = np.arange(N)  # the x locations for the groups\n",
    "width = 0.35       # the width of the bars\n",
    "\n",
    "fig, ax = plt.subplots()\n",
    "rects1 = ax.bar(ind, men_means, width, color='r', yerr=men_std)\n",
    "\n",
    "women_means = (25, 32, 34, 20, 25)\n",
    "women_std = (3, 5, 2, 3, 3)\n",
    "rects2 = ax.bar(ind + width, women_means, width, color='y', yerr=women_std)\n",
    "\n",
    "# add some text for labels, title and axes ticks\n",
    "ax.set_ylabel('Scores')\n",
    "ax.set_title('Scores by group and gender')\n",
    "ax.set_xticks(ind + width / 2)\n",
    "ax.set_xticklabels(('G1', 'G2', 'G3', 'G4', 'G5'))\n",
    "\n",
    "ax.legend((rects1[0], rects2[0]), ('Men', 'Women'))\n",
    "\n",
    "\n",
    "def autolabel(rects):\n",
    "    \"\"\"\n",
    "    Attach a text label above each bar displaying its height\n",
    "    \"\"\"\n",
    "    for rect in rects:\n",
    "        height = rect.get_height()\n",
    "        ax.text(rect.get_x() + rect.get_width()/2., 1.05*height,\n",
    "                '%d' % int(height),\n",
    "                ha='center', va='bottom')\n",
    "\n",
    "autolabel(rects1)\n",
    "autolabel(rects2)\n",
    "\n",
    "plt.show()"
   ]
  },
  {
   "cell_type": "code",
   "execution_count": null,
   "metadata": {
    "collapsed": true
   },
   "outputs": [],
   "source": [
    "\"\"\"Examples illustrating the use of plt.subplots().\n",
    "\n",
    "This function creates a figure and a grid of subplots with a single call, while\n",
    "providing reasonable control over how the individual plots are created.  For\n",
    "very refined tuning of subplot creation, you can still use add_subplot()\n",
    "directly on a new figure.\n",
    "\"\"\"\n",
    "\n",
    "import matplotlib.pyplot as plt\n",
    "import numpy as np\n",
    "\n",
    "# Simple data to display in various forms\n",
    "x = np.linspace(0, 2 * np.pi, 400)\n",
    "y = np.sin(x ** 2)\n",
    "\n",
    "plt.close('all')\n",
    "\n",
    "# Just a figure and one subplot\n",
    "f, ax = plt.subplots()\n",
    "ax.plot(x, y)\n",
    "ax.set_title('Simple plot')\n",
    "\n",
    "# Two subplots, the axes array is 1-d\n",
    "f, axarr = plt.subplots(2, sharex=True)\n",
    "axarr[0].plot(x, y)\n",
    "axarr[0].set_title('Sharing X axis')\n",
    "axarr[1].scatter(x, y)\n",
    "\n",
    "# Two subplots, unpack the axes array immediately\n",
    "f, (ax1, ax2) = plt.subplots(1, 2, sharey=True)\n",
    "ax1.plot(x, y)\n",
    "ax1.set_title('Sharing Y axis')\n",
    "ax2.scatter(x, y)\n",
    "\n",
    "# Three subplots sharing both x/y axes\n",
    "f, (ax1, ax2, ax3) = plt.subplots(3, sharex=True, sharey=True)\n",
    "ax1.plot(x, y)\n",
    "ax1.set_title('Sharing both axes')\n",
    "ax2.scatter(x, y)\n",
    "ax3.scatter(x, 2 * y ** 2 - 1, color='r')\n",
    "# Fine-tune figure; make subplots close to each other and hide x ticks for\n",
    "# all but bottom plot.\n",
    "f.subplots_adjust(hspace=0)\n",
    "plt.setp([a.get_xticklabels() for a in f.axes[:-1]], visible=False)\n",
    "\n",
    "# row and column sharing\n",
    "f, ((ax1, ax2), (ax3, ax4)) = plt.subplots(2, 2, sharex='col', sharey='row')\n",
    "ax1.plot(x, y)\n",
    "ax1.set_title('Sharing x per column, y per row')\n",
    "ax2.scatter(x, y)\n",
    "ax3.scatter(x, 2 * y ** 2 - 1, color='r')\n",
    "ax4.plot(x, 2 * y ** 2 - 1, color='r')\n",
    "\n",
    "# Four axes, returned as a 2-d array\n",
    "f, axarr = plt.subplots(2, 2)\n",
    "axarr[0, 0].plot(x, y)\n",
    "axarr[0, 0].set_title('Axis [0,0]')\n",
    "axarr[0, 1].scatter(x, y)\n",
    "axarr[0, 1].set_title('Axis [0,1]')\n",
    "axarr[1, 0].plot(x, y ** 2)\n",
    "axarr[1, 0].set_title('Axis [1,0]')\n",
    "axarr[1, 1].scatter(x, y ** 2)\n",
    "axarr[1, 1].set_title('Axis [1,1]')\n",
    "# Fine-tune figure; hide x ticks for top plots and y ticks for right plots\n",
    "plt.setp([a.get_xticklabels() for a in axarr[0, :]], visible=False)\n",
    "plt.setp([a.get_yticklabels() for a in axarr[:, 1]], visible=False)\n",
    "\n",
    "# Four polar axes\n",
    "f, axarr = plt.subplots(2, 2, subplot_kw=dict(projection='polar'))\n",
    "axarr[0, 0].plot(x, y)\n",
    "axarr[0, 0].set_title('Axis [0,0]')\n",
    "axarr[0, 1].scatter(x, y)\n",
    "axarr[0, 1].set_title('Axis [0,1]')\n",
    "axarr[1, 0].plot(x, y ** 2)\n",
    "axarr[1, 0].set_title('Axis [1,0]')\n",
    "axarr[1, 1].scatter(x, y ** 2)\n",
    "axarr[1, 1].set_title('Axis [1,1]')\n",
    "# Fine-tune figure; make subplots farther from each other.\n",
    "f.subplots_adjust(hspace=0.3)\n",
    "\n",
    "plt.show()"
   ]
  },
  {
   "cell_type": "code",
   "execution_count": null,
   "metadata": {
    "collapsed": true
   },
   "outputs": [],
   "source": [
    "f, ax = plt.subplots()\n",
    "ax.plot(x, y)\n",
    "ax.set_title('Simple plot')\n"
   ]
  },
  {
   "cell_type": "code",
   "execution_count": null,
   "metadata": {
    "collapsed": true
   },
   "outputs": [],
   "source": [
    "plt.show()"
   ]
  },
  {
   "cell_type": "code",
   "execution_count": null,
   "metadata": {
    "collapsed": true
   },
   "outputs": [],
   "source": [
    "f, (ax1, ax2) = plt.subplots(1, 2, sharey=True)\n",
    "ax1.plot(x, y)\n",
    "plt.suptitle('Global Title')\n",
    "ax1.set_title('Sharing Y axis')\n",
    "ax2.scatter(x, y)\n",
    "plt.show()"
   ]
  },
  {
   "cell_type": "code",
   "execution_count": null,
   "metadata": {
    "collapsed": true
   },
   "outputs": [],
   "source": [
    "N = 5\n",
    "men_means = (20, 35, 30, 35, 27)\n",
    "men_std = (2, 3, 4, 1, 2)\n",
    "\n",
    "ind = np.arange(N)  # the x locations for the groups\n",
    "width = 0.35       # the width of the bars\n",
    "\n",
    "fig, ax = plt.subplots()\n",
    "rects1 = ax.bar(ind, men_means, width, color='r', yerr=men_std)\n",
    "\n",
    "women_means = (25, 32, 34, 20, 25)\n",
    "women_std = (3, 5, 2, 3, 3)\n",
    "rects2 = ax.bar(ind + width, women_means, width, color='y', yerr=women_std)\n",
    "\n",
    "# add some text for labels, title and axes ticks\n",
    "ax.set_ylabel('Scores')\n",
    "ax.set_title('Scores by group and gender')\n",
    "ax.set_xticks(ind + width / 2)\n",
    "ax.set_xticklabels(('G1', 'G2', 'G3', 'G4', 'G5'))\n",
    "\n",
    "ax.legend((rects1[0], rects2[0]), ('Men', 'Women'))\n",
    "plt.show()"
   ]
  },
  {
   "cell_type": "code",
   "execution_count": null,
   "metadata": {
    "collapsed": true
   },
   "outputs": [],
   "source": [
    "def autolabel(rects):\n",
    "    for rect in rects:\n",
    "        height = rect.get_height()\n",
    "        ax.text(rect.get_x() + rect.get_width()/2., 1.01*height,\n",
    "                '%.2f' % float(height),\n",
    "                ha='center', va='bottom')\n",
    "reg5 = (0.32)\n",
    "reg6 = (0.3)\n",
    "reg7 = (0.24)\n",
    "reg8 = (0.7)\n",
    "reg9 = (0.75)\n",
    "reg10 = (0.8)\n",
    "\n",
    "linc = 1\n",
    "linm = 0.1\n",
    "ind = [linc + linm * i for i in range(6)]  # the x locations for the groups\n",
    "width = 0.05       # the width of the bars\n",
    "\n",
    "fig, ax = plt.subplots()\n",
    "rects5 = ax.bar(ind[0], reg5, width, color='0.9')\n",
    "rects6 = ax.bar(ind[1], reg6, width, color='0.75')\n",
    "rects7 = ax.bar(ind[2], reg7, width, color='0.6')\n",
    "rects8 = ax.bar(ind[3], reg8, width, color='0.45')\n",
    "rects9 = ax.bar(ind[4], reg9, width, color='0.3')\n",
    "rects10 = ax.bar(ind[5], reg10, width, color='0.15')\n",
    "\n",
    "# add some text for labels, title and axes ticks\n",
    "ax.set_title('Segmentation Task (higher is better)')\n",
    "plt.xticks([], [])\n",
    "#plt.axis('off')\n",
    "ax.set_xlabel('Overall')\n",
    "ax.set_ylim([0,1])\n",
    "ax.set_ylabel('Accuracy')\n",
    "autolabel(rects5)\n",
    "autolabel(rects6)\n",
    "autolabel(rects7)\n",
    "autolabel(rects8)\n",
    "autolabel(rects9)\n",
    "autolabel(rects10)\n",
    "\n",
    "plt.show()"
   ]
  },
  {
   "cell_type": "code",
   "execution_count": null,
   "metadata": {
    "collapsed": true
   },
   "outputs": [],
   "source": [
    "import matplotlib.pyplot as plt\n",
    "import numpy as np\n",
    "\n",
    "def autolabel(rects):\n",
    "    for rect in rects:\n",
    "        height = rect.get_height()\n",
    "        ax.text(rect.get_x() + rect.get_width()/2., 1.01*height,\n",
    "                '%.2f' % float(height),\n",
    "                ha='center', va='bottom')\n",
    "\n",
    "def curate_ax(idx, ax, my_data):\n",
    "    \n",
    "    x_c = 1\n",
    "    x_m = 0.06\n",
    "    x_positioning = [x_c + x_m*i for i in range(len(my_data))]\n",
    "    width = 0.05 # width of bars\n",
    "    colors = ['0.9', '0.75', '0.6', '0.45', '0.3', '0.15']\n",
    "    \n",
    "    rects = []\n",
    "    for i, data in enumerate(my_data):\n",
    "        r = ax.bar(x_positioning[i], data[idx], width, color=colors[i])\n",
    "        rects.append(r)\n",
    "        #autolabel(r)\n",
    "    return rects"
   ]
  },
  {
   "cell_type": "code",
   "execution_count": null,
   "metadata": {
    "collapsed": true
   },
   "outputs": [],
   "source": [
    "my_data = [[0.32, 0.4, 0.39],[0.30, 0.4, 0.2],[0.24,0.4, 0.1],\n",
    "           [0.7,0.4, 0.3],[0.75,0.4, 0.7],[0.8,0.4,0.6]]\n",
    "f, (ax0, ax1, ax2) = plt.subplots(1, 3, sharey=True)\n",
    "\n",
    "# Create subplots subplot\n",
    "rects0 = curate_ax(0, ax0, my_data)\n",
    "curate_ax(1, ax1, my_data)\n",
    "curate_ax(2, ax2, my_data)\n",
    "\n",
    "# Axis and Title Settings\n",
    "plt.suptitle('Learning To Count Clusters')\n",
    "\n",
    "# y-axis \n",
    "ax0.set_yticks([0,1])\n",
    "ax0.set_ylim([0,1])\n",
    "ax0.set_ylabel('Accuracy')\n",
    "\n",
    "# x-axis\n",
    "ax0.set_xticks([],[])\n",
    "ax1.set_xticks([],[])\n",
    "ax2.set_xticks([],[])\n",
    "\n",
    "ax0.set_xlabel('All Sets')\n",
    "#ax0.set_title('y = 5')\n",
    "\n",
    "# Legend\n",
    "#ax.legend((rects1[0], rects2[0]), ('Men', 'Women'))\n",
    "plt.legend((rects0[0], rects0[1], rects0[2], rects0[3], rects0[4], rects0[5]), \n",
    "           ('5', '6', '7','8','9','10'), \n",
    "           loc = 'best', bbox_to_anchor = (0,-0.1,1.1,1),\n",
    "           bbox_transform = plt.gcf().transFigure)\n",
    "plt.show()"
   ]
  },
  {
   "cell_type": "code",
   "execution_count": null,
   "metadata": {
    "collapsed": true
   },
   "outputs": [],
   "source": [
    "sum([(10.5 - i)**2 for i in range(1,21)]) / 20"
   ]
  },
  {
   "cell_type": "code",
   "execution_count": null,
   "metadata": {
    "collapsed": true
   },
   "outputs": [],
   "source": [
    "list(range(1,20))"
   ]
  },
  {
   "cell_type": "code",
   "execution_count": null,
   "metadata": {
    "collapsed": true
   },
   "outputs": [],
   "source": [
    "# Plot a hypercube with points\n",
    "\n",
    "from mpl_toolkits.mplot3d import Axes3D\n",
    "import matplotlib.pyplot as plt\n",
    "import numpy as np\n",
    "from itertools import product, combinations\n",
    "\n",
    "fig = plt.figure()\n",
    "ax = fig.gca(projection='3d')\n",
    "ax.set_aspect(\"equal\")\n",
    "\n",
    "# draw cube\n",
    "r = [0, 1]\n",
    "for s, e in combinations(np.array(list(product(r, r, r))), 2):\n",
    "    if np.sum(np.abs(s-e)) == r[1]-r[0]:\n",
    "        ax.plot3D(*zip(s, e), color=\"black\")\n",
    "\n",
    "# draw a point\n",
    "ax.scatter(np.random.rand(50), np.random.rand(50), np.random.rand(50), color=\"black\", s=10)\n",
    "ax.set_axis_off()\n",
    "plt.savefig('cube.pdf',bbox_inches='tight')\n",
    "plt.show()"
   ]
  },
  {
   "cell_type": "code",
   "execution_count": null,
   "metadata": {
    "collapsed": true
   },
   "outputs": [],
   "source": [
    "def plot_floats(my_def_dict, ma=0, fname=None, title=\"Untitled\", xlabel=\"Unlabelled\", ylabel=\"Unlabelled\"):\n",
    "\n",
    "    if isinstance(my_def_dict, defaultdict):\n",
    "        my_dict = {k: sum(v)/ len(v) for k,v in my_def_dict.items()}\n",
    "    else:\n",
    "    \tmy_dict = my_def_dict\n",
    "\n",
    "    x, y = zip(*sorted(my_dict.items()))\n",
    "\n",
    "    if ma:\n",
    "    \tx = moving_average(np.array(x), ma)\n",
    "    \ty = moving_average(np.array(y), ma)\n",
    "    else: \n",
    "        x = np.array(x)\n",
    "        y = np.array(y)\n",
    "\n",
    "    plt.plot(x, y)\n",
    "    plt.title(title)\n",
    "    plt.ylabel(ylabel)\n",
    "    plt.xlabel(xlabel)\n",
    "\n",
    "    if fname: \n",
    "        plt.savefig(str(fname) + '.pdf', format='pdf')\n",
    "    plt.show()"
   ]
  },
  {
   "cell_type": "code",
   "execution_count": null,
   "metadata": {
    "collapsed": true
   },
   "outputs": [],
   "source": [
    "x = np.arange(100)\n",
    "y1 = np.sin(x)\n",
    "y2 = np.cos(x)"
   ]
  },
  {
   "cell_type": "code",
   "execution_count": null,
   "metadata": {
    "collapsed": true
   },
   "outputs": [],
   "source": [
    "plt.plot(x, y1, label='sin')\n",
    "plt.plot(x, y2, label='cos')\n",
    "plt.legend(loc='upper right')\n",
    "plt.show()"
   ]
  },
  {
   "cell_type": "code",
   "execution_count": null,
   "metadata": {
    "collapsed": true
   },
   "outputs": [],
   "source": [
    "handles, labels = ax.get_legend_handles_labels()\n",
    "\n",
    "# reverse the order\n",
    "ax.legend(handles[::-1], labels[::-1])"
   ]
  },
  {
   "cell_type": "code",
   "execution_count": null,
   "metadata": {
    "collapsed": true
   },
   "outputs": [],
   "source": [
    "5 * None"
   ]
  },
  {
   "cell_type": "code",
   "execution_count": null,
   "metadata": {
    "collapsed": true
   },
   "outputs": [],
   "source": []
  }
 ],
 "metadata": {
  "kernelspec": {
   "display_name": "Python 3",
   "language": "python",
   "name": "python3"
  },
  "language_info": {
   "codemirror_mode": {
    "name": "ipython",
    "version": 3
   },
   "file_extension": ".py",
   "mimetype": "text/x-python",
   "name": "python",
   "nbconvert_exporter": "python",
   "pygments_lexer": "ipython3",
   "version": "3.6.2"
  }
 },
 "nbformat": 4,
 "nbformat_minor": 2
}
