{
 "cells": [
  {
   "cell_type": "code",
   "execution_count": 1,
   "metadata": {
    "collapsed": true
   },
   "outputs": [],
   "source": [
    "import torch\n",
    "\n",
    "from dpp_nets.my_torch.simulator import SimFilter"
   ]
  },
  {
   "cell_type": "code",
   "execution_count": 2,
   "metadata": {
    "collapsed": true
   },
   "outputs": [],
   "source": [
    "network_params = {'set_size': 40, 'n_clusters': 10, 'max_sig': 10}\n",
    "dtype = torch.DoubleTensor"
   ]
  },
  {
   "cell_type": "code",
   "execution_count": 3,
   "metadata": {
    "collapsed": true
   },
   "outputs": [],
   "source": [
    "torch.manual_seed(10)\n",
    "a = SimFilter(network_params, dtype)"
   ]
  },
  {
   "cell_type": "code",
   "execution_count": 4,
   "metadata": {},
   "outputs": [
    {
     "name": "stdout",
     "output_type": "stream",
     "text": [
      "Loss at it  100  is:  195.05\n",
      "Loss at it  200  is:  138.95\n",
      "Loss at it  300  is:  100.7\n",
      "Loss at it  400  is:  103.3\n",
      "Loss at it  500  is:  100.025\n",
      "Loss at it  600  is:  94.875\n",
      "Loss at it  700  is:  85.5\n",
      "Loss at it  800  is:  65.475\n",
      "Loss at it  900  is:  77.925\n",
      "Loss at it  1000  is:  75.275\n"
     ]
    }
   ],
   "source": [
    "torch.manual_seed(14)\n",
    "a.train(1000, 10, 1e-5, 4)"
   ]
  },
  {
   "cell_type": "code",
   "execution_count": null,
   "metadata": {
    "collapsed": true
   },
   "outputs": [],
   "source": [
    "torch.manual_seed(10)\n",
    "a = SimFilter(network_params, dtype)"
   ]
  },
  {
   "cell_type": "code",
   "execution_count": null,
   "metadata": {
    "collapsed": true
   },
   "outputs": [],
   "source": [
    "torch.manual_seed(14)\n",
    "a.train(1000, 10, 1e-5, 4)"
   ]
  },
  {
   "cell_type": "code",
   "execution_count": 3,
   "metadata": {
    "collapsed": true
   },
   "outputs": [],
   "source": [
    "from dpp_nets.my_torch.simulator import SimKDPPDeepSet\n",
    "network_params = {'set_size': 40, 'n_clusters': 10}\n",
    "dtype = torch.DoubleTensor"
   ]
  },
  {
   "cell_type": "code",
   "execution_count": 4,
   "metadata": {
    "collapsed": true
   },
   "outputs": [],
   "source": [
    "sim = SimKDPPDeepSet(network_params, dtype)"
   ]
  },
  {
   "cell_type": "code",
   "execution_count": null,
   "metadata": {},
   "outputs": [
    {
     "name": "stdout",
     "output_type": "stream",
     "text": [
      "Loss at it  100  is:  435.2065574085594\n",
      "Loss at it  200  is:  391.55441993019105\n",
      "Loss at it  300  is:  318.53462535113493\n",
      "Loss at it  400  is:  317.9016917079392\n",
      "Loss at it  500  is:  303.5734380543932\n",
      "Loss at it  600  is:  280.0291490456058\n",
      "Loss at it  700  is:  283.301057388817\n",
      "Loss at it  800  is:  261.0169772292295\n",
      "Loss at it  900  is:  248.7966638255713\n",
      "Loss at it  1000  is:  248.59262123431193\n",
      "Loss at it  1100  is:  260.46403124043985\n",
      "Loss at it  1200  is:  251.11081306481452\n",
      "Loss at it  1300  is:  248.45816139572958\n",
      "Loss at it  1400  is:  243.99184997454648\n",
      "Loss at it  1500  is:  244.03976213840158\n",
      "Loss at it  1600  is:  254.72442688279645\n",
      "Loss at it  1700  is:  238.3406325928701\n",
      "Loss at it  1800  is:  236.23823202083952\n",
      "Loss at it  1900  is:  230.22930301265103\n"
     ]
    }
   ],
   "source": [
    "train_it = 10000\n",
    "batch_size = 10\n",
    "lr = 1e-5\n",
    "alpha_iter = 4\n",
    "\n",
    "sim.train(train_it, batch_size, lr, alpha_iter)"
   ]
  },
  {
   "cell_type": "code",
   "execution_count": null,
   "metadata": {
    "collapsed": true
   },
   "outputs": [],
   "source": []
  }
 ],
 "metadata": {
  "kernelspec": {
   "display_name": "Python 3",
   "language": "python",
   "name": "python3"
  },
  "language_info": {
   "codemirror_mode": {
    "name": "ipython",
    "version": 3
   },
   "file_extension": ".py",
   "mimetype": "text/x-python",
   "name": "python",
   "nbconvert_exporter": "python",
   "pygments_lexer": "ipython3",
   "version": "3.6.1"
  }
 },
 "nbformat": 4,
 "nbformat_minor": 2
}
