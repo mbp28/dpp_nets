{
 "cells": [
  {
   "cell_type": "code",
   "execution_count": 1,
   "metadata": {
    "collapsed": true
   },
   "outputs": [],
   "source": [
    "import torch\n",
    "from dpp_nets.my_torch.simulator2 import SimulRegressor\n",
    "from dpp_nets.helper.plotting import plot_floats, plot_dict"
   ]
  },
  {
   "cell_type": "code",
   "execution_count": 2,
   "metadata": {},
   "outputs": [],
   "source": [
    "# Global Settings\n",
    "input_set_size = 50\n",
    "n_clusters = 20\n",
    "dtype = torch.DoubleTensor\n",
    "path = '/Users/Max/Desktop/master thesis/latex/figures/plots'"
   ]
  },
  {
   "cell_type": "code",
   "execution_count": 9,
   "metadata": {
    "collapsed": true
   },
   "outputs": [
    {
     "name": "stdout",
     "output_type": "stream",
     "text": [
      "33.61708061307238\n",
      "35.90718515581295\n",
      "32.81878125023826\n",
      "31.707427090770057\n",
      "18.78841866111685\n",
      "25.706732095086238\n",
      "27.630969684760725\n",
      "17.381803241929436\n",
      "28.000409399340263\n",
      "28.433861274012475\n",
      "27.234978447207276\n",
      "19.82110360750284\n",
      "15.610748853796855\n",
      "21.285876167696994\n",
      "17.198237342093115\n",
      "27.947943386787937\n",
      "11.765769006140847\n",
      "38.84896611272661\n",
      "27.084085399623444\n",
      "30.940357443248352\n",
      "52.14937412962687\n",
      "27.342086536050537\n",
      "10.341713154436441\n",
      "27.520984967982667\n",
      "15.689546548081239\n",
      "15.991641065076468\n",
      "19.085080353263745\n",
      "24.36309940465346\n",
      "33.6529076210238\n",
      "43.29824567013043\n",
      "28.104553000636628\n",
      "15.301392189968757\n",
      "14.638603099241019\n",
      "17.355229816105247\n",
      "21.841589723604073\n",
      "36.29489305165943\n",
      "14.255111155951813\n",
      "31.83000765096988\n",
      "20.590249956815335\n",
      "13.991943658010772\n",
      "20.500582831673917\n",
      "41.58988417998974\n",
      "18.294746562683915\n",
      "19.49032261870317\n",
      "15.46512265571952\n",
      "9.075121293001457\n",
      "12.862978351601129\n",
      "35.6353856994502\n",
      "25.741936292756208\n",
      "13.015156463007756\n",
      "21.320585505594643\n",
      "14.47589264148009\n",
      "19.38693692924607\n",
      "23.358176689648214\n",
      "32.886901786481936\n",
      "23.893128614537048\n",
      "25.560636725249985\n",
      "16.115572711545923\n",
      "19.38477230022111\n",
      "28.00205534575043\n",
      "24.042958877109452\n",
      "11.670202765100022\n",
      "19.97189466385563\n",
      "30.039936800840916\n",
      "18.314660106804347\n",
      "28.769362384520765\n",
      "27.594159181363512\n",
      "21.45195454353387\n",
      "19.977474313389344\n",
      "16.061255276362793\n",
      "11.993899935713232\n",
      "32.07428567236902\n",
      "22.84634974665576\n",
      "21.811505352863634\n",
      "17.72677171468047\n",
      "14.175878066259049\n",
      "38.39356139812156\n",
      "14.544197303985223\n",
      "20.943706003240386\n",
      "16.97585504192042\n",
      "23.497863269727983\n",
      "15.195357625235156\n",
      "29.25223844948318\n",
      "6.772540560867297\n",
      "20.051666392236875\n",
      "18.945272531889582\n",
      "34.0584336143925\n",
      "19.69752063887602\n",
      "12.069718286292327\n",
      "9.949047274570445\n",
      "7.328698963887153\n",
      "31.174683177326045\n",
      "9.03185745016776\n",
      "17.00396934714343\n",
      "37.92227209686526\n",
      "22.780616936835386\n",
      "15.650124228761058\n",
      "11.923136000259124\n",
      "36.02801005109022\n",
      "17.355159210159268\n"
     ]
    }
   ],
   "source": [
    "# Deterministic Network To see how difficult it is\n",
    "torch.manual_seed(0)\n",
    "deterministic = SimulRegressor(input_set_size, n_clusters, dtype)\n",
    "deterministic.train_deterministic(1000, 10, lr=1e-3)\n",
    "deterministic.train_deterministic(1000, 100, lr=1e-5)\n",
    "deterministic.sample_deterministic()"
   ]
  },
  {
   "cell_type": "code",
   "execution_count": 4,
   "metadata": {},
   "outputs": [
    {
     "name": "stdout",
     "output_type": "stream",
     "text": [
      "19.839701009234965\n"
     ]
    }
   ],
   "source": [
    "#### For the purpose of demonstrating the regularization, we will regularise the models to \n",
    "#### return sets of 20, 15, 10, 5, 20 should be able to become a perfect predictor\n",
    "#### hence train it first to find sensible settings, then find\n",
    "#### we evaluate all models on random set size, sets of size 20, sets of size 15, sets of \n",
    "#### size 10 and sets of size 5\n",
    "\n",
    "# Baseline20 \n",
    "torch.manual_seed(0)\n",
    "baseline20 = SimulRegressor(input_set_size, n_clusters, dtype)\n",
    "\n",
    "# be very radical with enforcing the regularization mean\n",
    "baseline20.train(500, 25, 5, baseline=True, lr=1e-3, reg=100, reg_mean=20)\n",
    "baseline20.train(500, 25, 5, baseline=True, lr=1e-4, reg=100, reg_mean=20)\n",
    "baseline20.train(500, 50, 5, baseline=True, lr=1e-5, reg=100, reg_mean=20)"
   ]
  },
  {
   "cell_type": "code",
   "execution_count": 6,
   "metadata": {
    "collapsed": true
   },
   "outputs": [
    {
     "name": "stdout",
     "output_type": "stream",
     "text": [
      "13.510164944308904\n",
      "3.9888295340516176\n",
      "2.3170818968820464\n",
      "3.9881910197218953\n",
      "3.4270027936141765\n",
      "1.6683213779989443\n",
      "2.175104148054119\n",
      "2.26278540254082\n",
      "3.5475892054381526\n",
      "1.940764514219625\n",
      "2.878468670582894 0.5174283208020061 0.9950810862039581 20.024\n"
     ]
    },
    {
     "data": {
      "text/plain": [
       "(2.878468670582894, 0.5174283208020061, 0.9950810862039581, 20.024)"
      ]
     },
     "execution_count": 6,
     "metadata": {},
     "output_type": "execute_result"
    }
   ],
   "source": [
    "#baseline20.train(1000,25, 5, baseline=True, lr=1e-3, reg=100, reg_mean=20)\n",
    "baseline20.evaluate(1000)"
   ]
  },
  {
   "cell_type": "code",
   "execution_count": 43,
   "metadata": {},
   "outputs": [
    {
     "name": "stdout",
     "output_type": "stream",
     "text": [
      "36.75004976284212\n",
      "16.831089866770963\n",
      "9.319252719159183\n",
      "4.9643296332750335\n",
      "7.9929389881246085\n",
      "2.3214722400929193\n",
      "3.843576582990738\n",
      "3.3439792561680397\n",
      "3.8525916705006624\n",
      "2.4029133929885274\n",
      "2.7680243189915603\n",
      "2.407817446559806\n",
      "2.2788775000316366\n",
      "3.277836445319513\n",
      "2.334154607852371\n"
     ]
    }
   ],
   "source": [
    "# Baseline15\n",
    "torch.manual_seed(0)\n",
    "baseline15 = SimulRegressor(input_set_size, n_clusters, dtype)\n",
    "\n",
    "# be very radical with enforcing the regularization mean\n",
    "baseline15.train(500, 25, 5, baseline=True, lr=1e-3, reg=100, reg_mean=15)\n",
    "baseline15.train(500, 25, 5, baseline=True, lr=1e-4, reg=100, reg_mean=15)\n",
    "baseline15.train(500, 50, 5, baseline=True, lr=1e-5, reg=100, reg_mean=15)"
   ]
  },
  {
   "cell_type": "code",
   "execution_count": 44,
   "metadata": {},
   "outputs": [
    {
     "name": "stdout",
     "output_type": "stream",
     "text": [
      "27.22671399586989\n",
      "33.371237497436404\n",
      "14.348020881023182\n",
      "18.23775005134214\n",
      "15.564636790578703\n",
      "9.302572870485616\n",
      "5.718548342710287\n",
      "6.174169250597637\n",
      "10.20063213778146\n",
      "6.077978463489943\n",
      "7.716928648758271\n",
      "5.26294620013078\n",
      "5.544759444632172\n",
      "6.449175270818957\n",
      "8.123469012806337\n"
     ]
    }
   ],
   "source": [
    "# Baseline10\n",
    "torch.manual_seed(0)\n",
    "baseline10 = SimulRegressor(input_set_size, n_clusters, dtype)\n",
    "\n",
    "# be very radical with enforcing the regularization mean\n",
    "baseline10.train(500, 25, 5, baseline=True, lr=1e-3, reg=100, reg_mean=10)\n",
    "baseline10.train(500, 25, 5, baseline=True, lr=1e-4, reg=100, reg_mean=10)\n",
    "baseline10.train(500, 50, 5, baseline=True, lr=1e-5, reg=100, reg_mean=10)"
   ]
  },
  {
   "cell_type": "code",
   "execution_count": 72,
   "metadata": {},
   "outputs": [],
   "source": [
    "## Holds all the data\n",
    "# We have 4 models, reg 5, 10, 15, 20\n",
    "# each of the four models gets evaluated, on 5, 10, 15, 20, and all sets. \n",
    "\n",
    "model_no = 3\n",
    "eval_no = 5\n",
    "super_loss = [[None for j in range(eval_no)] for i in range(model_no)]\n",
    "super_prec = [[None for j in range(eval_no)] for i in range(model_no)]\n",
    "super_rec = [[None for j in range(eval_no)] for i in range(model_no)]\n",
    "super_size = [[None for j in range(eval_no)] for i in range(model_no)]\n",
    "\n",
    "evals = [None, 5, 10, 15, 20]"
   ]
  },
  {
   "cell_type": "code",
   "execution_count": 73,
   "metadata": {},
   "outputs": [
    {
     "name": "stdout",
     "output_type": "stream",
     "text": [
      "6.926379764063091 0.7270902819402818 0.7707926510108393 10.005\n",
      "3.87324127411406 0.4984474275724247 0.982999999999998 9.951\n",
      "8.178624137853168 0.827522630147632 0.821799999999991 10.003\n",
      "5.716913439161798 0.9300413364413354 0.6180000000000073 10.007\n",
      "20.627833726869223 0.9582648129648105 0.4762999999999964 9.977\n",
      "2.5681902245015413 0.6311181210945904 0.945384316388806 15.014\n",
      "1.1093281638423078 0.33452257864684165 0.9997999999999999 14.956\n",
      "3.1940874655193676 0.6620438186813167 0.9923999999999988 14.997\n",
      "2.6117008538431197 0.931560644257692 0.9346666666666551 15.053\n",
      "9.155778195430962 0.9879333333333306 0.7436500000000009 15.057\n",
      "0.8941971913953438 0.5437331244778613 0.9948419929700504 19.988\n",
      "0.7462410656432855 0.2500822055137846 0.9997999999999999 19.993\n",
      "1.4267825183754341 0.4982506265664161 0.9969999999999994 20.013\n",
      "1.1681137177501604 0.7436647869674191 0.9917333333333309 20.006\n",
      "0.4111907713233611 0.9823320004556895 0.9837500000000047 20.031\n"
     ]
    }
   ],
   "source": [
    "# Evaluate baseline 10 model\n",
    "i = 0 \n",
    "for ix, e in enumerate(evals):\n",
    "    loss, prec, rec, size = baseline10.evaluate_fixed(1000, e)\n",
    "    super_loss[i][ix] = loss\n",
    "    super_prec[i][ix] = prec\n",
    "    super_rec[i][ix] = rec\n",
    "    super_size[i][ix] = size\n",
    "\n",
    "# Evaluate baseline15 model\n",
    "i += 1\n",
    "for ix, e in enumerate(evals):\n",
    "    loss, prec, rec, size = baseline15.evaluate_fixed(1000, e)\n",
    "    super_loss[i][ix] = loss\n",
    "    super_prec[i][ix] = prec\n",
    "    super_rec[i][ix] = rec\n",
    "    super_size[i][ix] = size\n",
    "\n",
    "# Evaluate baseline20 model\n",
    "i +=1\n",
    "for ix, e in enumerate(evals):\n",
    "    loss, prec, rec, size = baseline20.evaluate_fixed(1000, e)\n",
    "    super_loss[i][ix] = loss\n",
    "    super_prec[i][ix] = prec\n",
    "    super_rec[i][ix] = rec\n",
    "    super_size[i][ix] = size"
   ]
  },
  {
   "cell_type": "code",
   "execution_count": 15,
   "metadata": {
    "collapsed": true
   },
   "outputs": [
    {
     "data": {
      "image/png": "[encoded data removed]",
      "text/plain": [
       "<matplotlib.figure.Figure at 0x112d6b668>"
      ]
     },
     "metadata": {},
     "output_type": "display_data"
    }
   ],
   "source": [
    "fname = None # \n",
    "title = 'Loss over Time'\n",
    "xlabel = 'Training Steps'\n",
    "ylabel = 'MSE'\n",
    "\n",
    "plot_floats(deterministic.loss_dict, 300, fname, title, xlabel, ylabel)"
   ]
  },
  {
   "cell_type": "code",
   "execution_count": null,
   "metadata": {
    "scrolled": true
   },
   "outputs": [],
   "source": [
    "### Now the Big Evaluation of the 4 models to see how it looks.\n",
    "\n",
    "# Training Settings for Comparison Purposes\n",
    "train_steps = 1000\n",
    "batch_size = 100\n",
    "lr = 1e-5\n",
    "reg=0.1\n",
    "reg_mean = 10\n",
    "sample_iter = 5\n",
    "\n",
    "# Pure Reinforce\n",
    "torch.manual_seed(0)\n",
    "pure_reinforce = SimulRegressor(input_set_size, n_clusters, dtype)\n",
    "print(pure_reinforce.signal_clusters)\n",
    "pure_reinforce.evaluate(1000)\n",
    "pure_reinforce.train(train_steps, batch_size, 1, baseline=False, lr=lr, reg=reg, reg_mean=reg_mean)\n",
    "\n",
    "pure_reinforce.evaluate(1000)\n",
    "plot_floats(pure_reinforce.loss_dict, 100, fname, title, xlabel, ylabel)"
   ]
  },
  {
   "cell_type": "code",
   "execution_count": null,
   "metadata": {},
   "outputs": [],
   "source": [
    "# Reinforce Cheat\n",
    "torch.manual_seed(0)\n",
    "reinforce = SimulRegressor(input_set_size, n_clusters, dtype)\n",
    "pure_reinforce.evaluate(1000)\n",
    "reinforce.train(train_steps, batch_size, 1, baseline=False, lr=lr*sample_iter, reg=reg, reg_mean=reg_mean)\n",
    "\n",
    "reinforce.evaluate(1000)\n",
    "plot_floats(reinforce.loss_dict, 100, fname, title, xlabel, ylabel)"
   ]
  },
  {
   "cell_type": "code",
   "execution_count": null,
   "metadata": {
    "collapsed": true
   },
   "outputs": [],
   "source": [
    "# Multi-Sample\n",
    "torch.manual_seed(0)\n",
    "multi_sample = SimulRegressor(input_set_size, n_clusters, dtype)\n",
    "multi_sample.evaluate(1000)\n",
    "multi_sample.train(train_steps, batch_size, sample_iter, baseline=False, lr=lr, reg=reg, reg_mean=reg_mean)\n",
    "\n",
    "multi_sample.evaluate(1000)\n",
    "plot_floats(multi_sample.loss_dict, 100, fname, title, xlabel, ylabel)"
   ]
  },
  {
   "cell_type": "code",
   "execution_count": null,
   "metadata": {
    "scrolled": true
   },
   "outputs": [],
   "source": [
    "# Multi-Sample + Baseline\n",
    "lr = 1e-3\n",
    "torch.manual_seed(0)\n",
    "baseline = SimulRegressor(input_set_size, n_clusters, dtype)\n",
    "baseline.evaluate(1000)\n",
    "baseline.train(train_steps, batch_size, sample_iter, baseline=True, lr=lr, reg=reg, reg_mean=reg_mean)\n",
    "\n",
    "baseline.evaluate(1000)\n",
    "plot_floats(baseline.loss_dict, 100, fname, title, xlabel, ylabel)"
   ]
  },
  {
   "cell_type": "code",
   "execution_count": null,
   "metadata": {},
   "outputs": [],
   "source": []
  },
  {
   "cell_type": "code",
   "execution_count": 182,
   "metadata": {
    "collapsed": true
   },
   "outputs": [],
   "source": [
    "import matplotlib.pyplot as plt\n",
    "import numpy as np\n",
    "\n",
    "def autolabel(rects, ax):\n",
    "    for rect in rects:\n",
    "        height = rect.get_height()\n",
    "        ax.text(rect.get_x() + rect.get_width()/2., 1.01*height,\n",
    "                '%.2f' % float(height),\n",
    "                ha='center', va='bottom')\n",
    "\n",
    "def curate_ax(idx, ax, my_data):\n",
    "    \n",
    "    x_c = 1\n",
    "    x_m = 0.5\n",
    "    x_positioning = [x_c + x_m*i for i in range(len(my_data))]\n",
    "    width = 0.3 # width of bars\n",
    "    colors = ['deepskyblue', 'dodgerblue', 'royalblue']\n",
    "    labels = ['label0','label1','label2','label3','label4','label5']\n",
    "    \n",
    "    rects = []\n",
    "    for i, data in enumerate(my_data):\n",
    "        r = ax.bar(x_positioning[i], data[idx], width, color=colors[i], label=labels[i])\n",
    "        rects.append(r)\n",
    "        # autolabel(r, ax)\n",
    "    return rects"
   ]
  },
  {
   "cell_type": "code",
   "execution_count": 174,
   "metadata": {},
   "outputs": [
    {
     "data": {
      "image/png": "[encoded data removed]",
      "text/plain": [
       "<matplotlib.figure.Figure at 0x11dd5b7f0>"
      ]
     },
     "metadata": {},
     "output_type": "display_data"
    }
   ],
   "source": [
    "f, (ax0, ax1, ax2, ax3, ax4) = plt.subplots(1, 5, sharey=True)\n",
    "\n",
    "# Create subplots subplot\n",
    "rects0 = curate_ax(0, ax0, super_loss)\n",
    "curate_ax(1, ax1, super_loss)\n",
    "curate_ax(2, ax2, super_loss)\n",
    "curate_ax(3, ax3, super_loss)\n",
    "curate_ax(4, ax4, super_loss)\n",
    "\n",
    "\n",
    "# Axis and Title Settings\n",
    "head = plt.suptitle('Learning To Count Clusters')\n",
    "\n",
    "# y-axis \n",
    "ax0.set_yticks([0,5,10,15,20,25])\n",
    "ax0.set_ylim([0,25])\n",
    "ax0.set_ylabel('Accuracy')\n",
    "\n",
    "# x-axis\n",
    "ax0.set_xticks([],[])\n",
    "ax1.set_xticks([],[])\n",
    "ax2.set_xticks([],[])\n",
    "ax3.set_xticks([],[])\n",
    "ax4.set_xticks([],[])\n",
    "#ax5.set_xticks([],[])\n",
    "\n",
    "ax0.set_xlabel('All Sets')\n",
    "ax1.set_xlabel('y = 5')\n",
    "ax2.set_xlabel('y = 10')\n",
    "ax3.set_xlabel('y = 15')\n",
    "ax4.set_xlabel('y = 20')\n",
    "#ax0.set_title('y = 5')\n",
    "\n",
    "# Legend\n",
    "# Legend\n",
    "lgd = plt.legend((rects0[0], rects0[1], rects0[2]), \n",
    "           (r'$\\lambda = 10$', r'$\\lambda = 15$', r'$\\lambda = 20$'), \n",
    "           loc = 'best', bbox_to_anchor = (0,-0.1,1.1,1),\n",
    "                 fontsize=9, numpoints=3, handlelength=1,\n",
    "           bbox_transform = plt.gcf().transFigure)\n",
    "plt.savefig('odl.pdf', bbox_extra_artists=(lgd,head), bbox_inches='tight')\n",
    "plt.show()"
   ]
  },
  {
   "cell_type": "code",
   "execution_count": 99,
   "metadata": {},
   "outputs": [
    {
     "data": {
      "text/plain": [
       "[[6.926379764063091,\n",
       "  3.87324127411406,\n",
       "  8.178624137853168,\n",
       "  5.716913439161798,\n",
       "  20.627833726869223],\n",
       " [2.5681902245015413,\n",
       "  1.1093281638423078,\n",
       "  3.1940874655193676,\n",
       "  2.6117008538431197,\n",
       "  9.155778195430962],\n",
       " [0.8941971913953438,\n",
       "  0.7462410656432855,\n",
       "  1.4267825183754341,\n",
       "  1.1681137177501604,\n",
       "  0.4111907713233611]]"
      ]
     },
     "execution_count": 99,
     "metadata": {},
     "output_type": "execute_result"
    }
   ],
   "source": [
    "super_loss"
   ]
  },
  {
   "cell_type": "code",
   "execution_count": 192,
   "metadata": {},
   "outputs": [
    {
     "data": {
      "image/png": "[encoded data removed]",
      "text/plain": [
       "<matplotlib.figure.Figure at 0x11ff4c198>"
      ]
     },
     "metadata": {},
     "output_type": "display_data"
    }
   ],
   "source": [
    "f, axarr = plt.subplots(4, 5, sharey='row', sharex='col')\n",
    "\n",
    "ax0 = axarr[0,0]\n",
    "ax1 = axarr[0,1]\n",
    "ax2 = axarr[0,2]\n",
    "ax3 = axarr[0,3]\n",
    "ax4 = axarr[0,4]\n",
    "\n",
    "ax5 = axarr[1,0]\n",
    "ax6 = axarr[1,1]\n",
    "ax7 = axarr[1,2]\n",
    "ax8 = axarr[1,3]\n",
    "ax9 = axarr[1,4]\n",
    "\n",
    "ax10 = axarr[2,0]\n",
    "ax11 = axarr[2,1]\n",
    "ax12 = axarr[2,2]\n",
    "ax13 = axarr[2,3]\n",
    "ax14 = axarr[2,4]\n",
    "\n",
    "ax15 = axarr[3,0]\n",
    "ax16 = axarr[3,1]\n",
    "ax17 = axarr[3,2]\n",
    "ax18 = axarr[3,3]\n",
    "ax19 = axarr[3,4]\n",
    "\n",
    "# Create subplots subplot\n",
    "rects0 = curate_ax(0, ax0, super_loss)\n",
    "curate_ax(1, ax1, super_loss)\n",
    "curate_ax(2, ax2, super_loss)\n",
    "curate_ax(3, ax3, super_loss)\n",
    "curate_ax(4, ax4, super_loss)\n",
    "\n",
    "curate_ax(0, ax5, super_prec)\n",
    "curate_ax(1, ax6, super_prec)\n",
    "curate_ax(2, ax7, super_prec)\n",
    "curate_ax(3, ax8, super_prec)\n",
    "curate_ax(4, ax9, super_prec)\n",
    "\n",
    "curate_ax(0, ax10, super_rec)\n",
    "curate_ax(1, ax11, super_rec)\n",
    "curate_ax(2, ax12, super_rec)\n",
    "curate_ax(3, ax13, super_rec)\n",
    "curate_ax(4, ax14, super_rec)\n",
    "\n",
    "curate_ax(0, ax15, super_size)\n",
    "curate_ax(1, ax16, super_size)\n",
    "curate_ax(2, ax17, super_size)\n",
    "curate_ax(3, ax18, super_size)\n",
    "curate_ax(4, ax19, super_size)\n",
    "\n",
    "# Axis and Title Settings\n",
    "#head = plt.suptitle('Learning To Count Clusters')\n",
    "\n",
    "# y-axis \n",
    "ax0.set_yticks([0,5,10,15,20,25])\n",
    "ax0.set_yticklabels(['0','','','','','25'],size=8)\n",
    "ax0.set_ylim([0,25])\n",
    "ax0.set_ylabel('MSE', size=9)\n",
    "ax0.get_yaxis().set_label_coords(-0.35,0.5)\n",
    "\n",
    "ax5.set_yticks([0,0.25,0.5,0.75,1])\n",
    "ax5.set_yticklabels(['0','','','','1'],size=8)\n",
    "ax5.set_ylim([0,1])\n",
    "ax5.set_ylabel('Precision', size=9)\n",
    "ax5.get_yaxis().set_label_coords(-0.35,0.5)\n",
    "\n",
    "\n",
    "ax10.set_yticks([0,0.25,0.5,0.75,1])\n",
    "ax10.set_yticklabels(['0','','','','1'],size=8)\n",
    "ax10.set_ylim([0,1])\n",
    "ax10.set_ylabel('Recall', size=9)\n",
    "ax10.get_yaxis().set_label_coords(-0.35,0.5)\n",
    "\n",
    "\n",
    "ax15.set_yticks([0,5,10,15,20])\n",
    "ax15.set_yticklabels(['0','','','','20'],size=8)\n",
    "ax15.set_ylim([0,20])\n",
    "ax15.set_ylabel('Cardinality', size=9)\n",
    "ax15.get_yaxis().set_label_coords(-0.35,0.5)\n",
    "\n",
    "# x-axis\n",
    "ax0.set_xticks([],[])\n",
    "ax1.set_xticks([],[])\n",
    "ax2.set_xticks([],[])\n",
    "ax3.set_xticks([],[])\n",
    "ax4.set_xticks([],[])\n",
    "#ax5.set_xticks([],[])\n",
    "\n",
    "ax15.set_xlabel('Any $y$',size=9)\n",
    "ax15.get_xaxis().set_label_coords(0.5,-0.2)\n",
    "ax16.set_xlabel(r'$y = 5$', size=9)\n",
    "ax16.get_xaxis().set_label_coords(0.5,-0.2)\n",
    "\n",
    "ax17.set_xlabel(r'$y = 10$', size=9)\n",
    "ax17.get_xaxis().set_label_coords(0.5,-0.2)\n",
    "\n",
    "ax18.set_xlabel(r'$y = 15$', size=9)\n",
    "ax18.get_xaxis().set_label_coords(0.5,-0.2)\n",
    "\n",
    "ax19.set_xlabel(r'$y = 20$', size=9)\n",
    "ax19.get_xaxis().set_label_coords(0.5,-0.2)\n",
    "\n",
    "\n",
    "# Legend\n",
    "lgd = plt.legend((rects0[0], rects0[1], rects0[2]), \n",
    "           (r'$\\lambda = 10$', r'$\\lambda = 15$', r'$\\lambda = 20$'), \n",
    "           loc = 'best', bbox_to_anchor = (0,-0.1,1.07,1),\n",
    "                 fontsize=9,handlelength =1,\n",
    "           bbox_transform = plt.gcf().transFigure)\n",
    "\n",
    "f.subplots_adjust(hspace=0.25)\n",
    "\n",
    "plt.savefig('no_header.pdf', bbox_extra_artists=(lgd,), bbox_inches='tight')\n",
    "plt.show()"
   ]
  },
  {
   "cell_type": "code",
   "execution_count": 185,
   "metadata": {},
   "outputs": [
    {
     "data": {
      "text/plain": [
       "[[6.926379764063091,\n",
       "  3.87324127411406,\n",
       "  8.178624137853168,\n",
       "  5.716913439161798,\n",
       "  20.627833726869223],\n",
       " [2.5681902245015413,\n",
       "  1.1093281638423078,\n",
       "  3.1940874655193676,\n",
       "  2.6117008538431197,\n",
       "  9.155778195430962],\n",
       " [0.8941971913953438,\n",
       "  0.7462410656432855,\n",
       "  1.4267825183754341,\n",
       "  1.1681137177501604,\n",
       "  0.4111907713233611]]"
      ]
     },
     "execution_count": 185,
     "metadata": {},
     "output_type": "execute_result"
    }
   ],
   "source": [
    "super_loss"
   ]
  },
  {
   "cell_type": "code",
   "execution_count": 186,
   "metadata": {
    "collapsed": true
   },
   "outputs": [],
   "source": [
    "import pickle\n",
    "\n",
    "with open('super_loss.pkl', 'wb') as f:\n",
    "    pickle.dump(super_loss, f)"
   ]
  },
  {
   "cell_type": "code",
   "execution_count": 187,
   "metadata": {
    "collapsed": true
   },
   "outputs": [],
   "source": [
    "with open('super_prec.pkl', 'wb') as f:\n",
    "    pickle.dump(super_prec, f)"
   ]
  },
  {
   "cell_type": "code",
   "execution_count": 188,
   "metadata": {
    "collapsed": true
   },
   "outputs": [],
   "source": [
    "with open('super_rec.pkl', 'wb') as f:\n",
    "    pickle.dump(super_rec, f)"
   ]
  },
  {
   "cell_type": "code",
   "execution_count": 189,
   "metadata": {
    "collapsed": true
   },
   "outputs": [],
   "source": [
    "with open('super_size.pkl', 'wb') as f:\n",
    "    pickle.dump(super_size, f)"
   ]
  },
  {
   "cell_type": "code",
   "execution_count": null,
   "metadata": {
    "collapsed": true
   },
   "outputs": [],
   "source": []
  }
 ],
 "metadata": {
  "kernelspec": {
   "display_name": "Python 3",
   "language": "python",
   "name": "python3"
  },
  "language_info": {
   "codemirror_mode": {
    "name": "ipython",
    "version": 3
   },
   "file_extension": ".py",
   "mimetype": "text/x-python",
   "name": "python",
   "nbconvert_exporter": "python",
   "pygments_lexer": "ipython3",
   "version": "3.6.2"
  }
 },
 "nbformat": 4,
 "nbformat_minor": 2
}
