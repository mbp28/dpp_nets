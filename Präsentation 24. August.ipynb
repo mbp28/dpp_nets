{
 "cells": [
  {
   "cell_type": "code",
   "execution_count": 5,
   "metadata": {
    "collapsed": true
   },
   "outputs": [],
   "source": [
    "import argparse\n",
    "import os\n",
    "import shutil\n",
    "\n",
    "import torch\n",
    "import torch.nn as nn\n",
    "from torch.autograd import Variable\n",
    "from torch.utils.data.dataloader import DataLoader\n",
    "\n",
    "from dpp_nets.utils.io import make_embd, make_tensor_dataset\n",
    "from dpp_nets.layers.layers import DeepSetBaseline\n",
    "\n",
    "parser = argparse.ArgumentParser(description='Baseline (Deep Sets) Trainer')\n",
    "\n",
    "parser.add_argument('-a', '--aspect', type=str, choices=['aspect1', 'aspect2', 'aspect3', 'all'],\n",
    "                    help='what is the target?', required=True)\n",
    "parser.add_argument('--remote', type=int,\n",
    "                    help='training locally or on cluster?', required=True)\n",
    "\n",
    "parser.add_argument('--data_path_local', type=str, default='/Users/Max/data/beer_reviews',\n",
    "                    help='where is the data folder locally?')\n",
    "parser.add_argument('--data_path_remote', type=str, default='/cluster/home/paulusm/data/beer_reviews',\n",
    "                    help='where is the data folder?')\n",
    "\n",
    "parser.add_argument('--ckp_path_local', type=str, default='/Users/Max/checkpoints/beer_reviews',\n",
    "                    help='where is the data folder locally?')\n",
    "\n",
    "parser.add_argument('--ckp_path_remote', type=str, default='/cluster/home/paulusm/checkpoints/beer_reviews',\n",
    "                    help='where is the data folder?')\n",
    "\n",
    "parser.add_argument('-b', '--batch-size', default=50, type=int,\n",
    "                    metavar='N', help='mini-batch size (default: 50)')\n",
    "parser.add_argument('--epochs', default=100, type=int, metavar='N',\n",
    "                    help='number of total epochs to run')\n",
    "#parser.add_argument('--lr-k', '--learning-rate-k', default=0.1, type=float,\n",
    "#                    metavar='LRk', help='initial learning rate for kernel net')\n",
    "#parser.add_argument('--lr-p', '--learning-rate-p', default=0.1, type=float,\n",
    "#                    metavar='LRp', help='initial learning rate for pred net')\n",
    "parser.add_argument('--lr', '--learning-rate', default=1e-4, type=float,\n",
    "                    metavar='LR', help='initial learning rate for baseline')\n",
    "#parser.add_argument('--reg', type=float, required=True,\n",
    "#                    metavar='reg', help='regularization constant')\n",
    "#parser.add_argument('--reg-mean', type=float, required=True,\n",
    "#                    metavar='reg_mean', help='regularization_mean')\n",
    "\n",
    "def main():\n",
    "\n",
    "    global args, lowest_loss\n",
    "\n",
    "    args = parser.parse_args()\n",
    "    lowest_loss = 100 # arbitrary high number as upper bound for loss\n",
    "\n",
    "    ### Load data\n",
    "    if args.remote:\n",
    "        # print('training remotely')\n",
    "        train_path = os.path.join(args.data_path_remote, str.join(\".\",['reviews', args.aspect, 'train.txt.gz']))\n",
    "        val_path   = os.path.join(args.data_path_remote, str.join(\".\",['reviews', args.aspect, 'heldout.txt.gz']))\n",
    "        embd_path = os.path.join(args.data_path_remote, 'review+wiki.filtered.200.txt.gz')\n",
    "\n",
    "    else:\n",
    "        # print('training locally')\n",
    "        train_path = os.path.join(args.data_path_local, str.join(\".\",['reviews', args.aspect, 'train.txt.gz']))\n",
    "        val_path   = os.path.join(args.data_path_local, str.join(\".\",['reviews', args.aspect, 'heldout.txt.gz']))\n",
    "        embd_path = os.path.join(args.data_path_local, 'review+wiki.filtered.200.txt.gz')\n",
    "\n",
    "    embd, word_to_ix = make_embd(embd_path)\n",
    "    train_set = make_tensor_dataset(train_path, word_to_ix)\n",
    "    val_set = make_tensor_dataset(val_path, word_to_ix)\n",
    "    print(\"loaded data\")\n",
    "\n",
    "    torch.manual_seed(0)\n",
    "    train_loader = DataLoader(train_set, args.batch_size, shuffle=True)\n",
    "    val_loader = DataLoader(val_set, args.batch_size)\n",
    "    print(\"loader defined\")\n",
    "\n",
    "    ### Build model\n",
    "    # Network parameters\n",
    "    embd_dim = embd.weight.size(1)\n",
    "    hidden_dim = 500\n",
    "    enc_dim = 200\n",
    "    if args.aspect == 'all':\n",
    "        target_dim = 3\n",
    "    else: \n",
    "        target_dim = 1\n",
    "\n",
    "    # Model\n",
    "    torch.manual_seed(0)\n",
    "    trainer = MarginalTrainer(embd, hidden_dim, kernel_dim, enc_dim, target_dim)\n",
    "    trainer.activation = nn.Sigmoid()\n",
    "    trainer.reg = args.reg\n",
    "    trainer.reg_mean = args.reg_mean\n",
    "    print(\"created trainer\")\n",
    "\n",
    "    # Set-up Training\n",
    "    params = [{'params': trainer.kernel_net.parameters(), 'lr': args.lr_k},\n",
    "              {'params': trainer.pred_net.parameters(),   'lr': args.lr_p}]\n",
    "    optimizer = torch.optim.Adam(params)\n",
    "    print('set-up optimizer')\n",
    "\n",
    "    ### Loop\n",
    "    torch.manual_seed(0)\n",
    "    print(\"started loop\")\n",
    "    for epoch in range(args.epochs):\n",
    "\n",
    "        adjust_learning_rate(optimizer, epoch)\n",
    "\n",
    "        train(train_loader, trainer, optimizer)        \n",
    "        loss, pred_loss, reg_loss = validate(val_loader, trainer)\n",
    "        \n",
    "        log(epoch, loss, pred_loss, reg_loss)\n",
    "        print(\"logged\")\n",
    "\n",
    "        is_best = pred_loss < lowest_loss\n",
    "        lowest_loss = min(pred_loss, lowest_loss)    \n",
    "        save = {'epoch:': epoch + 1, \n",
    "                'model': 'Marginal Trainer',\n",
    "                'state_dict': trainer.state_dict(),\n",
    "                'lowest_loss': lowest_loss,\n",
    "                'optimizer': optimizer.state_dict()} \n",
    "\n",
    "        save_checkpoint(save, is_best)\n",
    "        print(\"saved a checkpoint\")\n",
    "\n",
    "    print('*'*20, 'SUCCESS','*'*20)\n",
    "\n",
    "\n",
    "def train(loader, model, criterion, optimizer):\n",
    "\n",
    "    model.train()\n",
    "\n",
    "    for t, (review, target) in enumerate(loader):\n",
    "        review = Variable(review)\n",
    "\n",
    "        if args.aspect == 'all':\n",
    "            target = Variable(target[:,:3])\n",
    "        else:\n",
    "            target = Variable(target[:,int(args.aspect[-1])])\n",
    "\n",
    "        pred = model(review)\n",
    "        loss = criterion(pred, target)\n",
    "\n",
    "        optimizer.zero_grad()\n",
    "        loss.backward()\n",
    "        optimizer.step()\n",
    "        print(\"trained one batch\")\n",
    "\n",
    "def validate(loader, model, criterion):\n",
    "\n",
    "    model.eval()\n",
    "\n",
    "    total_loss = 0.0\n",
    "\n",
    "    for i, (review, target) in enumerate(loader, 1):\n",
    "\n",
    "        review = Variable(review, volatile=True)\n",
    "\n",
    "        if args.aspect == 'all':\n",
    "            target = Variable(target[:,:3], volatile=True)\n",
    "        else:\n",
    "            target = Variable(target[:,int(args.aspect[-1])], volatile=True)\n",
    "\n",
    "        pred = model(review)\n",
    "        loss = criterion(pred, target)\n",
    "        \n",
    "        delta = loss.data[0] - total_loss\n",
    "        total_loss += (delta / i)\n",
    "\n",
    "        print(\"validated one batch\")\n",
    "\n",
    "    return total_loss\n",
    "\n",
    "def log(epoch, loss):\n",
    "    string = str.join(\" | \", ['Epoch: %d' % (epoch), 'Validation Loss: %.5f' % (loss)])\n",
    "\n",
    "    if args.remote:\n",
    "        destination = os.path.join(args.ckp_path_remote, args.aspect + str(args.lr) + 'baseline_log.txt')\n",
    "    else:\n",
    "        destination = os.path.join(args.ckp_path_local, args.aspect + str(args.lr) + 'baseline_log.txt')\n",
    "\n",
    "    with open(destination, 'a') as log:\n",
    "        log.write(string + '\\n')\n",
    "\n",
    "def adjust_learning_rate(optimizer, epoch):\n",
    "    \"\"\"Sets the learning rate to the initial LR multiplied by factor 0.1 for every 20 epochs\"\"\"\n",
    "    lr = args.lr * (0.1 ** (epoch // 25))\n",
    "    for param_group in optimizer.param_groups:\n",
    "        param_group['lr'] = lr\n",
    "\n",
    "def save_checkpoint(state, is_best, filename='baseline_checkpoint.pth.tar'):\n",
    "    \"\"\"\n",
    "    State is a dictionary that cotains valuable information to be saved.\n",
    "    \"\"\"\n",
    "    if args.remote:\n",
    "        destination = os.path.join(args.ckp_path_remote, args.aspect + str(args.lr) + filename)\n",
    "    else:\n",
    "        destination = os.path.join(args.ckp_path_local, args.aspect + str(args.lr) + filename)\n",
    "    \n",
    "    torch.save(state, destination)\n",
    "    if is_best:\n",
    "        if args.remote:\n",
    "            best_destination = os.path.join(args.ckp_path_remote, args.aspect + str(args.lr) + 'baseline_model_best.pth.tar')\n",
    "        else:\n",
    "            best_destination = os.path.join(args.ckp_path_local, args.aspect + str(args.lr) + 'baseline_model_best.pth.tar')\n",
    "        \n",
    "        shutil.copyfile(destination, best_destination)"
   ]
  },
  {
   "cell_type": "code",
   "execution_count": 6,
   "metadata": {
    "collapsed": true
   },
   "outputs": [],
   "source": [
    "args = parser.parse_args(\"-a all --remote 0\".split())"
   ]
  },
  {
   "cell_type": "code",
   "execution_count": 7,
   "metadata": {
    "collapsed": true
   },
   "outputs": [],
   "source": [
    "val_path   = os.path.join(args.data_path_local, str.join(\".\",['reviews', args.aspect, 'heldout.txt.gz']))\n",
    "embd_path = os.path.join(args.data_path_local, 'review+wiki.filtered.200.txt.gz')\n",
    "embd, word_to_ix = make_embd(embd_path)\n",
    "val_set = make_tensor_dataset(val_path, word_to_ix)\n",
    "val_loader = DataLoader(val_set, 10000)"
   ]
  },
  {
   "cell_type": "code",
   "execution_count": null,
   "metadata": {
    "collapsed": true
   },
   "outputs": [],
   "source": []
  },
  {
   "cell_type": "code",
   "execution_count": 285,
   "metadata": {
    "collapsed": true
   },
   "outputs": [],
   "source": [
    "# Load model\n",
    "from dpp_nets.layers.layers import MarginalTrainer, ReinforceSampler\n",
    "\n",
    "load_path = '/Users/Max/checkpoints/full_backups/no_batch_normalization_elu/'\n",
    "model_name = 'allreg0.1reg_mean10.0marginal_checkpoint.pth.tar'\n",
    "a_dict = torch.load(os.path.join(load_path, model_name))\n",
    "reinstated_model = MarginalTrainer(embd, 200,500,200,3)\n",
    "#reinstated_model.load_state_dict(a_dict['state_dict'])\n",
    "for param_name, params in a_dict['state_dict'].items():\n",
    "    if '.0.' in param_name or '.2.' in param_name or '.4.' in param_name:\n",
    "        pass\n",
    "    else:\n",
    "        exec(str('reinstated_model.'+str(param_name)+' = nn.Parameter(params)'))\n",
    "reinstated_model.activation = nn.Sigmoid()\n",
    "reinstated_model.reg = 0.1\n",
    "reinstated_model.reg_mean = 10\n",
    "ix_to_word = {}\n",
    "for k, v in word_to_ix.items():\n",
    "    ix_to_word[v + 1] = k"
   ]
  },
  {
   "cell_type": "code",
   "execution_count": 313,
   "metadata": {},
   "outputs": [
    {
     "name": "stdout",
     "output_type": "stream",
     "text": [
      "[ 0.80000001  1.          0.60000002]\n"
     ]
    }
   ],
   "source": [
    "import random\n",
    "\n",
    "ix = random.randint(0,10000)\n",
    "review, target = val_set[ix]\n",
    "sampler = ReinforceSampler(1)\n",
    "print(target.numpy()[:3])"
   ]
  },
  {
   "cell_type": "code",
   "execution_count": 314,
   "metadata": {
    "scrolled": true
   },
   "outputs": [
    {
     "name": "stdout",
     "output_type": "stream",
     "text": [
      "a - black with a huge coffee colored head s - smells delicious - very sweet , chocolate malts . there is a nice balance of roasted malts as well . the most balanced smell to a stout i have had the pleasure of knowing . t - the taste is great . this is pretty sweet upfront ; some chocolate and caramel malts first . next , i was hit with roasted malts , and some booze on the finish . m - thin and leaves a cough syrup-like coating . the booze is decently hidden . d - this is a pretty fantastic stout . i am glad this recently came to missouri because i am going to be buying this frequently .\n",
      "__________________________________________________\n",
      "upfront\n",
      "hit\n",
      "roasted\n",
      "and\n",
      "cough\n",
      "coating\n",
      ".\n",
      "fantastic\n",
      "am\n",
      "frequently\n"
     ]
    }
   ],
   "source": [
    "words = reinstated_model.embd(Variable(review.unsqueeze(0), volatile=True))\n",
    "kernel, words = reinstated_model.kernel_net(words)\n",
    "sampler.s_ix = reinstated_model.kernel_net.s_ix\n",
    "sampler.e_ix = reinstated_model.kernel_net.e_ix\n",
    "sampler(kernel, words) \n",
    "\n",
    "my_sample = sampler.saved_subsets[0][0]\n",
    "cut_review = review[:my_sample.size(0)]\n",
    "\n",
    "my_list = list(cut_review.masked_select(my_sample.data.byte()))\n",
    "original_review = [ix_to_word[i] for i in list(cut_review)]\n",
    "print(\" \".join(original_review))\n",
    "print(50*'_')\n",
    "for i in my_list:\n",
    "    print(ix_to_word[i])"
   ]
  },
  {
   "cell_type": "code",
   "execution_count": 316,
   "metadata": {},
   "outputs": [
    {
     "name": "stdout",
     "output_type": "stream",
     "text": [
      "cough 0.476442\n",
      "thin 0.374656\n",
      "fantastic 0.360794\n",
      "syrup-like 0.268623\n",
      "smells 0.249733\n",
      "pleasure 0.231154\n",
      "coffee 0.230662\n",
      "colored 0.225538\n",
      "coating 0.201477\n",
      "delicious 0.198955\n",
      "hit 0.191508\n",
      "black 0.187336\n",
      "sweet 0.182698\n",
      "sweet 0.182097\n",
      "most 0.168271\n",
      "great 0.162074\n",
      "hidden 0.150951\n",
      "chocolate 0.149154\n",
      "chocolate 0.148343\n",
      "well 0.142472\n",
      "huge 0.139779\n",
      "decently 0.13935\n",
      "m 0.128996\n",
      "head 0.113586\n",
      "finish 0.113375\n"
     ]
    }
   ],
   "source": [
    "from dpp_nets.my_torch.linalg import custom_decomp, custom_inverse \n",
    "\n",
    "# compute marginals\n",
    "V = kernel\n",
    "word = words\n",
    "# compute marginal kernel K\n",
    "#vals, vecs = custom_decomp()(V)\n",
    "#K = vecs.mm((1 / (vals + 1)).diag()).mm(vecs.t()) # actually K = (identity - expression) \n",
    "#marginals = (1 - K.diag()).diag() ## need to rewrite custom_decomp to return full svd + correct gradients. \n",
    "# so this is the inefficient way\n",
    "identity = Variable(torch.eye(word.size(0)).type(words.data.type()))\n",
    "L = V.mm(V.t())\n",
    "K = identity - custom_inverse()(L + identity)\n",
    "marginals = (K.diag()).data.numpy()\n",
    "\n",
    "# display highest marginals\n",
    "import numpy\n",
    "sort = numpy.argsort(-marginals)\n",
    "top_k = 25\n",
    "for pos in sort[:top_k]:\n",
    "    word_ix = cut_review[pos]\n",
    "    word = ix_to_word[word_ix]\n",
    "    print(word, marginals[pos])"
   ]
  },
  {
   "cell_type": "code",
   "execution_count": 318,
   "metadata": {
    "collapsed": true
   },
   "outputs": [],
   "source": [
    "from sklearn.decomposition import PCA"
   ]
  },
  {
   "cell_type": "code",
   "execution_count": 322,
   "metadata": {},
   "outputs": [
    {
     "name": "stdout",
     "output_type": "stream",
     "text": [
      "[ 0.99244289  0.00755711]\n"
     ]
    }
   ],
   "source": [
    "import numpy as np\n",
    "from sklearn.decomposition import PCA\n",
    "X = np.array([[-1, -1], [-2, -1], [-3, -2], [1, 1], [2, 1], [3, 2]])\n",
    "pca = PCA(n_components=2)\n",
    "pca.fit(X)\n",
    "PCA(copy=True, iterated_power='auto', n_components=2, random_state=None,\n",
    "  svd_solver='auto', tol=0.0, whiten=False)\n",
    "print(pca.explained_variance_ratio_)  \n"
   ]
  },
  {
   "cell_type": "code",
   "execution_count": 367,
   "metadata": {},
   "outputs": [
    {
     "data": {
      "image/png": "[encoded data removed]",
      "text/plain": [
       "<matplotlib.figure.Figure at 0x10f0e7f98>"
      ]
     },
     "metadata": {},
     "output_type": "display_data"
    }
   ],
   "source": [
    "N = 128\n",
    "x = np.random.rand(N)\n",
    "y = np.random.rand(N)\n",
    "plt.scatter(x, y)\n",
    "plt.show()"
   ]
  },
  {
   "cell_type": "code",
   "execution_count": 358,
   "metadata": {
    "collapsed": true
   },
   "outputs": [],
   "source": [
    "# sobol sequence\n",
    "from SALib.sample import sobol_sequence"
   ]
  },
  {
   "cell_type": "code",
   "execution_count": 368,
   "metadata": {},
   "outputs": [
    {
     "data": {
      "image/png": "[encoded data removed]",
      "text/plain": [
       "<matplotlib.figure.Figure at 0x11ff0ea58>"
      ]
     },
     "metadata": {},
     "output_type": "display_data"
    }
   ],
   "source": [
    "sobol = sobol_sequence.sample(N,2)\n",
    "x = sobol[:,0]\n",
    "y = sobol[:,1]\n",
    "plt.scatter(x, y)\n",
    "plt.show()"
   ]
  },
  {
   "cell_type": "code",
   "execution_count": 399,
   "metadata": {},
   "outputs": [
    {
     "data": {
      "text/plain": [
       "PCA(copy=True, iterated_power='auto', n_components=2, random_state=None,\n",
       "  svd_solver='auto', tol=0.0, whiten=False)"
      ]
     },
     "execution_count": 399,
     "metadata": {},
     "output_type": "execute_result"
    }
   ],
   "source": [
    "N = 128\n",
    "D = 10000\n",
    "X = np.random.rand(D, N)\n",
    "pca = PCA(n_components=2)\n",
    "pca.fit(X)"
   ]
  },
  {
   "cell_type": "code",
   "execution_count": 400,
   "metadata": {},
   "outputs": [
    {
     "data": {
      "image/png": "[encoded data removed]",
      "text/plain": [
       "<matplotlib.figure.Figure at 0x1163e0668>"
      ]
     },
     "metadata": {},
     "output_type": "display_data"
    }
   ],
   "source": [
    "x = pca.components_[0,:]\n",
    "y = pca.components_[1,:]\n",
    "plt.scatter(x, y)\n",
    "plt.show()"
   ]
  },
  {
   "cell_type": "code",
   "execution_count": 389,
   "metadata": {},
   "outputs": [
    {
     "data": {
      "image/png": "[encoded data removed]",
      "text/plain": [
       "<matplotlib.figure.Figure at 0x113973ac8>"
      ]
     },
     "metadata": {},
     "output_type": "display_data"
    }
   ],
   "source": [
    "# sobol sequence\n",
    "sobol = sobol_sequence.sample(N,D)\n",
    "pca_sobol = PCA(n_components=2)\n",
    "pca_sobol.fit(sobol.T)\n",
    "x = pca_sobol.components_[0,:]\n",
    "y = pca_sobol.components_[1,:]\n",
    "plt.scatter(x, y)\n",
    "plt.show()"
   ]
  },
  {
   "cell_type": "code",
   "execution_count": null,
   "metadata": {
    "collapsed": true
   },
   "outputs": [],
   "source": [
    "def reset_parameters(self):\n",
    "    stdv = 1. / math.sqrt(self.weight.size(1))\n",
    "    self.weight.data.uniform_(-stdv, stdv)\n",
    "    if self.bias is not None:\n",
    "        self.bias.data.uniform_(-stdv, stdv)"
   ]
  },
  {
   "cell_type": "code",
   "execution_count": 401,
   "metadata": {},
   "outputs": [
    {
     "ename": "NameError",
     "evalue": "name 'rnn' is not defined",
     "output_type": "error",
     "traceback": [
      "\u001b[0;31m---------------------------------------------------------------------------\u001b[0m",
      "\u001b[0;31mNameError\u001b[0m                                 Traceback (most recent call last)",
      "\u001b[0;32m<ipython-input-401-73fdc129dade>\u001b[0m in \u001b[0;36m<module>\u001b[0;34m()\u001b[0m\n\u001b[0;32m----> 1\u001b[0;31m \u001b[0mrnn\u001b[0m\u001b[0;34m\u001b[0m\u001b[0m\n\u001b[0m",
      "\u001b[0;31mNameError\u001b[0m: name 'rnn' is not defined"
     ]
    }
   ],
   "source": []
  },
  {
   "cell_type": "code",
   "execution_count": 4,
   "metadata": {},
   "outputs": [
    {
     "name": "stdout",
     "output_type": "stream",
     "text": [
      "                jumps                  \n",
      "  ________________|____________         \n",
      " |    |     |     |    |      over     \n",
      " |    |     |     |    |       |        \n",
      " |    |     |     |    |      dog      \n",
      " |    |     |     |    |    ___|____    \n",
      "The quick brown  fox   .  the      lazy\n",
      "\n"
     ]
    },
    {
     "data": {
      "text/plain": [
       "[None]"
      ]
     },
     "execution_count": 4,
     "metadata": {},
     "output_type": "execute_result"
    }
   ],
   "source": [
    "import spacy\n",
    "from nltk import Tree\n",
    "\n",
    "\n",
    "en_nlp = spacy.load('en')\n",
    "\n",
    "doc = en_nlp(\"The quick brown fox jumps over the lazy dog.\")\n",
    "\n",
    "def to_nltk_tree(node):\n",
    "    if node.n_lefts + node.n_rights > 0:\n",
    "        return Tree(node.orth_, [to_nltk_tree(child) for child in node.children])\n",
    "    else:\n",
    "        return node.orth_\n",
    "\n",
    "\n",
    "[to_nltk_tree(sent.root).pretty_print() for sent in doc.sents]"
   ]
  },
  {
   "cell_type": "code",
   "execution_count": 20,
   "metadata": {},
   "outputs": [],
   "source": [
    "import random\n",
    "\n",
    "from dpp_nets.utils.language import BeerDataset, process_batch\n",
    "from torch.utils.data import DataLoader\n",
    "from dpp_nets.utils.language import create_clean_vocabulary\n",
    "\n",
    "train_path   = os.path.join(args.data_path_local, str.join(\".\",['reviews', args.aspect, 'train.txt.gz']))\n",
    "nlp, vocab, embd = create_clean_vocabulary(embd_path, train_path)\n",
    "ds = BeerDataset(val_path)\n",
    "ix = random.randint(1,100)\n",
    "review = ds[ix]['review']"
   ]
  },
  {
   "cell_type": "code",
   "execution_count": 17,
   "metadata": {},
   "outputs": [
    {
     "ename": "NameError",
     "evalue": "name 'nlp' is not defined",
     "output_type": "error",
     "traceback": [
      "\u001b[0;31m---------------------------------------------------------------------------\u001b[0m",
      "\u001b[0;31mNameError\u001b[0m                                 Traceback (most recent call last)",
      "\u001b[0;32m<ipython-input-17-79fd9950fccb>\u001b[0m in \u001b[0;36m<module>\u001b[0;34m()\u001b[0m\n\u001b[0;32m----> 1\u001b[0;31m \u001b[0mdoc\u001b[0m \u001b[0;34m=\u001b[0m \u001b[0mnlp\u001b[0m\u001b[0;34m(\u001b[0m\u001b[0mreview\u001b[0m\u001b[0;34m)\u001b[0m\u001b[0;34m\u001b[0m\u001b[0m\n\u001b[0m",
      "\u001b[0;31mNameError\u001b[0m: name 'nlp' is not defined"
     ]
    }
   ],
   "source": [
    "doc = nlp(review)"
   ]
  },
  {
   "cell_type": "code",
   "execution_count": 21,
   "metadata": {
    "collapsed": true
   },
   "outputs": [],
   "source": [
    "nlp, vocab, embd = create_clean_vocabulary(embd_path, train_path)\n",
    "\n"
   ]
  },
  {
   "cell_type": "code",
   "execution_count": null,
   "metadata": {
    "collapsed": true
   },
   "outputs": [],
   "source": []
  }
 ],
 "metadata": {
  "kernelspec": {
   "display_name": "Python 3",
   "language": "python",
   "name": "python3"
  },
  "language_info": {
   "codemirror_mode": {
    "name": "ipython",
    "version": 3
   },
   "file_extension": ".py",
   "mimetype": "text/x-python",
   "name": "python",
   "nbconvert_exporter": "python",
   "pygments_lexer": "ipython3",
   "version": "3.6.1"
  }
 },
 "nbformat": 4,
 "nbformat_minor": 2
}
