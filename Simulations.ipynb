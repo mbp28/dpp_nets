{
 "cells": [
  {
   "cell_type": "code",
   "execution_count": 1,
   "metadata": {
    "collapsed": true
   },
   "outputs": [],
   "source": [
    "import torch\n",
    "from dpp_nets.my_torch.simulator import SimKDPP\n",
    "from dpp_nets.my_torch.simulator import SimFilter\n",
    "\n",
    "from dpp_nets.helper.plotting import plot_floats, plot_dict"
   ]
  },
  {
   "cell_type": "code",
   "execution_count": 4,
   "metadata": {},
   "outputs": [
    {
     "name": "stdout",
     "output_type": "stream",
     "text": [
      "pre-training performance (no_baseline)\n",
      "                                                  \n",
      "Average Subset Size:  15.872999999999996\n",
      "Subset Variance:  3.928870999999993\n",
      "Average Loss 38.577\n",
      "n_missed share 0.0007\n",
      "n_one share 0.5424\n",
      "n_many share 0.4569\n",
      "n_perfect share 0.001\n",
      "--------------------------------------------------\n",
      "training (no_baseline)\n",
      "                                                  \n"
     ]
    },
    {
     "ename": "KeyboardInterrupt",
     "evalue": "",
     "output_type": "error",
     "traceback": [
      "\u001b[0;31m---------------------------------------------------------------------------\u001b[0m",
      "\u001b[0;31mKeyboardInterrupt\u001b[0m                         Traceback (most recent call last)",
      "\u001b[0;32m<ipython-input-4-56aa8bcb8e74>\u001b[0m in \u001b[0;36m<module>\u001b[0;34m()\u001b[0m\n\u001b[1;32m     23\u001b[0m \u001b[0mprint\u001b[0m\u001b[0;34m(\u001b[0m\u001b[0;36m50\u001b[0m \u001b[0;34m*\u001b[0m \u001b[0;34m' '\u001b[0m\u001b[0;34m)\u001b[0m\u001b[0;34m\u001b[0m\u001b[0m\n\u001b[1;32m     24\u001b[0m \u001b[0mtorch\u001b[0m\u001b[0;34m.\u001b[0m\u001b[0mmanual_seed\u001b[0m\u001b[0;34m(\u001b[0m\u001b[0;36m0\u001b[0m\u001b[0;34m)\u001b[0m\u001b[0;34m\u001b[0m\u001b[0m\n\u001b[0;32m---> 25\u001b[0;31m \u001b[0mno_baseline\u001b[0m\u001b[0;34m.\u001b[0m\u001b[0mtrain\u001b[0m\u001b[0;34m(\u001b[0m\u001b[0mtrain_it\u001b[0m\u001b[0;34m,\u001b[0m \u001b[0mbatch_size\u001b[0m\u001b[0;34m,\u001b[0m \u001b[0mlr\u001b[0m\u001b[0;34m,\u001b[0m \u001b[0malpha_iter\u001b[0m\u001b[0;34m,\u001b[0m \u001b[0;32mFalse\u001b[0m\u001b[0;34m,\u001b[0m \u001b[0;36m500\u001b[0m\u001b[0;34m)\u001b[0m\u001b[0;34m\u001b[0m\u001b[0m\n\u001b[0m\u001b[1;32m     26\u001b[0m \u001b[0;34m\u001b[0m\u001b[0m\n\u001b[1;32m     27\u001b[0m \u001b[0;31m# Evaluation\u001b[0m\u001b[0;34m\u001b[0m\u001b[0;34m\u001b[0m\u001b[0m\n",
      "\u001b[0;32m/Users/Max/git/dpp_nets/dpp_nets/my_torch/simulator.py\u001b[0m in \u001b[0;36mtrain\u001b[0;34m(self, train_iter, batch_size, lr, alpha_iter, baseline, reg)\u001b[0m\n\u001b[1;32m    131\u001b[0m                 \u001b[0mvals\u001b[0m\u001b[0;34m,\u001b[0m \u001b[0mvecs\u001b[0m \u001b[0;34m=\u001b[0m \u001b[0mcustom_decomp\u001b[0m\u001b[0;34m(\u001b[0m\u001b[0;34m)\u001b[0m\u001b[0;34m(\u001b[0m\u001b[0mkernel\u001b[0m\u001b[0;34m)\u001b[0m\u001b[0;34m\u001b[0m\u001b[0m\n\u001b[1;32m    132\u001b[0m                 \u001b[0;32mfor\u001b[0m \u001b[0mj\u001b[0m \u001b[0;32min\u001b[0m \u001b[0mrange\u001b[0m\u001b[0;34m(\u001b[0m\u001b[0malpha_iter\u001b[0m\u001b[0;34m)\u001b[0m\u001b[0;34m:\u001b[0m\u001b[0;34m\u001b[0m\u001b[0m\n\u001b[0;32m--> 133\u001b[0;31m                     \u001b[0msubset\u001b[0m \u001b[0;34m=\u001b[0m \u001b[0mDPP\u001b[0m\u001b[0;34m(\u001b[0m\u001b[0;34m)\u001b[0m\u001b[0;34m(\u001b[0m\u001b[0mvals\u001b[0m\u001b[0;34m,\u001b[0m \u001b[0mvecs\u001b[0m\u001b[0;34m)\u001b[0m\u001b[0;34m\u001b[0m\u001b[0m\n\u001b[0m\u001b[1;32m    134\u001b[0m                     \u001b[0mactions\u001b[0m\u001b[0;34m[\u001b[0m\u001b[0mi\u001b[0m\u001b[0;34m]\u001b[0m\u001b[0;34m.\u001b[0m\u001b[0mappend\u001b[0m\u001b[0;34m(\u001b[0m\u001b[0msubset\u001b[0m\u001b[0;34m)\u001b[0m\u001b[0;34m\u001b[0m\u001b[0m\n\u001b[1;32m    135\u001b[0m                     \u001b[0mloss\u001b[0m\u001b[0;34m,\u001b[0m \u001b[0mprec\u001b[0m\u001b[0;34m,\u001b[0m \u001b[0mrec\u001b[0m\u001b[0;34m,\u001b[0m \u001b[0mssize\u001b[0m  \u001b[0;34m=\u001b[0m \u001b[0mself\u001b[0m\u001b[0;34m.\u001b[0m\u001b[0m_big_assess\u001b[0m\u001b[0;34m(\u001b[0m\u001b[0mtarget\u001b[0m\u001b[0;34m[\u001b[0m\u001b[0mi\u001b[0m\u001b[0;34m]\u001b[0m\u001b[0;34m,\u001b[0m \u001b[0msubset\u001b[0m\u001b[0;34m.\u001b[0m\u001b[0mdata\u001b[0m\u001b[0;34m)\u001b[0m\u001b[0;34m\u001b[0m\u001b[0m\n",
      "\u001b[0;32m/Users/Max/Coding/anaconda2/envs/torch/lib/python3.6/site-packages/torch/autograd/stochastic_function.py\u001b[0m in \u001b[0;36m_do_forward\u001b[0;34m(self, *inputs)\u001b[0m\n\u001b[1;32m     21\u001b[0m \u001b[0;34m\u001b[0m\u001b[0m\n\u001b[1;32m     22\u001b[0m     \u001b[0;32mdef\u001b[0m \u001b[0m_do_forward\u001b[0m\u001b[0;34m(\u001b[0m\u001b[0mself\u001b[0m\u001b[0;34m,\u001b[0m \u001b[0;34m*\u001b[0m\u001b[0minputs\u001b[0m\u001b[0;34m)\u001b[0m\u001b[0;34m:\u001b[0m\u001b[0;34m\u001b[0m\u001b[0m\n\u001b[0;32m---> 23\u001b[0;31m         \u001b[0mresult\u001b[0m \u001b[0;34m=\u001b[0m \u001b[0msuper\u001b[0m\u001b[0;34m(\u001b[0m\u001b[0mStochasticFunction\u001b[0m\u001b[0;34m,\u001b[0m \u001b[0mself\u001b[0m\u001b[0;34m)\u001b[0m\u001b[0;34m.\u001b[0m\u001b[0m_do_forward\u001b[0m\u001b[0;34m(\u001b[0m\u001b[0;34m*\u001b[0m\u001b[0minputs\u001b[0m\u001b[0;34m)\u001b[0m\u001b[0;34m\u001b[0m\u001b[0m\n\u001b[0m\u001b[1;32m     24\u001b[0m         \u001b[0;31m# save output type and size, to check the type of reward\u001b[0m\u001b[0;34m\u001b[0m\u001b[0;34m\u001b[0m\u001b[0m\n\u001b[1;32m     25\u001b[0m         \u001b[0;32massert\u001b[0m \u001b[0misinstance\u001b[0m\u001b[0;34m(\u001b[0m\u001b[0mresult\u001b[0m\u001b[0;34m,\u001b[0m \u001b[0mtorch\u001b[0m\u001b[0;34m.\u001b[0m\u001b[0mautograd\u001b[0m\u001b[0;34m.\u001b[0m\u001b[0mVariable\u001b[0m\u001b[0;34m)\u001b[0m\u001b[0;34m,\u001b[0m\u001b[0;31m \u001b[0m\u001b[0;31m\\\u001b[0m\u001b[0;34m\u001b[0m\u001b[0m\n",
      "\u001b[0;32m/Users/Max/git/dpp_nets/dpp_nets/my_torch/DPP.py\u001b[0m in \u001b[0;36mforward\u001b[0;34m(self, vals, vecs)\u001b[0m\n\u001b[1;32m    119\u001b[0m \u001b[0;34m\u001b[0m\u001b[0m\n\u001b[1;32m    120\u001b[0m                     \u001b[0;31m# Update vector basis\u001b[0m\u001b[0;34m\u001b[0m\u001b[0;34m\u001b[0m\u001b[0m\n\u001b[0;32m--> 121\u001b[0;31m                     \u001b[0mV\u001b[0m \u001b[0;34m=\u001b[0m \u001b[0momit_slice\u001b[0m\u001b[0;34m(\u001b[0m\u001b[0mV\u001b[0m\u001b[0;34m,\u001b[0m\u001b[0;36m1\u001b[0m\u001b[0;34m,\u001b[0m\u001b[0mj\u001b[0m\u001b[0;34m)\u001b[0m\u001b[0;34m\u001b[0m\u001b[0m\n\u001b[0m\u001b[1;32m    122\u001b[0m                     \u001b[0mV\u001b[0m\u001b[0;34m.\u001b[0m\u001b[0msub_\u001b[0m\u001b[0;34m(\u001b[0m\u001b[0mVj\u001b[0m\u001b[0;34m.\u001b[0m\u001b[0mger\u001b[0m\u001b[0;34m(\u001b[0m\u001b[0mV\u001b[0m\u001b[0;34m[\u001b[0m\u001b[0mitem\u001b[0m\u001b[0;34m,\u001b[0m \u001b[0;34m:\u001b[0m\u001b[0;34m]\u001b[0m \u001b[0;34m/\u001b[0m \u001b[0mVj\u001b[0m\u001b[0;34m[\u001b[0m\u001b[0mitem\u001b[0m\u001b[0;34m]\u001b[0m\u001b[0;34m)\u001b[0m\u001b[0;34m)\u001b[0m\u001b[0;34m\u001b[0m\u001b[0m\n\u001b[1;32m    123\u001b[0m \u001b[0;34m\u001b[0m\u001b[0m\n",
      "\u001b[0;32m/Users/Max/git/dpp_nets/dpp_nets/my_torch/utilities.py\u001b[0m in \u001b[0;36momit_slice\u001b[0;34m(tensor, dim, omit)\u001b[0m\n\u001b[1;32m     11\u001b[0m     \u001b[0;31m# Gather sizes\u001b[0m\u001b[0;34m\u001b[0m\u001b[0;34m\u001b[0m\u001b[0m\n\u001b[1;32m     12\u001b[0m     \u001b[0ml\u001b[0m \u001b[0;34m=\u001b[0m \u001b[0mtensor\u001b[0m\u001b[0;34m.\u001b[0m\u001b[0msize\u001b[0m\u001b[0;34m(\u001b[0m\u001b[0;36m0\u001b[0m\u001b[0;34m)\u001b[0m\u001b[0;34m\u001b[0m\u001b[0m\n\u001b[0;32m---> 13\u001b[0;31m     \u001b[0msizes\u001b[0m \u001b[0;34m=\u001b[0m \u001b[0mlist\u001b[0m\u001b[0;34m(\u001b[0m\u001b[0mtensor\u001b[0m\u001b[0;34m.\u001b[0m\u001b[0msize\u001b[0m\u001b[0;34m(\u001b[0m\u001b[0;34m)\u001b[0m\u001b[0;34m)\u001b[0m\u001b[0;34m[\u001b[0m\u001b[0;36m1\u001b[0m\u001b[0;34m:\u001b[0m\u001b[0;34m]\u001b[0m\u001b[0;34m\u001b[0m\u001b[0m\n\u001b[0m\u001b[1;32m     14\u001b[0m     \u001b[0msizes\u001b[0m\u001b[0;34m.\u001b[0m\u001b[0mreverse\u001b[0m\u001b[0;34m(\u001b[0m\u001b[0;34m)\u001b[0m\u001b[0;34m\u001b[0m\u001b[0m\n\u001b[1;32m     15\u001b[0m \u001b[0;34m\u001b[0m\u001b[0m\n",
      "\u001b[0;31mKeyboardInterrupt\u001b[0m: "
     ]
    }
   ],
   "source": [
    "# Learning a kDPP\n",
    "\n",
    "# Initialization\n",
    "network_params = {'set_size': 40, 'n_clusters': 10}\n",
    "dtype = torch.DoubleTensor\n",
    "train_it = 10000\n",
    "batch_size = 10\n",
    "lr = 1e-5\n",
    "alpha_iter = 4\n",
    "\n",
    "torch.manual_seed(10)\n",
    "no_baseline = SimKDPP(network_params, dtype)\n",
    "\n",
    "# Pre-Training Performance\n",
    "print('pre-training performance (no_baseline)')\n",
    "print(50 * ' ')\n",
    "torch.manual_seed(99)\n",
    "no_baseline.evaluate(1000)\n",
    "\n",
    "# Training\n",
    "print(50 * '-')\n",
    "print('training (no_baseline)')\n",
    "print(50 * ' ')\n",
    "torch.manual_seed(0)\n",
    "no_baseline.train(train_it, batch_size, lr, alpha_iter, False, 500)\n",
    "\n",
    "# Evaluation \n",
    "print(50 * '-')\n",
    "print('trained network (no_baseline):')\n",
    "torch.manual_seed(99)\n",
    "no_baseline.evaluate(1000)\n",
    "print(20 * '-')\n",
    "print('random benchmark:')\n",
    "torch.manual_seed(99)\n",
    "no_baseline.random_benchmark(1000)"
   ]
  },
  {
   "cell_type": "code",
   "execution_count": 5,
   "metadata": {},
   "outputs": [
    {
     "name": "stdout",
     "output_type": "stream",
     "text": [
      "pre-training performance (baseline)\n",
      "                                                  \n",
      "Average Subset Size:  15.872999999999996\n",
      "Subset Variance:  3.928870999999993\n",
      "Average Loss 38.577\n",
      "n_missed share 0.0007\n",
      "n_one share 0.5424\n",
      "n_many share 0.4569\n",
      "n_perfect share 0.001\n",
      "--------------------------------------------------\n",
      "training (baseline)\n",
      "                                                  \n",
      "Loss at it  100  is:  24.6\n",
      "Loss at it  200  is:  21.675\n",
      "Loss at it  300  is:  14.7\n",
      "Loss at it  400  is:  9.575000000000001\n",
      "Loss at it  500  is:  7.175\n",
      "Loss at it  600  is:  6.65\n",
      "Loss at it  700  is:  4.175\n",
      "Loss at it  800  is:  4.45\n",
      "Loss at it  900  is:  3.425\n",
      "Loss at it  1000  is:  5.1\n",
      "Loss at it  1100  is:  3.1\n",
      "Loss at it  1200  is:  2.075\n",
      "Loss at it  1300  is:  2.325\n",
      "Loss at it  1400  is:  1.875\n",
      "Loss at it  1500  is:  1.45\n",
      "Loss at it  1600  is:  1.7\n",
      "Loss at it  1700  is:  2.325\n",
      "Loss at it  1800  is:  1.025\n",
      "Loss at it  1900  is:  0.7\n",
      "Loss at it  2000  is:  1.0\n",
      "Loss at it  2100  is:  1.3499999999999999\n",
      "Loss at it  2200  is:  0.9\n",
      "Loss at it  2300  is:  1.275\n",
      "Loss at it  2400  is:  1.0\n",
      "Loss at it  2500  is:  0.6499999999999999\n",
      "Loss at it  2600  is:  0.925\n",
      "Loss at it  2700  is:  0.8\n",
      "Loss at it  2800  is:  0.725\n",
      "Loss at it  2900  is:  0.6\n",
      "Loss at it  3000  is:  0.225\n",
      "Loss at it  3100  is:  0.325\n",
      "Loss at it  3200  is:  0.7\n",
      "Loss at it  3300  is:  0.425\n",
      "Loss at it  3400  is:  0.4\n",
      "Loss at it  3500  is:  0.3\n",
      "Loss at it  3600  is:  0.65\n",
      "Loss at it  3700  is:  0.35\n",
      "Loss at it  3800  is:  0.45\n",
      "Loss at it  3900  is:  0.625\n",
      "Loss at it  4000  is:  0.175\n",
      "Loss at it  4100  is:  0.55\n",
      "Loss at it  4200  is:  0.29999999999999993\n",
      "Loss at it  4300  is:  0.35\n",
      "Loss at it  4400  is:  0.12499999999999997\n",
      "Loss at it  4500  is:  0.275\n",
      "Loss at it  4600  is:  0.3\n",
      "Loss at it  4700  is:  0.275\n",
      "Loss at it  4800  is:  0.3\n",
      "Loss at it  4900  is:  0.27499999999999997\n",
      "Loss at it  5000  is:  0.12499999999999997\n",
      "Loss at it  5100  is:  0.225\n",
      "Loss at it  5200  is:  0.39999999999999986\n",
      "Loss at it  5300  is:  0.25\n",
      "Loss at it  5400  is:  0.27499999999999997\n",
      "Loss at it  5500  is:  0.25\n",
      "Loss at it  5600  is:  0.175\n",
      "Loss at it  5700  is:  0.275\n",
      "Loss at it  5800  is:  0.15\n",
      "Loss at it  5900  is:  0.05\n",
      "Loss at it  6000  is:  0.17499999999999996\n",
      "Loss at it  6100  is:  0.075\n",
      "Loss at it  6200  is:  0.175\n",
      "Loss at it  6300  is:  0.275\n",
      "Loss at it  6400  is:  0.1\n",
      "Loss at it  6500  is:  0.2\n",
      "Loss at it  6600  is:  0.22499999999999995\n",
      "Loss at it  6700  is:  0.049999999999999996\n",
      "Loss at it  6800  is:  0.075\n",
      "Loss at it  6900  is:  0.125\n",
      "Loss at it  7000  is:  0.07499999999999998\n",
      "Loss at it  7100  is:  0.07499999999999998\n",
      "Loss at it  7200  is:  0.14999999999999994\n",
      "Loss at it  7300  is:  0.1\n",
      "Loss at it  7400  is:  0.04999999999999999\n",
      "Loss at it  7500  is:  0.075\n",
      "Loss at it  7600  is:  0.05\n",
      "Loss at it  7700  is:  0.04999999999999999\n",
      "Loss at it  7800  is:  0.1\n",
      "Loss at it  7900  is:  0.175\n",
      "Loss at it  8000  is:  0.05\n",
      "Loss at it  8100  is:  0.125\n",
      "Loss at it  8200  is:  0.05\n",
      "Loss at it  8300  is:  0.24999999999999994\n",
      "Loss at it  8400  is:  0.024999999999999994\n",
      "Loss at it  8500  is:  0.09999999999999996\n",
      "Loss at it  8600  is:  0.0\n",
      "Loss at it  8700  is:  0.04999999999999998\n",
      "Loss at it  8800  is:  0.025\n",
      "Loss at it  8900  is:  0.0\n",
      "Loss at it  9000  is:  0.05\n",
      "Loss at it  9100  is:  0.0\n",
      "Loss at it  9200  is:  0.075\n",
      "Loss at it  9300  is:  0.025\n",
      "Loss at it  9400  is:  0.075\n",
      "Loss at it  9500  is:  0.049999999999999996\n",
      "Loss at it  9600  is:  0.025\n",
      "Loss at it  9700  is:  0.07499999999999998\n",
      "Loss at it  9800  is:  0.049999999999999996\n",
      "Loss at it  9900  is:  0.025\n",
      "Loss at it  10000  is:  0.07499999999999998\n",
      "--------------------------------------------------\n",
      "trained network (baseline):\n",
      "Average Subset Size:  10.013000000000005\n",
      "Subset Variance:  0.026830999999999994\n",
      "Average Loss 0.031\n",
      "n_missed share 0.0008\n",
      "n_one share 0.9971\n",
      "n_many share 0.0021\n",
      "n_perfect share 0.972\n",
      "--------------------\n",
      "random benchmark:\n",
      "Average Subset Size:  10.064999999999994\n",
      "Subset Variance:  7.516774999999997\n",
      "Average Loss 52.461\n",
      "n_missed share 0.3442\n",
      "n_one share 0.3898\n",
      "n_many share 0.266\n",
      "n_perfect share 0.0\n"
     ]
    }
   ],
   "source": [
    "torch.manual_seed(10)\n",
    "baseline = SimKDPP(network_params, dtype)\n",
    "\n",
    "# Pre-Training Performance\n",
    "print('pre-training performance (baseline)')\n",
    "print(50 * ' ')\n",
    "torch.manual_seed(99)\n",
    "baseline.evaluate(1000)\n",
    "\n",
    "# Training\n",
    "print(50 * '-')\n",
    "print('training (baseline)')\n",
    "print(50 * ' ')\n",
    "torch.manual_seed(0)\n",
    "baseline.train(train_it, batch_size, lr, alpha_iter, True)\n",
    "\n",
    "# Evaluation \n",
    "print(50 * '-')\n",
    "print('trained network (baseline):')\n",
    "torch.manual_seed(99)\n",
    "baseline.evaluate(1000)\n",
    "print(20 * '-')\n",
    "print('random benchmark:')\n",
    "torch.manual_seed(99)\n",
    "baseline.random_benchmark(1000)"
   ]
  },
  {
   "cell_type": "code",
   "execution_count": 72,
   "metadata": {},
   "outputs": [
    {
     "data": {
      "image/png": "[encoded data removed]",
      "text/plain": [
       "<matplotlib.figure.Figure at 0x118474978>"
      ]
     },
     "metadata": {},
     "output_type": "display_data"
    }
   ],
   "source": [
    "plot_floats(baseline.rec_dict,500, 'rec_kDPP', 'Recall (over batch and sampled subsets)', 'Training Iteration', 'Mean Recall')"
   ]
  },
  {
   "cell_type": "code",
   "execution_count": null,
   "metadata": {
    "collapsed": true
   },
   "outputs": [],
   "source": [
    "# Learning a kDPP\n",
    "\n",
    "plot_floats(no_baseline.loss_dict,50,\"no_baseline_loss_1e5_kDPP.pdf\",\"Loss\",\"Training Iteration\", \"Custom_Loss\")\n",
    "plot_floats(baseline.loss_dict,50,\"baseline_loss_1e5_kDPP.pdf\",\"Loss\",\"Training Iteration\", \"Custom_Loss\")"
   ]
  },
  {
   "cell_type": "code",
   "execution_count": 42,
   "metadata": {},
   "outputs": [
    {
     "data": {
      "image/png": "[encoded data removed]",
      "text/plain": [
       "<matplotlib.figure.Figure at 0x1149b66d8>"
      ]
     },
     "metadata": {},
     "output_type": "display_data"
    },
    {
     "data": {
      "image/png": "[encoded data removed]",
      "text/plain": [
       "<matplotlib.figure.Figure at 0x1191dd588>"
      ]
     },
     "metadata": {},
     "output_type": "display_data"
    },
    {
     "data": {
      "image/png": "[encoded data removed]",
      "text/plain": [
       "<matplotlib.figure.Figure at 0x1148319e8>"
      ]
     },
     "metadata": {},
     "output_type": "display_data"
    }
   ],
   "source": [
    "from dpp_nets.helper.plotting import plot_embd, gen_matrix_from_cluster_ix, plot_matrix\n",
    "from torch.autograd import Variable\n",
    "words, context, target = loaded.generate(1)\n",
    "x = Variable(torch.cat([words, context],dim=2)).squeeze(0)\n",
    "embd = baseline.kernel_net(x).data\n",
    "plot_embd(x.data)\n",
    "plot_embd(embd)\n",
    "plot_matrix(gen_matrix_from_cluster_ix(target))"
   ]
  },
  {
   "cell_type": "code",
   "execution_count": 39,
   "metadata": {
    "collapsed": true
   },
   "outputs": [],
   "source": [
    "state_dict = torch.load('VIMCO_kDPP_10k_10k_10k.pt')"
   ]
  },
  {
   "cell_type": "code",
   "execution_count": 40,
   "metadata": {
    "collapsed": true
   },
   "outputs": [],
   "source": [
    "loaded = SimKDPP(network_params, dtype)"
   ]
  },
  {
   "cell_type": "code",
   "execution_count": 41,
   "metadata": {
    "collapsed": true
   },
   "outputs": [],
   "source": [
    "loaded.kernel_net.load_state_dict(state_dict)"
   ]
  },
  {
   "cell_type": "code",
   "execution_count": 51,
   "metadata": {},
   "outputs": [
    {
     "data": {
      "text/plain": [
       "array([[ 0, 32, 24, 38, 39, 22,  2, 15, 36, 33,  1, 18,  5,  6, 11, 10, 35,\n",
       "        27, 25, 20, 13, 26,  3, 17, 16, 28, 19,  9, 14, 37,  7, 30, 31,  8,\n",
       "        21, 34, 29, 12, 23,  4]])"
      ]
     },
     "execution_count": 51,
     "metadata": {},
     "output_type": "execute_result"
    }
   ],
   "source": [
    "import numpy as np\n",
    "embd = words.numpy()\n",
    "embd_copy = embd.copy()\n",
    "index = target.numpy()\n",
    "arg = np.argsort(index)\n",
    "arg"
   ]
  },
  {
   "cell_type": "code",
   "execution_count": 63,
   "metadata": {},
   "outputs": [
    {
     "name": "stdout",
     "output_type": "stream",
     "text": [
      "[[0 2 1 4 9 2 2 7 9 6 2 2 9 4 6 1 4 4 2 6 3 9 1 9 0 3 4 3 5 9 8 8 0 2 9 3 2\n",
      "  7 0 0]]\n",
      "[[ 0 32 24 38 39 22  2 15 36 33  1 18  5  6 11 10 35 27 25 20 13 26  3 17\n",
      "  16 28 19  9 14 37  7 30 31  8 21 34 29 12 23  4]]\n"
     ]
    }
   ],
   "source": [
    "print(index)\n",
    "print(arg)"
   ]
  },
  {
   "cell_type": "code",
   "execution_count": 60,
   "metadata": {
    "collapsed": true
   },
   "outputs": [],
   "source": [
    "embd_copy = embd_copy.squeeze(0)\n",
    "embd_copy[arg] =  embd"
   ]
  },
  {
   "cell_type": "code",
   "execution_count": 61,
   "metadata": {
    "collapsed": true
   },
   "outputs": [],
   "source": [
    "L = embd_copy.dot(embd_copy.T)\n",
    "K = L.dot(np.linalg.inv(L + np.eye(40)))"
   ]
  },
  {
   "cell_type": "code",
   "execution_count": 65,
   "metadata": {},
   "outputs": [
    {
     "data": {
      "image/png": "[encoded data removed]",
      "text/plain": [
       "<matplotlib.figure.Figure at 0x114957438>"
      ]
     },
     "metadata": {},
     "output_type": "display_data"
    }
   ],
   "source": [
    "plot_matrix(K)"
   ]
  },
  {
   "cell_type": "code",
   "execution_count": null,
   "metadata": {
    "collapsed": true
   },
   "outputs": [],
   "source": [
    "# Learning a Filter - No Baseline\n",
    "\n",
    "# Initialization\n",
    "network_params = {'set_size': 40, 'n_clusters': 10, 'max_sig': 10}\n",
    "dtype = torch.DoubleTensor\n",
    "train_it = 5000\n",
    "batch_size = 10\n",
    "lr = 1e-5\n",
    "alpha_iter = 4\n",
    "\n",
    "torch.manual_seed(10)\n",
    "no_baseline = SimFilter(network_params, dtype)\n",
    "\n",
    "# Pre-Training Performance\n",
    "print('pre-training performance (no_baseline)')\n",
    "print(50 * ' ')\n",
    "torch.manual_seed(99)\n",
    "no_baseline.evaluate(1000)\n",
    "\n",
    "# Training\n",
    "print(50 * '-')\n",
    "print('training (no_baseline)')\n",
    "print(50 * ' ')\n",
    "torch.manual_seed(0)\n",
    "no_baseline.train(train_it, batch_size, lr, alpha_iter, False)\n",
    "\n",
    "# Evaluation \n",
    "print(50 * '-')\n",
    "print('trained network (no_baseline):')\n",
    "torch.manual_seed(99)\n",
    "no_baseline.evaluate(1000)\n",
    "print(20 * '-')\n",
    "print('random benchmark:')\n",
    "torch.manual_seed(99)\n",
    "no_baseline.random_benchmark(1000)"
   ]
  },
  {
   "cell_type": "code",
   "execution_count": null,
   "metadata": {
    "collapsed": true
   },
   "outputs": [],
   "source": [
    "# Learning a Filter - Baseline\n",
    "\n",
    "# Initialization\n",
    "\n",
    "torch.manual_seed(10)\n",
    "baseline = SimFilter(network_params, dtype)\n",
    "\n",
    "# Pre-Training Performance\n",
    "print('pre-training performance (baseline)')\n",
    "print(50 * ' ')\n",
    "torch.manual_seed(99)\n",
    "baseline.evaluate(1000)\n",
    "\n",
    "# Training\n",
    "print(50 * '-')\n",
    "print('training (baseline)')\n",
    "print(50 * ' ')\n",
    "torch.manual_seed(0)\n",
    "baseline.train(train_it, batch_size, lr, alpha_iter, True)\n",
    "\n",
    "# Evaluation \n",
    "print(50 * '-')\n",
    "print('trained network (baseline):')\n",
    "torch.manual_seed(99)\n",
    "baseline.evaluate(1000)\n",
    "print(20 * '-')\n",
    "print('random benchmark:')\n",
    "torch.manual_seed(99)\n",
    "baseline.random_benchmark(1000)"
   ]
  },
  {
   "cell_type": "code",
   "execution_count": null,
   "metadata": {
    "collapsed": true
   },
   "outputs": [],
   "source": [
    "plot_floats(baseline.loss_dict,20)"
   ]
  },
  {
   "cell_type": "code",
   "execution_count": null,
   "metadata": {
    "collapsed": true
   },
   "outputs": [],
   "source": [
    "torch.manual_seed(22)\n",
    "no_baseline.train(train_it, batch_size, lr, alpha_iter, False)\n",
    "torch.manual_seed(22)\n",
    "baseline.train(train_it, batch_size, lr, alpha_iter, True)\n",
    "\n"
   ]
  },
  {
   "cell_type": "code",
   "execution_count": null,
   "metadata": {
    "collapsed": true
   },
   "outputs": [],
   "source": [
    "torch.manual_seed(99)\n",
    "no_baseline.evaluate(1000)\n",
    "torch.manual_seed(99)\n",
    "baseline.evaluate(1000)"
   ]
  },
  {
   "cell_type": "code",
   "execution_count": 53,
   "metadata": {
    "collapsed": true
   },
   "outputs": [],
   "source": []
  },
  {
   "cell_type": "code",
   "execution_count": null,
   "metadata": {
    "collapsed": true
   },
   "outputs": [],
   "source": [
    "from dpp_nets.my_torch.simulator import SimKDPPDeepSet\n",
    "import torch\n",
    "network_params = {'set_size': 40, 'n_clusters': 10}\n",
    "dtype = torch.DoubleTensor\n",
    "sim = SimKDPPDeepSet(network_params, dtype)\n",
    "\n",
    "train_iter = 1000\n",
    "batch_size = 10\n",
    "lr = 1e-3\n",
    "alpha_iter=5\n",
    "baseline=True\n",
    "reg=0\n",
    "reg_mean=0\n",
    "\n",
    "sim.train(train_iter, batch_size, lr, alpha_iter, baseline, reg, reg_mean)\n",
    "\n"
   ]
  },
  {
   "cell_type": "code",
   "execution_count": 3,
   "metadata": {},
   "outputs": [
    {
     "data": {
      "text/plain": [
       "\n",
       " 0.0000\n",
       " 0.8415\n",
       " 0.9093\n",
       " 0.1411\n",
       "-0.7568\n",
       "-0.9589\n",
       "-0.2794\n",
       " 0.6570\n",
       " 0.9894\n",
       " 0.4121\n",
       "[torch.FloatTensor of size 10]"
      ]
     },
     "execution_count": 3,
     "metadata": {},
     "output_type": "execute_result"
    }
   ],
   "source": [
    "import torch\n",
    "torch.sin(torch.arange(0,10))"
   ]
  },
  {
   "cell_type": "code",
   "execution_count": null,
   "metadata": {
    "collapsed": true
   },
   "outputs": [],
   "source": []
  }
 ],
 "metadata": {
  "kernelspec": {
   "display_name": "Python 3",
   "language": "python",
   "name": "python3"
  },
  "language_info": {
   "codemirror_mode": {
    "name": "ipython",
    "version": 3
   },
   "file_extension": ".py",
   "mimetype": "text/x-python",
   "name": "python",
   "nbconvert_exporter": "python",
   "pygments_lexer": "ipython3",
   "version": "3.6.1"
  }
 },
 "nbformat": 4,
 "nbformat_minor": 2
}
