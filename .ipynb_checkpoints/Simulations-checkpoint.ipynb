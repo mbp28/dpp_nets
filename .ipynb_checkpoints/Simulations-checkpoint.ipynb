{
 "cells": [
  {
   "cell_type": "code",
   "execution_count": null,
   "metadata": {
    "collapsed": true
   },
   "outputs": [],
   "source": [
    "import torch\n",
    "from dpp_nets.my_torch.simulator2 import SimulClassifier\n",
    "from dpp_nets.helper.plotting import plot_floats, plot_dict"
   ]
  },
  {
   "cell_type": "code",
   "execution_count": null,
   "metadata": {
    "collapsed": true
   },
   "outputs": [],
   "source": [
    "# Learning a kDPP\n",
    "\n",
    "# Initialization\n",
    "network_params = {'set_size': 40, 'n_clusters': 10}\n",
    "dtype = torch.DoubleTensor\n",
    "train_it = 1000\n",
    "batch_size = 10\n",
    "lr = 1e-3\n",
    "alpha_iter = 4\n",
    "\n",
    "torch.manual_seed(10)\n",
    "no_baseline = SimKDPP(network_params, dtype)\n",
    "\n",
    "# Pre-Training Performance\n",
    "print('pre-training performance (no_baseline)')\n",
    "print(50 * ' ')\n",
    "torch.manual_seed(99)\n",
    "no_baseline.evaluate(1000)\n",
    "\n",
    "# Training\n",
    "print(50 * '-')\n",
    "print('training (no_baseline)')\n",
    "print(50 * ' ')\n",
    "torch.manual_seed(0)\n",
    "no_baseline.train(train_it, batch_size, lr, alpha_iter, False)\n",
    "\n",
    "# Evaluation \n",
    "print(50 * '-')\n",
    "print('trained network (no_baseline):')\n",
    "torch.manual_seed(99)\n",
    "no_baseline.evaluate(1000)\n",
    "print(20 * '-')\n",
    "print('random benchmark:')\n",
    "torch.manual_seed(99)\n",
    "no_baseline.random_benchmark(1000)"
   ]
  },
  {
   "cell_type": "code",
   "execution_count": null,
   "metadata": {
    "collapsed": true
   },
   "outputs": [],
   "source": [
    "torch.manual_seed(10)\n",
    "baseline = SimKDPP(network_params, dtype)\n",
    "\n",
    "# Pre-Training Performance\n",
    "print('pre-training performance (baseline)')\n",
    "print(50 * ' ')\n",
    "torch.manual_seed(99)\n",
    "baseline.evaluate(1000)\n",
    "\n",
    "# Training\n",
    "print(50 * '-')\n",
    "print('training (baseline)')\n",
    "print(50 * ' ')\n",
    "torch.manual_seed(0)\n",
    "baseline.train(train_it, batch_size, lr, alpha_iter, True)\n",
    "\n",
    "# Evaluation \n",
    "print(50 * '-')\n",
    "print('trained network (baseline):')\n",
    "torch.manual_seed(99)\n",
    "baseline.evaluate(1000)\n",
    "print(20 * '-')\n",
    "print('random benchmark:')\n",
    "torch.manual_seed(99)\n",
    "baseline.random_benchmark(1000)"
   ]
  },
  {
   "cell_type": "code",
   "execution_count": null,
   "metadata": {
    "collapsed": true
   },
   "outputs": [],
   "source": [
    "plot_floats(baseline.rec_dict,500, 'rec_kDPP', 'Recall (over batch and sampled subsets)', 'Training Iteration', 'Mean Recall')"
   ]
  },
  {
   "cell_type": "code",
   "execution_count": null,
   "metadata": {
    "collapsed": true
   },
   "outputs": [],
   "source": [
    "# Learning a kDPP\n",
    "\n",
    "plot_floats(no_baseline.loss_dict,50,\"no_baseline_loss_1e5_kDPP.pdf\",\"Loss\",\"Training Iteration\", \"Custom_Loss\")\n",
    "plot_floats(baseline.loss_dict,50,\"baseline_loss_1e5_kDPP.pdf\",\"Loss\",\"Training Iteration\", \"Custom_Loss\")"
   ]
  },
  {
   "cell_type": "code",
   "execution_count": null,
   "metadata": {
    "collapsed": true
   },
   "outputs": [],
   "source": [
    "from dpp_nets.helper.plotting import plot_embd, gen_matrix_from_cluster_ix, plot_matrix\n",
    "from torch.autograd import Variable\n",
    "words, context, target = loaded.generate(1)\n",
    "x = Variable(torch.cat([words, context],dim=2)).squeeze(0)\n",
    "embd = baseline.kernel_net(x).data\n",
    "plot_embd(x.data)\n",
    "plot_embd(embd)\n",
    "plot_matrix(gen_matrix_from_cluster_ix(target))"
   ]
  },
  {
   "cell_type": "code",
   "execution_count": null,
   "metadata": {
    "collapsed": true
   },
   "outputs": [],
   "source": [
    "state_dict = torch.load('VIMCO_kDPP_10k_10k_10k.pt')"
   ]
  },
  {
   "cell_type": "code",
   "execution_count": null,
   "metadata": {
    "collapsed": true
   },
   "outputs": [],
   "source": [
    "loaded = SimKDPP(network_params, dtype)"
   ]
  },
  {
   "cell_type": "code",
   "execution_count": null,
   "metadata": {
    "collapsed": true
   },
   "outputs": [],
   "source": [
    "loaded.kernel_net.load_state_dict(state_dict)"
   ]
  },
  {
   "cell_type": "code",
   "execution_count": null,
   "metadata": {
    "collapsed": true
   },
   "outputs": [],
   "source": [
    "import numpy as np\n",
    "embd = words.numpy()\n",
    "embd_copy = embd.copy()\n",
    "index = target.numpy()\n",
    "arg = np.argsort(index)\n",
    "arg"
   ]
  },
  {
   "cell_type": "code",
   "execution_count": null,
   "metadata": {
    "collapsed": true
   },
   "outputs": [],
   "source": [
    "print(index)\n",
    "print(arg)"
   ]
  },
  {
   "cell_type": "code",
   "execution_count": null,
   "metadata": {
    "collapsed": true
   },
   "outputs": [],
   "source": [
    "embd_copy = embd_copy.squeeze(0)\n",
    "embd_copy[arg] =  embd"
   ]
  },
  {
   "cell_type": "code",
   "execution_count": null,
   "metadata": {
    "collapsed": true
   },
   "outputs": [],
   "source": [
    "L = embd_copy.dot(embd_copy.T)\n",
    "K = L.dot(np.linalg.inv(L + np.eye(40)))"
   ]
  },
  {
   "cell_type": "code",
   "execution_count": null,
   "metadata": {
    "collapsed": true
   },
   "outputs": [],
   "source": [
    "plot_matrix(K)"
   ]
  },
  {
   "cell_type": "code",
   "execution_count": null,
   "metadata": {
    "collapsed": true
   },
   "outputs": [],
   "source": [
    "# Learning a Filter - No Baseline\n",
    "\n",
    "# Initialization\n",
    "network_params = {'set_size': 40, 'n_clusters': 10, 'max_sig': 10}\n",
    "dtype = torch.DoubleTensor\n",
    "train_it = 5000\n",
    "batch_size = 10\n",
    "lr = 1e-5\n",
    "alpha_iter = 4\n",
    "\n",
    "torch.manual_seed(10)\n",
    "no_baseline = SimFilter(network_params, dtype)\n",
    "\n",
    "# Pre-Training Performance\n",
    "print('pre-training performance (no_baseline)')\n",
    "print(50 * ' ')\n",
    "torch.manual_seed(99)\n",
    "no_baseline.evaluate(1000)\n",
    "\n",
    "# Training\n",
    "print(50 * '-')\n",
    "print('training (no_baseline)')\n",
    "print(50 * ' ')\n",
    "torch.manual_seed(0)\n",
    "no_baseline.train(train_it, batch_size, lr, alpha_iter, False)\n",
    "\n",
    "# Evaluation \n",
    "print(50 * '-')\n",
    "print('trained network (no_baseline):')\n",
    "torch.manual_seed(99)\n",
    "no_baseline.evaluate(1000)\n",
    "print(20 * '-')\n",
    "print('random benchmark:')\n",
    "torch.manual_seed(99)\n",
    "no_baseline.random_benchmark(1000)"
   ]
  },
  {
   "cell_type": "code",
   "execution_count": null,
   "metadata": {
    "collapsed": true
   },
   "outputs": [],
   "source": [
    "# Learning a Filter - Baseline\n",
    "\n",
    "# Initialization\n",
    "\n",
    "torch.manual_seed(10)\n",
    "baseline = SimFilter(network_params, dtype)\n",
    "\n",
    "# Pre-Training Performance\n",
    "print('pre-training performance (baseline)')\n",
    "print(50 * ' ')\n",
    "torch.manual_seed(99)\n",
    "baseline.evaluate(1000)\n",
    "\n",
    "# Training\n",
    "print(50 * '-')\n",
    "print('training (baseline)')\n",
    "print(50 * ' ')\n",
    "torch.manual_seed(0)\n",
    "baseline.train(train_it, batch_size, lr, alpha_iter, True)\n",
    "\n",
    "# Evaluation \n",
    "print(50 * '-')\n",
    "print('trained network (baseline):')\n",
    "torch.manual_seed(99)\n",
    "baseline.evaluate(1000)\n",
    "print(20 * '-')\n",
    "print('random benchmark:')\n",
    "torch.manual_seed(99)\n",
    "baseline.random_benchmark(1000)"
   ]
  },
  {
   "cell_type": "code",
   "execution_count": null,
   "metadata": {
    "collapsed": true
   },
   "outputs": [],
   "source": [
    "plot_floats(baseline.loss_dict,20)"
   ]
  },
  {
   "cell_type": "code",
   "execution_count": null,
   "metadata": {
    "collapsed": true
   },
   "outputs": [],
   "source": [
    "torch.manual_seed(22)\n",
    "no_baseline.train(train_it, batch_size, lr, alpha_iter, False)\n",
    "torch.manual_seed(22)\n",
    "baseline.train(train_it, batch_size, lr, alpha_iter, True)\n",
    "\n"
   ]
  },
  {
   "cell_type": "code",
   "execution_count": null,
   "metadata": {
    "collapsed": true
   },
   "outputs": [],
   "source": [
    "torch.manual_seed(99)\n",
    "no_baseline.evaluate(1000)\n",
    "torch.manual_seed(99)\n",
    "baseline.evaluate(1000)"
   ]
  },
  {
   "cell_type": "code",
   "execution_count": null,
   "metadata": {
    "collapsed": true
   },
   "outputs": [],
   "source": []
  },
  {
   "cell_type": "code",
   "execution_count": null,
   "metadata": {
    "collapsed": true
   },
   "outputs": [],
   "source": [
    "from dpp_nets.my_torch.simulator import SimKDPPDeepSet\n",
    "import torch\n",
    "network_params = {'set_size': 40, 'n_clusters': 10}\n",
    "dtype = torch.DoubleTensor\n",
    "sim = SimKDPPDeepSet(network_params, dtype)\n",
    "\n",
    "train_iter = 1000\n",
    "batch_size = 10\n",
    "lr = 1e-3\n",
    "alpha_iter=5\n",
    "baseline=True\n",
    "reg=0\n",
    "reg_mean=0\n",
    "\n",
    "sim.train(train_iter, batch_size, lr, alpha_iter, baseline, reg, reg_mean)\n",
    "\n"
   ]
  },
  {
   "cell_type": "code",
   "execution_count": null,
   "metadata": {
    "collapsed": true
   },
   "outputs": [],
   "source": [
    "import torch\n",
    "torch.sin(torch.arange(0,10))"
   ]
  },
  {
   "cell_type": "code",
   "execution_count": null,
   "metadata": {
    "collapsed": true
   },
   "outputs": [],
   "source": [
    "input_set_size = 40\n",
    "pred_in = 20\n",
    "aspects_n = 3\n",
    "\n",
    "words = torch.rand(input_set_size, pred_in)\n",
    "target = torch.FloatTensor(aspects_n).random_(2)\n",
    "\n",
    "# Compute signals\n",
    "ixs = torch.multinomial(torch.arange(0, input_set_size), 3)\n",
    "words[ixs] = torch.zeros(aspects_n, pred_in)"
   ]
  },
  {
   "cell_type": "code",
   "execution_count": null,
   "metadata": {
    "collapsed": true
   },
   "outputs": [],
   "source": [
    "torch.ones(aspects_n, pred_in).diag()"
   ]
  },
  {
   "cell_type": "code",
   "execution_count": null,
   "metadata": {
    "collapsed": true
   },
   "outputs": [],
   "source": [
    "signal_faces = torch.FloatTensor(aspects_n, pred_in - aspects_n).random_(2)\n",
    "\n",
    "words = torch.rand(input_set_size, pred_in)\n",
    "target = torch.FloatTensor(aspects_n).random_(2)\n",
    "\n",
    "# Compute signals\n",
    "\n",
    "signals = torch.cat([target.diag(), signal_faces],dim=1)\n",
    "ixs = torch.multinomial(torch.arange(0, input_set_size), 3)\n",
    "words[ixs] = signals"
   ]
  },
  {
   "cell_type": "code",
   "execution_count": null,
   "metadata": {
    "collapsed": true
   },
   "outputs": [],
   "source": [
    "torch.gather(target.long(),0)"
   ]
  },
  {
   "cell_type": "code",
   "execution_count": null,
   "metadata": {
    "collapsed": true
   },
   "outputs": [],
   "source": [
    "signal_clusters = torch.rand(2 * aspects_n, pred_in)\n",
    "signal_cluster_var = 0.1"
   ]
  },
  {
   "cell_type": "code",
   "execution_count": null,
   "metadata": {
    "collapsed": true
   },
   "outputs": [],
   "source": [
    "words = torch.rand(input_set_size, pred_in)\n",
    "target = torch.FloatTensor(aspects_n).random_(2)"
   ]
  },
  {
   "cell_type": "code",
   "execution_count": null,
   "metadata": {
    "collapsed": true
   },
   "outputs": [],
   "source": [
    "signal = signal_clusters[target.long() + torch.LongTensor([0,2,4])].normal_(signal_cluster_var)\n",
    "ixs = torch.multinomial(torch.arange(0, input_set_size), 3)"
   ]
  },
  {
   "cell_type": "code",
   "execution_count": null,
   "metadata": {
    "collapsed": true
   },
   "outputs": [],
   "source": [
    "words.sum(0).expand_as(words)"
   ]
  },
  {
   "cell_type": "code",
   "execution_count": null,
   "metadata": {
    "collapsed": true
   },
   "outputs": [],
   "source": [
    "signal_clusters"
   ]
  },
  {
   "cell_type": "code",
   "execution_count": null,
   "metadata": {
    "collapsed": true
   },
   "outputs": [],
   "source": [
    "words"
   ]
  },
  {
   "cell_type": "code",
   "execution_count": null,
   "metadata": {
    "collapsed": true
   },
   "outputs": [],
   "source": [
    "target"
   ]
  },
  {
   "cell_type": "code",
   "execution_count": null,
   "metadata": {
    "collapsed": true
   },
   "outputs": [],
   "source": [
    "signal_clusters"
   ]
  },
  {
   "cell_type": "code",
   "execution_count": null,
   "metadata": {
    "collapsed": true
   },
   "outputs": [],
   "source": [
    "import torch.nn as nn"
   ]
  },
  {
   "cell_type": "code",
   "execution_count": null,
   "metadata": {
    "collapsed": true
   },
   "outputs": [],
   "source": [
    "loss = nn.BCELoss()(Variable(torch.FloatTensor([0.4, 0.4, 0.4])),Variable(target))"
   ]
  },
  {
   "cell_type": "code",
   "execution_count": null,
   "metadata": {
    "collapsed": true
   },
   "outputs": [],
   "source": [
    "loss.data[0]"
   ]
  },
  {
   "cell_type": "code",
   "execution_count": null,
   "metadata": {
    "collapsed": true
   },
   "outputs": [],
   "source": [
    "# New Classification Simulation\n",
    "import torch\n",
    "from dpp_nets.my_torch.simulator2 import SimulClassifier\n",
    "from dpp_nets.helper.plotting import plot_floats, plot_dict\n",
    "\n",
    "input_set_size = 50\n",
    "aspects_n = 4\n",
    "dtype = torch.DoubleTensor\n",
    "\n",
    "my_classifier = SimulClassifier(input_set_size, aspects_n, dtype)"
   ]
  },
  {
   "cell_type": "code",
   "execution_count": null,
   "metadata": {
    "collapsed": true
   },
   "outputs": [],
   "source": [
    "my_classifier.train(2000, 50, 3, baseline=True, lr=1e-4)"
   ]
  },
  {
   "cell_type": "code",
   "execution_count": null,
   "metadata": {
    "collapsed": true
   },
   "outputs": [],
   "source": [
    "my_classifier = SimulClassifier(input_set_size, aspects_n, dtype)\n",
    "my_classifier.train_deterministic_baseline(2000,50, lr=1e-3)"
   ]
  },
  {
   "cell_type": "code",
   "execution_count": null,
   "metadata": {
    "collapsed": true
   },
   "outputs": [],
   "source": [
    "my_classifier.signal_clusters[2] - my_classifier.signal_clusters[3]"
   ]
  },
  {
   "cell_type": "code",
   "execution_count": 1,
   "metadata": {
    "collapsed": true
   },
   "outputs": [
    {
     "name": "stdout",
     "output_type": "stream",
     "text": [
      "0.6955394071569249\n"
     ]
    },
    {
     "ename": "KeyboardInterrupt",
     "evalue": "",
     "output_type": "error",
     "traceback": [
      "\u001b[0;31m---------------------------------------------------------------------------\u001b[0m",
      "\u001b[0;31mKeyboardInterrupt\u001b[0m                         Traceback (most recent call last)",
      "\u001b[0;32m<ipython-input-1-7d7de3e654ca>\u001b[0m in \u001b[0;36m<module>\u001b[0;34m()\u001b[0m\n\u001b[1;32m      8\u001b[0m \u001b[0;34m\u001b[0m\u001b[0m\n\u001b[1;32m      9\u001b[0m \u001b[0msmall_classifier\u001b[0m \u001b[0;34m=\u001b[0m \u001b[0mSimulClassifier\u001b[0m\u001b[0;34m(\u001b[0m\u001b[0minput_set_size\u001b[0m\u001b[0;34m,\u001b[0m \u001b[0maspects_n\u001b[0m\u001b[0;34m,\u001b[0m \u001b[0mdtype\u001b[0m\u001b[0;34m)\u001b[0m\u001b[0;34m\u001b[0m\u001b[0m\n\u001b[0;32m---> 10\u001b[0;31m \u001b[0msmall_classifier\u001b[0m\u001b[0;34m.\u001b[0m\u001b[0mtrain_deterministic\u001b[0m\u001b[0;34m(\u001b[0m\u001b[0;36m100\u001b[0m\u001b[0;34m,\u001b[0m\u001b[0;36m50\u001b[0m\u001b[0;34m,\u001b[0m \u001b[0mlr\u001b[0m\u001b[0;34m=\u001b[0m\u001b[0;36m1e-3\u001b[0m\u001b[0;34m)\u001b[0m\u001b[0;34m\u001b[0m\u001b[0m\n\u001b[0m\u001b[1;32m     11\u001b[0m \u001b[0msmall_classifier\u001b[0m\u001b[0;34m.\u001b[0m\u001b[0mevaluate_deterministic\u001b[0m\u001b[0;34m(\u001b[0m\u001b[0;36m1000\u001b[0m\u001b[0;34m)\u001b[0m\u001b[0;34m\u001b[0m\u001b[0m\n",
      "\u001b[0;32m~/git/dpp_nets/dpp_nets/my_torch/simulator2.py\u001b[0m in \u001b[0;36mtrain_deterministic\u001b[0;34m(self, train_steps, batch_size, lr)\u001b[0m\n\u001b[1;32m    265\u001b[0m             \u001b[0mcum_loss\u001b[0m \u001b[0;34m+=\u001b[0m \u001b[0mloss\u001b[0m\u001b[0;34m.\u001b[0m\u001b[0mdata\u001b[0m\u001b[0;34m[\u001b[0m\u001b[0;36m0\u001b[0m\u001b[0;34m]\u001b[0m\u001b[0;34m\u001b[0m\u001b[0m\n\u001b[1;32m    266\u001b[0m \u001b[0;34m\u001b[0m\u001b[0m\n\u001b[0;32m--> 267\u001b[0;31m             \u001b[0mloss\u001b[0m\u001b[0;34m.\u001b[0m\u001b[0mbackward\u001b[0m\u001b[0;34m(\u001b[0m\u001b[0;34m)\u001b[0m\u001b[0;34m\u001b[0m\u001b[0m\n\u001b[0m\u001b[1;32m    268\u001b[0m \u001b[0;34m\u001b[0m\u001b[0m\n\u001b[1;32m    269\u001b[0m             \u001b[0;32mif\u001b[0m \u001b[0;32mnot\u001b[0m \u001b[0;34m(\u001b[0m\u001b[0;34m(\u001b[0m\u001b[0mt\u001b[0m \u001b[0;34m+\u001b[0m \u001b[0;36m1\u001b[0m\u001b[0;34m)\u001b[0m \u001b[0;34m%\u001b[0m \u001b[0mbatch_size\u001b[0m\u001b[0;34m)\u001b[0m\u001b[0;34m:\u001b[0m\u001b[0;34m\u001b[0m\u001b[0m\n",
      "\u001b[0;32m~/Coding/anaconda2/envs/torch2/lib/python3.6/site-packages/torch/autograd/variable.py\u001b[0m in \u001b[0;36mbackward\u001b[0;34m(self, gradient, retain_graph, create_graph, retain_variables)\u001b[0m\n\u001b[1;32m    154\u001b[0m                 \u001b[0mVariable\u001b[0m\u001b[0;34m.\u001b[0m\u001b[0;34m\u001b[0m\u001b[0m\n\u001b[1;32m    155\u001b[0m         \"\"\"\n\u001b[0;32m--> 156\u001b[0;31m         \u001b[0mtorch\u001b[0m\u001b[0;34m.\u001b[0m\u001b[0mautograd\u001b[0m\u001b[0;34m.\u001b[0m\u001b[0mbackward\u001b[0m\u001b[0;34m(\u001b[0m\u001b[0mself\u001b[0m\u001b[0;34m,\u001b[0m \u001b[0mgradient\u001b[0m\u001b[0;34m,\u001b[0m \u001b[0mretain_graph\u001b[0m\u001b[0;34m,\u001b[0m \u001b[0mcreate_graph\u001b[0m\u001b[0;34m,\u001b[0m \u001b[0mretain_variables\u001b[0m\u001b[0;34m)\u001b[0m\u001b[0;34m\u001b[0m\u001b[0m\n\u001b[0m\u001b[1;32m    157\u001b[0m \u001b[0;34m\u001b[0m\u001b[0m\n\u001b[1;32m    158\u001b[0m     \u001b[0;32mdef\u001b[0m \u001b[0mregister_hook\u001b[0m\u001b[0;34m(\u001b[0m\u001b[0mself\u001b[0m\u001b[0;34m,\u001b[0m \u001b[0mhook\u001b[0m\u001b[0;34m)\u001b[0m\u001b[0;34m:\u001b[0m\u001b[0;34m\u001b[0m\u001b[0m\n",
      "\u001b[0;32m~/Coding/anaconda2/envs/torch2/lib/python3.6/site-packages/torch/autograd/__init__.py\u001b[0m in \u001b[0;36mbackward\u001b[0;34m(variables, grad_variables, retain_graph, create_graph, retain_variables)\u001b[0m\n\u001b[1;32m     96\u001b[0m \u001b[0;34m\u001b[0m\u001b[0m\n\u001b[1;32m     97\u001b[0m     Variable._execution_engine.run_backward(\n\u001b[0;32m---> 98\u001b[0;31m         variables, grad_variables, retain_graph)\n\u001b[0m\u001b[1;32m     99\u001b[0m \u001b[0;34m\u001b[0m\u001b[0m\n\u001b[1;32m    100\u001b[0m \u001b[0;34m\u001b[0m\u001b[0m\n",
      "\u001b[0;31mKeyboardInterrupt\u001b[0m: "
     ]
    }
   ],
   "source": [
    "# Small Classifier (Deterministic vs -.-)\n",
    "import torch\n",
    "from dpp_nets.my_torch.simulator2 import SimulClassifier\n",
    "\n",
    "input_set_size = 20\n",
    "aspects_n = 4\n",
    "dtype = torch.DoubleTensor\n",
    "\n",
    "small_classifier = SimulClassifier(input_set_size, aspects_n, dtype)\n",
    "small_classifier.train_deterministic(100,50, lr=1e-3)\n",
    "small_classifier.evaluate_deterministic(1000)"
   ]
  },
  {
   "cell_type": "code",
   "execution_count": 3,
   "metadata": {
    "collapsed": true
   },
   "outputs": [
    {
     "name": "stdout",
     "output_type": "stream",
     "text": [
      "0.6957460366797257 0.49875 0.21678333333333363 0.1195 2.235\n",
      "0.6826915068463202\n",
      "0.6359640271290304\n",
      "0.5649463325185554\n",
      "0.4806092875264954\n",
      "0.38255124526205714\n",
      "0.3933576088423872\n",
      "0.3003813065476759\n",
      "0.2535500495353459\n",
      "0.2025467626198719\n",
      "0.24612959764892206\n",
      "0.23401284167607148\n",
      "0.17823382197116036\n",
      "0.2111565061908231\n",
      "0.15340093581929415\n",
      "0.1718755433414967\n",
      "0.15030250157857664\n",
      "0.1800069691419908\n",
      "0.1952436550620197\n",
      "0.18773064253333405\n",
      "0.15362130008033373\n",
      "0.17022277615002201\n",
      "0.16460439776623814\n",
      "0.1769878780817935\n",
      "0.13001421625546222\n",
      "0.1630046628029125\n",
      "0.1568533202868164\n",
      "0.15184596695856353\n",
      "0.172527074681803\n",
      "0.16127061324824404\n",
      "0.14916090087563685\n",
      "0.19116077113629074\n",
      "0.15286439115710412\n",
      "0.17627055778658604\n",
      "0.15005651319367364\n",
      "0.16732544648266007\n",
      "0.13373493191493438\n",
      "0.14939090578408776\n",
      "0.153744336697088\n",
      "0.16460570752393078\n",
      "0.17551594933477607\n",
      "0.15333396174724334\n",
      "0.17500369168351557\n",
      "0.16349749118640045\n",
      "0.15824119786724314\n",
      "0.13395961301691994\n",
      "0.17201826633620831\n",
      "0.1459868834287504\n",
      "0.15579733199363677\n",
      "0.13891829390942662\n",
      "0.16708392961591698\n",
      "0.13958427897350978 0.9385 0.6603666666666681 0.77825 4.727\n"
     ]
    }
   ],
   "source": [
    "small_classifier.evaluate(1000)\n",
    "small_classifier.train(500, 40, 5, baseline=True, lr=1e-3, reg=0.1, reg_mean=aspects_n)\n",
    "small_classifier.evaluate(1000)"
   ]
  },
  {
   "cell_type": "code",
   "execution_count": 11,
   "metadata": {
    "collapsed": true
   },
   "outputs": [
    {
     "name": "stdout",
     "output_type": "stream",
     "text": [
      "0.09165022239349753 0.955 0.6895333333333336 0.78675 4.566\n",
      "8.34765066972357\n",
      "0.7293472822847679\n",
      "0.7182852193532924\n",
      "0.6604204187757324\n",
      "0.5739920951795936\n",
      "0.43094325415766827\n",
      "0.32967180952613384\n",
      "0.28299776869468524\n",
      "0.28408176064707513\n",
      "0.2717932788676054\n",
      "0.27289985459512917\n",
      "0.3262388077019293\n",
      "0.28988938135196196\n",
      "0.30916837645542655\n",
      "0.3112341744059382\n",
      "0.2641968235331603\n",
      "0.2501057140746098\n",
      "0.2808532830348861\n",
      "0.250867058986055\n",
      "0.2744109996264541\n",
      "0.25649495644162346\n",
      "0.2706375581346042\n",
      "0.2647444465844877\n",
      "0.2553977739791478\n",
      "0.2654090770295347\n",
      "0.30064246058701805\n",
      "0.27105755524801145\n",
      "0.2664770745281301\n",
      "0.2811813677875658\n",
      "0.276165922075917\n",
      "0.28464242010467405\n",
      "0.27654754128658166\n",
      "0.2606517199869129\n",
      "0.26241744224281144\n",
      "0.23397606804828144\n",
      "0.2673403871418787\n",
      "0.2685798215415929\n",
      "0.25220217777748877\n",
      "0.2557229529552624\n",
      "0.21699182408539278\n",
      "0.19198756669800332\n",
      "0.16712528288813472\n",
      "0.17292212277588057\n",
      "0.1515671358517551\n",
      "0.1961011120493832\n",
      "0.13959828768649446\n",
      "0.13031164484152702\n",
      "0.1760633178454498\n",
      "0.1716843983676855\n",
      "0.16058426865787476\n",
      "0.1199133116904462\n",
      "0.15709918013372906\n",
      "0.1436666141252734\n",
      "0.15056833569371803\n",
      "0.12477977137131611\n",
      "0.14191008100792613\n",
      "0.15648469518837696\n",
      "0.14026663315995444\n",
      "0.1513634316220039\n",
      "0.12943412678360486\n",
      "0.1492875206239754\n",
      "0.13596521197306408\n",
      "0.1215156583967511\n",
      "0.17237796942512065\n",
      "0.13958648064374096\n",
      "0.15828492570388003\n",
      "0.12925088392952544\n",
      "0.14416316198004553\n",
      "0.13305377629208107\n",
      "0.14669157674996625\n",
      "0.1408409291550912\n",
      "0.105567390060724\n",
      "0.11378015029414412\n",
      "0.13711099513135602\n",
      "0.11320200940489698\n",
      "0.14426509226539136\n",
      "0.1261452637864579\n",
      "0.12694567861454564\n",
      "0.12460018128115156\n",
      "0.1378034936055868\n",
      "0.11943094097646324\n",
      "0.16983129371412004\n",
      "0.14715353581873955\n",
      "0.13124501818494216\n",
      "0.13753885460390097\n",
      "0.130881407153718\n",
      "0.13415384395339136\n",
      "0.1489448780198181\n",
      "0.1269260520719765\n",
      "0.12257470182963001\n",
      "0.11945884895112167\n",
      "0.11967448949089626\n",
      "0.12014569358195808\n",
      "0.1200511636117144\n",
      "0.09936496041930826\n",
      "0.09576980862908104\n",
      "0.10587661746994205\n",
      "0.10114724117788013\n",
      "0.110940792995274\n",
      "0.13333678623222459\n",
      "0.10354437664604291 0.944 0.6353333333333362 0.79575 5.012\n"
     ]
    }
   ],
   "source": [
    "small_classifier.evaluate(1000)\n",
    "small_classifier.train(1000, 50, 5, baseline=True, lr=1e-2, reg=0.1, reg_mean=aspects_n)\n",
    "small_classifier.evaluate(1000)"
   ]
  },
  {
   "cell_type": "code",
   "execution_count": 6,
   "metadata": {},
   "outputs": [
    {
     "name": "stdout",
     "output_type": "stream",
     "text": [
      "0.09382678532092885 0.951 0.6884714285714283 0.779 4.525\n"
     ]
    }
   ],
   "source": [
    "small_classifier.evaluate(1000)"
   ]
  },
  {
   "cell_type": "code",
   "execution_count": 10,
   "metadata": {},
   "outputs": [
    {
     "name": "stdout",
     "output_type": "stream",
     "text": [
      "Target is:  \n",
      " 1\n",
      " 0\n",
      " 1\n",
      " 1\n",
      "[torch.DoubleTensor of size 4]\n",
      "\n",
      "Pred is:  \n",
      " 0.9998\n",
      " 0.0018\n",
      " 0.9981\n",
      " 0.9997\n",
      "[torch.DoubleTensor of size 4]\n",
      "\n",
      "Loss is: 0.00105701858179579\n",
      "Acc is: 1.0\n",
      "Subset is: \n",
      " 0\n",
      " 0\n",
      " 0\n",
      " 0\n",
      " 0\n",
      " 1\n",
      " 1\n",
      " 0\n",
      " 0\n",
      " 1\n",
      " 1\n",
      " 0\n",
      " 0\n",
      " 0\n",
      " 0\n",
      " 0\n",
      " 0\n",
      " 0\n",
      " 0\n",
      " 1\n",
      "[torch.DoubleTensor of size 20]\n",
      "\n",
      "Ix is: \n",
      " 10\n",
      "  9\n",
      "  6\n",
      "  5\n",
      "[torch.LongTensor of size 4]\n",
      "\n",
      "Subset statistics are: 0.8 1.0 5.0\n"
     ]
    },
    {
     "ename": "NameError",
     "evalue": "name 'pred' is not defined",
     "output_type": "error",
     "traceback": [
      "\u001b[0;31m---------------------------------------------------------------------------\u001b[0m",
      "\u001b[0;31mNameError\u001b[0m                                 Traceback (most recent call last)",
      "\u001b[0;32m<ipython-input-10-d016aeb82399>\u001b[0m in \u001b[0;36m<module>\u001b[0;34m()\u001b[0m\n\u001b[0;32m----> 1\u001b[0;31m \u001b[0msmall_classifier\u001b[0m\u001b[0;34m.\u001b[0m\u001b[0msample\u001b[0m\u001b[0;34m(\u001b[0m\u001b[0;34m)\u001b[0m\u001b[0;34m\u001b[0m\u001b[0m\n\u001b[0m",
      "\u001b[0;32m~/git/dpp_nets/dpp_nets/my_torch/simulator2.py\u001b[0m in \u001b[0;36msample\u001b[0;34m(self)\u001b[0m\n\u001b[1;32m    244\u001b[0m         \u001b[0mprint\u001b[0m\u001b[0;34m(\u001b[0m\u001b[0;34m'Ix is:'\u001b[0m\u001b[0;34m,\u001b[0m \u001b[0mixs\u001b[0m\u001b[0;34m)\u001b[0m\u001b[0;34m\u001b[0m\u001b[0m\n\u001b[1;32m    245\u001b[0m         \u001b[0mprint\u001b[0m\u001b[0;34m(\u001b[0m\u001b[0;34m'Subset statistics are:'\u001b[0m\u001b[0;34m,\u001b[0m \u001b[0mprecision\u001b[0m\u001b[0;34m,\u001b[0m \u001b[0mrecall\u001b[0m\u001b[0;34m,\u001b[0m \u001b[0mset_size\u001b[0m\u001b[0;34m)\u001b[0m\u001b[0;34m\u001b[0m\u001b[0m\n\u001b[0;32m--> 246\u001b[0;31m \u001b[0;34m\u001b[0m\u001b[0m\n\u001b[0m\u001b[1;32m    247\u001b[0m         \u001b[0;32mreturn\u001b[0m \u001b[0mwords\u001b[0m\u001b[0;34m,\u001b[0m \u001b[0mcontext\u001b[0m\u001b[0;34m,\u001b[0m \u001b[0mixs\u001b[0m\u001b[0;34m,\u001b[0m \u001b[0mtarget\u001b[0m\u001b[0;34m,\u001b[0m \u001b[0mself\u001b[0m\u001b[0;34m.\u001b[0m\u001b[0mpred\u001b[0m\u001b[0;34m,\u001b[0m \u001b[0mloss\u001b[0m\u001b[0;34m,\u001b[0m \u001b[0msubset\u001b[0m\u001b[0;34m\u001b[0m\u001b[0m\n\u001b[1;32m    248\u001b[0m \u001b[0;34m\u001b[0m\u001b[0m\n",
      "\u001b[0;31mNameError\u001b[0m: name 'pred' is not defined"
     ]
    }
   ],
   "source": [
    "small_classifier.sample()"
   ]
  },
  {
   "cell_type": "code",
   "execution_count": null,
   "metadata": {
    "collapsed": true
   },
   "outputs": [],
   "source": []
  }
 ],
 "metadata": {
  "kernelspec": {
   "display_name": "Python 3",
   "language": "python",
   "name": "python3"
  },
  "language_info": {
   "codemirror_mode": {
    "name": "ipython",
    "version": 3
   },
   "file_extension": ".py",
   "mimetype": "text/x-python",
   "name": "python",
   "nbconvert_exporter": "python",
   "pygments_lexer": "ipython3",
   "version": "3.6.2"
  }
 },
 "nbformat": 4,
 "nbformat_minor": 2
}
