{
 "cells": [
  {
   "cell_type": "code",
   "execution_count": 3,
   "metadata": {
    "collapsed": true
   },
   "outputs": [],
   "source": [
    "import argparse\n",
    "import os\n",
    "import shutil\n",
    "import gzip\n",
    "\n",
    "import torch\n",
    "import torch.nn as nn\n",
    "from torch.autograd import Variable\n",
    "\n",
    "import spacy"
   ]
  },
  {
   "cell_type": "code",
   "execution_count": 7,
   "metadata": {
    "collapsed": true
   },
   "outputs": [],
   "source": [
    "train_path = '/Users/Max/data/beer_reviews/reviews.all.train.txt.gz'\n",
    "val_path = '/Users/Max/data/beer_reviews/reviews.all.heldout.txt.gz'\n",
    "\n",
    "nlp = spacy.load('en')"
   ]
  },
  {
   "cell_type": "code",
   "execution_count": 215,
   "metadata": {
    "collapsed": true
   },
   "outputs": [],
   "source": [
    "# \n",
    "with gzip.open(train_path, 'rt') as f:\n",
    "    lines = f.readlines()"
   ]
  },
  {
   "cell_type": "code",
   "execution_count": null,
   "metadata": {},
   "outputs": [],
   "source": [
    "for line in lines:\n",
    "    target, _, review = line.partition(\"\\t\")\n",
    "    doc = nlp(review)\n",
    "    \n",
    "    # parsing in spacy style\n",
    "    words = [tuple([token.text]) for token in doc]\n",
    "    sents = [tuple([token.text for token in sent]) for sent in doc.sents]\n",
    "    chunks = [tuple([word.text for word in token.subtree]) for token in doc]\n",
    "    \n",
    "    # creating encodings\n",
    "    enc_words  = target + '\\D' + '\\T'.join(['\\W'.join(tup) for tup in words])\n",
    "    enc_sents  = target + '\\D' + '\\T'.join(['\\W'.join(tup) for tup in sents])\n",
    "    enc_chunks = target + '\\D' + '\\T'.join(['\\W'.join(tup) for tup in chunks])\n",
    "    \n",
    "    with gzip.open('/Users/Max/data/beer_reviews/reviews.all.train.words.txt.gz', 'at') as f:\n",
    "        f.write(enc_words)\n",
    "    \n",
    "    with gzip.open('/Users/Max/data/beer_reviews/reviews.all.train.chunks.txt.gz', 'at') as f:\n",
    "        f.write(enc_words)\n",
    "        \n",
    "    with gzip.open('/Users/Max/data/beer_reviews/reviews.all.train.sents.txt.gz', 'at') as f:\n",
    "        f.write(enc_words)"
   ]
  },
  {
   "cell_type": "code",
   "execution_count": 205,
   "metadata": {},
   "outputs": [],
   "source": [
    "with gzip.open('/Users/Max/data/beer_reviews/reviews.short.val.txt.gz', 'rt') as f:\n",
    "    my_lines = f.readlines()"
   ]
  },
  {
   "cell_type": "code",
   "execution_count": 210,
   "metadata": {
    "collapsed": true
   },
   "outputs": [
    {
     "data": {
      "text/plain": [
       "[('picked',),\n",
       " ('this',),\n",
       " ('up',),\n",
       " ('in',),\n",
       " ('westborough',),\n",
       " ('mass',),\n",
       " ('at',),\n",
       " ('julio',),\n",
       " (\"'s\",),\n",
       " ('.',),\n",
       " ('caught',),\n",
       " ('my',),\n",
       " ('eye',),\n",
       " ('when',),\n",
       " ('i',),\n",
       " ('saw',),\n",
       " ('stone',),\n",
       " ('and',),\n",
       " ('alchemist',),\n",
       " ('collaborating',),\n",
       " ('.',),\n",
       " ('the',),\n",
       " ('excitement',),\n",
       " ('turned',),\n",
       " ('out',),\n",
       " ('to',),\n",
       " ('be',),\n",
       " ('warranted',),\n",
       " (',',),\n",
       " ('because',),\n",
       " ('this',),\n",
       " ('was',),\n",
       " ('an',),\n",
       " ('excellent',),\n",
       " ('beer',),\n",
       " ('.',),\n",
       " ('it',),\n",
       " ('makes',),\n",
       " ('me',),\n",
       " ('want',),\n",
       " ('to',),\n",
       " ('try',),\n",
       " ('heady',),\n",
       " ('topper',),\n",
       " ('even',),\n",
       " ('more',),\n",
       " ('so',),\n",
       " ('than',),\n",
       " ('i',),\n",
       " ('already',),\n",
       " ('do',),\n",
       " ('.',),\n",
       " ('right',),\n",
       " ('when',),\n",
       " ('i',),\n",
       " ('opened',),\n",
       " ('it',),\n",
       " ('the',),\n",
       " ('first',),\n",
       " ('wiff',),\n",
       " ('was',),\n",
       " ('a',),\n",
       " ('great',),\n",
       " ('strong',),\n",
       " ('smell',),\n",
       " ('of',),\n",
       " ('piney',),\n",
       " ('hops',),\n",
       " ('.',),\n",
       " ('outstanding',),\n",
       " ('smell',),\n",
       " ('.',),\n",
       " ('the',),\n",
       " ('freshness',),\n",
       " ('was',),\n",
       " ('still',),\n",
       " ('there',),\n",
       " ('.',),\n",
       " ('nice',),\n",
       " ('fresh',),\n",
       " ('feel',),\n",
       " ('and',),\n",
       " ('taste',),\n",
       " ('.',),\n",
       " ('a',),\n",
       " ('good',),\n",
       " ('balance',),\n",
       " ('of',),\n",
       " ('a',),\n",
       " ('fruit',),\n",
       " ('(',),\n",
       " ('grapefruit',),\n",
       " ('?',),\n",
       " (')',),\n",
       " ('as',),\n",
       " ('well',),\n",
       " ('as',),\n",
       " ('that',),\n",
       " ('hops',),\n",
       " ('that',),\n",
       " ('i',),\n",
       " ('smelled',),\n",
       " ('.',),\n",
       " ('\\n',)]"
      ]
     },
     "execution_count": 210,
     "metadata": {},
     "output_type": "execute_result"
    }
   ],
   "source": [
    "# Decode\n",
    "obj = my_lines[999]\n",
    "target, review = obj.split('\\D')\n",
    "[tuple(chunk.split('\\W')) for chunk in review.split('\\T')]"
   ]
  },
  {
   "cell_type": "code",
   "execution_count": null,
   "metadata": {
    "collapsed": true
   },
   "outputs": [],
   "source": []
  },
  {
   "cell_type": "code",
   "execution_count": 175,
   "metadata": {
    "collapsed": true
   },
   "outputs": [],
   "source": [
    "# parsing in spacy style\n",
    "words = [tuple([token.text]) for token in doc]\n",
    "sents = [tuple([token.text for token in sent]) for sent in doc.sents]\n",
    "chunks = [tuple([word.text for word in token.subtree]) for token in doc]\n",
    "\n",
    "# creating encodings\n",
    "enc_words  = target + '\\D' + '\\T'.join(['\\W'.join(tup) for tup in words])\n",
    "enc_sents  = target + '\\D' + '\\T'.join(['\\W'.join(tup) for tup in sents])\n",
    "enc_chunks = target + '\\D' + '\\T'.join(['\\W'.join(tup) for tup in chunks])\n",
    "\n"
   ]
  },
  {
   "cell_type": "code",
   "execution_count": 201,
   "metadata": {},
   "outputs": [
    {
     "data": {
      "text/plain": [
       "'\\n'"
      ]
     },
     "execution_count": 201,
     "metadata": {},
     "output_type": "execute_result"
    }
   ],
   "source": [
    "lines[1]"
   ]
  },
  {
   "cell_type": "code",
   "execution_count": 211,
   "metadata": {},
   "outputs": [],
   "source": [
    "target, review = enc_chunks.split('\\D')"
   ]
  },
  {
   "cell_type": "code",
   "execution_count": 162,
   "metadata": {},
   "outputs": [
    {
     "data": {
      "text/plain": [
       "'0.90 0.60 0.80 0.80 0.80'"
      ]
     },
     "execution_count": 162,
     "metadata": {},
     "output_type": "execute_result"
    }
   ],
   "source": [
    "target"
   ]
  },
  {
   "cell_type": "code",
   "execution_count": 165,
   "metadata": {},
   "outputs": [
    {
     "data": {
      "text/plain": [
       "['pour',\n",
       " 'is',\n",
       " 'perfect',\n",
       " 'porter',\n",
       " ':',\n",
       " 'jet',\n",
       " 'black',\n",
       " ',',\n",
       " 'huge',\n",
       " 'off',\n",
       " '-',\n",
       " 'tan',\n",
       " 'head',\n",
       " 'on',\n",
       " 'top',\n",
       " 'of',\n",
       " 'it',\n",
       " '.']"
      ]
     },
     "execution_count": 165,
     "metadata": {},
     "output_type": "execute_result"
    }
   ],
   "source": [
    "review.split('\\T')[0].split('\\W')"
   ]
  },
  {
   "cell_type": "code",
   "execution_count": 167,
   "metadata": {},
   "outputs": [
    {
     "data": {
      "text/plain": [
       "\"poured\\\\Wfrom\\\\Wa\\\\Wbottle\\\\Winto\\\\Wimp\\\\Wpint\\\\Wglass\\\\Wwith\\\\Wdrink\\\\Wby\\\\Wdate\\\\Wof\\\\Wmarch\\\\W2009\\\\W.\\\\Tfrom\\\\Wa\\\\Wbottle\\\\Ta\\\\Ta\\\\Wbottle\\\\Tinto\\\\Wimp\\\\Wpint\\\\Wglass\\\\Wwith\\\\Wdrink\\\\Wby\\\\Wdate\\\\Wof\\\\Wmarch\\\\W2009\\\\Timp\\\\Tpint\\\\Timp\\\\Wpint\\\\Wglass\\\\Wwith\\\\Wdrink\\\\Wby\\\\Wdate\\\\Wof\\\\Wmarch\\\\W2009\\\\Twith\\\\Wdrink\\\\Wby\\\\Wdate\\\\Wof\\\\Wmarch\\\\W2009\\\\Tdrink\\\\Wby\\\\Wdate\\\\Wof\\\\Wmarch\\\\W2009\\\\Tby\\\\Wdate\\\\Wof\\\\Wmarch\\\\W2009\\\\Tdate\\\\Wof\\\\Wmarch\\\\W2009\\\\Tof\\\\Wmarch\\\\W2009\\\\Tmarch\\\\W2009\\\\T2009\\\\T.\\\\Tpours\\\\Wa\\\\Wclear\\\\Wlight\\\\Wcopper\\\\Wwith\\\\Wa\\\\Wlittle\\\\Whead\\\\W,\\\\Wvery\\\\Wlight\\\\Wretention\\\\W.\\\\Ta\\\\Tclear\\\\Tlight\\\\Ta\\\\Wclear\\\\Wlight\\\\Wcopper\\\\Wwith\\\\Wa\\\\Wlittle\\\\Whead\\\\W,\\\\Wvery\\\\Wlight\\\\Twith\\\\Wa\\\\Wlittle\\\\Whead\\\\W,\\\\Ta\\\\Tlittle\\\\Ta\\\\Wlittle\\\\Whead\\\\W,\\\\T,\\\\Tvery\\\\Tvery\\\\Wlight\\\\Tretention\\\\T.\\\\Tsmell\\\\Twas\\\\Tsmell\\\\Wwas\\\\Wlacking\\\\Wwith\\\\Wbarely\\\\Wany\\\\Whop\\\\Wscent\\\\Wcoming\\\\Wfrom\\\\Wthe\\\\Wpour\\\\W.\\\\Twith\\\\Wbarely\\\\Wany\\\\Whop\\\\Wscent\\\\Wcoming\\\\Wfrom\\\\Wthe\\\\Wpour\\\\Tbarely\\\\Tany\\\\Thop\\\\Tbarely\\\\Wany\\\\Whop\\\\Wscent\\\\Wcoming\\\\Wfrom\\\\Wthe\\\\Wpour\\\\Tcoming\\\\Wfrom\\\\Wthe\\\\Wpour\\\\Tfrom\\\\Wthe\\\\Wpour\\\\Tthe\\\\Tthe\\\\Wpour\\\\T.\\\\Ti\\\\Ti\\\\Wthink\\\\Wi\\\\Wsmelled\\\\Wmore\\\\Wmalts\\\\Wthan\\\\Whops\\\\W.\\\\Ti\\\\Ti\\\\Wsmelled\\\\Wmore\\\\Wmalts\\\\Wthan\\\\Whops\\\\Tmore\\\\Tmore\\\\Wmalts\\\\Wthan\\\\Whops\\\\Tthan\\\\Whops\\\\Thops\\\\T.\\\\Ttaste\\\\Ttaste\\\\Wwas\\\\Wslightly\\\\Wbitter\\\\Wbut\\\\Wrather\\\\Wwashed\\\\Wout\\\\W.\\\\Tslightly\\\\Tslightly\\\\Wbitter\\\\Wbut\\\\Tbut\\\\Trather\\\\Trather\\\\Wwashed\\\\Wout\\\\Tout\\\\T.\\\\Tit\\\\Tit\\\\Wwas\\\\Wvery\\\\Wbitter\\\\Wbut\\\\Wheavy\\\\Wmalt\\\\Wpresence\\\\W.\\\\Tvery\\\\Tvery\\\\Wbitter\\\\Wbut\\\\Wheavy\\\\Tbut\\\\Theavy\\\\Tmalt\\\\Tvery\\\\Wbitter\\\\Wbut\\\\Wheavy\\\\Wmalt\\\\Wpresence\\\\T.\\\\Tthe\\\\Tbest\\\\Tthe\\\\Wbest\\\\Wpart\\\\Tthe\\\\Wbest\\\\Wpart\\\\Wwas\\\\Wthe\\\\Wfinish\\\\W.\\\\Tthe\\\\Tthe\\\\Wfinish\\\\T.\\\\Tcarbonation\\\\Tcarbonation\\\\Wwas\\\\Wstrong\\\\W,\\\\Wa\\\\Wsmidge\\\\Wtoo\\\\Wstrong\\\\Wfor\\\\Wme\\\\Woverall\\\\W,\\\\Wi\\\\Wam\\\\Wnot\\\\Wtoo\\\\Wimpressed\\\\W.\\\\Tstrong\\\\T,\\\\Ta\\\\Ta\\\\Wsmidge\\\\Wtoo\\\\Wstrong\\\\Wfor\\\\Wme\\\\Woverall\\\\Ttoo\\\\Ttoo\\\\Wstrong\\\\Wfor\\\\Wme\\\\Tfor\\\\Wme\\\\Tme\\\\Toverall\\\\T,\\\\Ti\\\\T,\\\\Wi\\\\Wam\\\\Wnot\\\\Wtoo\\\\Wimpressed\\\\Tnot\\\\Ttoo\\\\Ttoo\\\\Wimpressed\\\\T.\\\\Tthe\\\\Tbrooklyn\\\\Tthe\\\\Wbrooklyn\\\\Wlager\\\\Tthe\\\\Wbrooklyn\\\\Wlager\\\\Wis\\\\Wfar\\\\Wmore\\\\Whopped\\\\Wthan\\\\Wthis\\\\Woffering\\\\W.\\\\Tfar\\\\Tmore\\\\Tfar\\\\Wmore\\\\Whopped\\\\Wthan\\\\Wthis\\\\Woffering\\\\Tthan\\\\Wthis\\\\Woffering\\\\Tthis\\\\Tthis\\\\Woffering\\\\T.\\\\Tnot\\\\Tnot\\\\Wsure\\\\Whow\\\\Wold\\\\Wthis\\\\Wbottle\\\\Wis\\\\Wbut\\\\Wit\\\\Wlacks\\\\Whops\\\\W.\\\\Thow\\\\Thow\\\\Wold\\\\Tthis\\\\Tthis\\\\Wbottle\\\\Thow\\\\Wold\\\\Wthis\\\\Wbottle\\\\Wis\\\\Wbut\\\\Wit\\\\Wlacks\\\\Whops\\\\Tbut\\\\Tit\\\\Tit\\\\Wlacks\\\\Whops\\\\Thops\\\\T.\\\\Tbrooklyn\\\\Tbrooklyn\\\\Wbrewery\\\\Tbrooklyn\\\\Wbrewery\\\\Wis\\\\Wa\\\\Wsolid\\\\Wbrewery\\\\Wso\\\\Wi\\\\Wwo\\\\Wn't\\\\Whold\\\\Wthis\\\\Wagainst\\\\Wthem\\\\W.\\\\W\\n\\\\Ta\\\\Tsolid\\\\Ta\\\\Wsolid\\\\Wbrewery\\\\Tso\\\\Ti\\\\Two\\\\Tn't\\\\Ti\\\\Wwo\\\\Wn't\\\\Whold\\\\Wthis\\\\Wagainst\\\\Wthem\\\\W.\\\\W\\n\\\\Tthis\\\\Tagainst\\\\Wthem\\\\Tthem\\\\T.\\\\W\\n\\\\T\\n\""
      ]
     },
     "execution_count": 167,
     "metadata": {},
     "output_type": "execute_result"
    }
   ],
   "source": [
    "enc_chunks[]"
   ]
  },
  {
   "cell_type": "code",
   "execution_count": null,
   "metadata": {
    "collapsed": true
   },
   "outputs": [],
   "source": [
    "with open('output', 'w') as f:\n",
    "    f.write('\\t'.join(l[1:]) + '\\n')"
   ]
  }
 ],
 "metadata": {
  "kernelspec": {
   "display_name": "Python 3",
   "language": "python",
   "name": "python3"
  },
  "language_info": {
   "codemirror_mode": {
    "name": "ipython",
    "version": 3
   },
   "file_extension": ".py",
   "mimetype": "text/x-python",
   "name": "python",
   "nbconvert_exporter": "python",
   "pygments_lexer": "ipython3",
   "version": "3.6.1"
  }
 },
 "nbformat": 4,
 "nbformat_minor": 2
}
