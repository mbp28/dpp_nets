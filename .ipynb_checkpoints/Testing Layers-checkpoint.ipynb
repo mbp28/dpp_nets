{
 "cells": [
  {
   "cell_type": "code",
   "execution_count": 1,
   "metadata": {
    "collapsed": true
   },
   "outputs": [],
   "source": [
    "from dpp_nets.layers.layers import *\n",
    "from dpp_nets.my_torch.utilities import pad_tensor"
   ]
  },
  {
   "cell_type": "code",
   "execution_count": 2,
   "metadata": {},
   "outputs": [],
   "source": [
    "embd_dim = 10\n",
    "hidden_dim = 20\n",
    "kernel_dim = 15\n",
    "enc_dim = 50\n",
    "target_dim = 3\n",
    "alpha_iter = 5\n",
    "\n",
    "kernel_net = KernelVar(embd_dim, hidden_dim, kernel_dim).double()\n",
    "#sampler = MarginalSampler()\n",
    "sampler = ReinforceSampler(alpha_iter)\n",
    "pred_net = PredNet(embd_dim, hidden_dim, enc_dim, target_dim).double()"
   ]
  },
  {
   "cell_type": "code",
   "execution_count": 8,
   "metadata": {},
   "outputs": [
    {
     "name": "stdout",
     "output_type": "stream",
     "text": [
      "Zero Subset was produced. Re-sample\n",
      "Zero Subset was produced. Re-sample\n",
      "Zero Subset was produced. Re-sample\n",
      "Zero Subset was produced. Re-sample\n",
      "Zero Subset was produced. Re-sample\n",
      "Zero Subset was produced. Re-sample\n",
      "Zero Subset was produced. Re-sample\n",
      "Zero Subset was produced. Re-sample\n",
      "Zero Subset was produced. Re-sample\n",
      "Zero Subset was produced. Re-sample\n",
      "Zero Subset was produced. Re-sample\n",
      "Zero Subset was produced. Re-sample\n",
      "Zero Subset was produced. Re-sample\n",
      "Zero Subset was produced. Re-sample\n",
      "Zero Subset was produced. Re-sample\n",
      "Zero Subset was produced. Re-sample\n"
     ]
    },
    {
     "data": {
      "text/plain": [
       "Variable containing:\n",
       " 1.0636\n",
       "[torch.DoubleTensor of size 1]"
      ]
     },
     "execution_count": 8,
     "metadata": {},
     "output_type": "execute_result"
    }
   ],
   "source": [
    "batch_size = 4\n",
    "max_set_size = 7\n",
    "data = torch.cat([pad_tensor(torch.randn(1,6,embd_dim),1,0,max_set_size),\n",
    "           pad_tensor(torch.randn(1,4,embd_dim),1,0,max_set_size), \n",
    "           pad_tensor(torch.randn(1,7,embd_dim),1,0,max_set_size),\n",
    "        pad_tensor(torch.randn(1,5,embd_dim),1,0,max_set_size)])\n",
    "\n",
    "words = Variable(data).double()\n",
    "target = Variable(torch.randn(batch_size, target_dim)).double()\n",
    "kernel, words = kernel_net(words)\n",
    "sampler.s_ix = kernel_net.s_ix\n",
    "sampler.e_ix = kernel_net.e_ix\n",
    "weighted_words = sampler(kernel, words)\n",
    "pred_net.s_ix = sampler.s_ix\n",
    "pred_net.e_ix = sampler.e_ix\n",
    "pred_net(weighted_words)\n",
    "\n",
    "# trainer = MarginalTrainer(kernel_net, sampler, pred_net)\n",
    "trainer = ReinforceTrainer(kernel_net, sampler, pred_net)\n",
    "trainer.reg = 0\n",
    "trainer.reg_mean = 3\n",
    "trainer.activation = nn.Sigmoid()\n",
    "words = Variable(data).double()\n",
    "trainer(words, target)"
   ]
  },
  {
   "cell_type": "code",
   "execution_count": 7,
   "metadata": {},
   "outputs": [
    {
     "data": {
      "text/plain": [
       "Variable containing:\n",
       "-0.1240  0.1900 -0.0065\n",
       "-0.1560  0.1945 -0.0209\n",
       "-0.1558  0.2080  0.0148\n",
       "-0.1558  0.2080  0.0148\n",
       "-0.1401  0.2110  0.0208\n",
       "-0.1356  0.2060  0.0075\n",
       "-0.1330  0.1997  0.0182\n",
       "-0.1284  0.1896 -0.0207\n",
       "-0.1244  0.1857 -0.0160\n",
       "-0.1284  0.1896 -0.0207\n",
       "-0.1291  0.1926  0.0083\n",
       "-0.1362  0.1993  0.0139\n",
       "-0.1362  0.1993  0.0139\n",
       "-0.0981  0.1791 -0.0072\n",
       "-0.1291  0.1926  0.0083\n",
       "-0.1217  0.2021  0.0020\n",
       "-0.1388  0.2022  0.0183\n",
       "-0.1217  0.2021  0.0020\n",
       "-0.1250  0.1836 -0.0084\n",
       "-0.1236  0.1975 -0.0085\n",
       "[torch.DoubleTensor of size 20x3]"
      ]
     },
     "execution_count": 7,
     "metadata": {},
     "output_type": "execute_result"
    }
   ],
   "source": [
    "trainer.pred"
   ]
  },
  {
   "cell_type": "code",
   "execution_count": null,
   "metadata": {
    "collapsed": true
   },
   "outputs": [],
   "source": []
  }
 ],
 "metadata": {
  "kernelspec": {
   "display_name": "Python 3",
   "language": "python",
   "name": "python3"
  },
  "language_info": {
   "codemirror_mode": {
    "name": "ipython",
    "version": 3
   },
   "file_extension": ".py",
   "mimetype": "text/x-python",
   "name": "python",
   "nbconvert_exporter": "python",
   "pygments_lexer": "ipython3",
   "version": "3.6.1"
  }
 },
 "nbformat": 4,
 "nbformat_minor": 2
}
