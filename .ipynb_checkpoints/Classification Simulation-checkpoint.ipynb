{
 "cells": [
  {
   "cell_type": "code",
   "execution_count": 1,
   "metadata": {},
   "outputs": [],
   "source": [
    "import torch\n",
    "\n",
    "from dpp_nets.my_torch.simulator import SimFilter"
   ]
  },
  {
   "cell_type": "code",
   "execution_count": 2,
   "metadata": {
    "collapsed": true
   },
   "outputs": [],
   "source": [
    "network_params = {'set_size': 40, 'n_clusters': 2, 'max_sig': 10}\n",
    "dtype = torch.DoubleTensor"
   ]
  },
  {
   "cell_type": "code",
   "execution_count": 3,
   "metadata": {},
   "outputs": [],
   "source": [
    "torch.manual_seed(10)\n",
    "a = SimFilter(network_params, dtype)"
   ]
  },
  {
   "cell_type": "code",
   "execution_count": 4,
   "metadata": {},
   "outputs": [
    {
     "name": "stdout",
     "output_type": "stream",
     "text": [
      "Loss at it  100  is:  195.05\n",
      "Loss at it  200  is:  138.95\n",
      "Loss at it  300  is:  100.7\n",
      "Loss at it  400  is:  103.3\n",
      "Loss at it  500  is:  100.025\n",
      "Loss at it  600  is:  94.875\n",
      "Loss at it  700  is:  85.5\n",
      "Loss at it  800  is:  65.475\n",
      "Loss at it  900  is:  77.925\n",
      "Loss at it  1000  is:  75.275\n"
     ]
    }
   ],
   "source": [
    "torch.manual_seed(14)\n",
    "a.train(1000, 10, 1e-5, 4)"
   ]
  },
  {
   "cell_type": "code",
   "execution_count": null,
   "metadata": {
    "collapsed": true
   },
   "outputs": [],
   "source": [
    "torch.manual_seed(10)\n",
    "a = SimFilter(network_params, dtype)"
   ]
  },
  {
   "cell_type": "code",
   "execution_count": null,
   "metadata": {},
   "outputs": [],
   "source": [
    "torch.manual_seed(14)\n",
    "a.train(1000, 10, 1e-5, 4)"
   ]
  },
  {
   "cell_type": "code",
   "execution_count": null,
   "metadata": {
    "collapsed": true
   },
   "outputs": [],
   "source": []
  }
 ],
 "metadata": {
  "kernelspec": {
   "display_name": "Python 3",
   "language": "python",
   "name": "python3"
  },
  "language_info": {
   "codemirror_mode": {
    "name": "ipython",
    "version": 3
   },
   "file_extension": ".py",
   "mimetype": "text/x-python",
   "name": "python",
   "nbconvert_exporter": "python",
   "pygments_lexer": "ipython3",
   "version": "3.6.1"
  }
 },
 "nbformat": 4,
 "nbformat_minor": 2
}
