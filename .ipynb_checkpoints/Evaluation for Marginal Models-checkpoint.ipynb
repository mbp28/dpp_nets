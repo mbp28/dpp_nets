{
 "cells": [
  {
   "cell_type": "code",
   "execution_count": 1,
   "metadata": {
    "collapsed": true
   },
   "outputs": [],
   "source": [
    "import argparse\n",
    "import os\n",
    "import shutil\n",
    "import gzip\n",
    "\n",
    "import torch\n",
    "import torch.nn as nn\n",
    "from torch.autograd import Variable\n",
    "\n",
    "import torch\n",
    "import torch.nn as nn\n",
    "from torch.autograd import Variable\n",
    "\n",
    "from dpp_nets.utils.language import Vocabulary, BeerDataset, custom_collate\n",
    "from dpp_nets.layers.layers import ChunkTrainer, ChunkTrainerRel\n",
    "\n",
    "from dpp_nets.utils.language import EvalSet"
   ]
  },
  {
   "cell_type": "code",
   "execution_count": 2,
   "metadata": {
    "collapsed": true
   },
   "outputs": [],
   "source": [
    "from dpp_nets.utils.language import Vocabulary\n",
    "\n",
    "embd_path = '/Users/Max/data/beer_reviews/review+wiki.filtered.200.txt.gz'\n",
    "word_path = '/Users/Max/data/beer_reviews/reviews.all.train.words.txt.gz'\n",
    "\n",
    "# Set-up Vocabulary\n",
    "vocab = Vocabulary()\n",
    "vocab.loadPretrained(embd_path)\n",
    "vocab.setStops()\n",
    "vocab.loadCorpus(word_path)\n",
    "vocab.updateEmbedding()\n",
    "vocab.setCuda(False)"
   ]
  },
  {
   "cell_type": "code",
   "execution_count": 14,
   "metadata": {
    "collapsed": true
   },
   "outputs": [],
   "source": [
    "# Load saved checkpoint\n",
    "model = 'allwords1reg0.1reg_mean10.0lr0.001marginal_best_ckp.pth.tar'\n",
    "model_dir = '/Users/Max/checkpoints/beer_reviews/marginal/' \n",
    "model_path = model_dir + model\n",
    "model = torch.load(model_path, map_location=lambda storage, loc: storage)\n",
    "vocab.EmbeddingBag.load_state_dict(model['embedding'])"
   ]
  },
  {
   "cell_type": "code",
   "execution_count": null,
   "metadata": {
    "collapsed": true
   },
   "outputs": [],
   "source": [
    "EMBD_DIM = 200\n",
    "KERNEL_DIM = 200\n",
    "HIDDEN_DIM = 500\n",
    "ENC_DIM = 200\n",
    "TARGET_DIM = 3 if model['aspect'] in set(['all', 'short']) else 1\n",
    "\n",
    "if model['mode'] == 'sents':\n",
    "    trainer = ChunkTrainer(EMBD_DIM, HIDDEN_DIM, KERNEL_DIM, ENC_DIM, TARGET_DIM)\n",
    "else:\n",
    "    trainer = ChunkTrainerRel(EMBD_DIM, HIDDEN_DIM, KERNEL_DIM, ENC_DIM, TARGET_DIM)\n",
    "\n",
    "trainer.load_state_dict(model['model'])\n",
    "trainer.activation = nn.Sigmoid()\n",
    "trainer.reg = model['reg']\n",
    "trainer.reg_mean = model['reg_mean']\n",
    "\n",
    "rat_path = '/Users/Max/data/beer_reviews/annotations.json'\n",
    "evalset = EvalSet(rat_path, vocab)"
   ]
  },
  {
   "cell_type": "code",
   "execution_count": null,
   "metadata": {},
   "outputs": [],
   "source": [
    "# Plot a table\n",
    "print('__________________________Training Table__________________________')\n",
    "for k, v in model['train_loss'].items():\n",
    "    epoch, loss, pred_loss, reg_loss = k, v[0], model['train_pred_loss'][k][0], model['train_reg_loss'][k][0]\n",
    "    print(str.join(\" | \", ['Epoch: %d' % (epoch), 'Loss: %.5f' % (loss), \n",
    "                              'Pred Loss: %.5f' % (pred_loss), 'Reg Loss: %.5f' % (reg_loss)]))"
   ]
  },
  {
   "cell_type": "code",
   "execution_count": null,
   "metadata": {},
   "outputs": [],
   "source": [
    "from dpp_nets.helper.plotting import plot_floats\n",
    "\n",
    "# Training Plots\n",
    "plot_floats(model['train_loss'], xlabel='Epochs', ylabel='MSE + Reg', title='Training MSE + Reg')\n",
    "plot_floats(model['train_pred_loss'], xlabel='Epochs', ylabel='MSE', title='Training MSE')\n",
    "plot_floats(model['train_reg_loss'], xlabel='Epochs', ylabel='Reg', title='Training Reg')"
   ]
  },
  {
   "cell_type": "code",
   "execution_count": null,
   "metadata": {},
   "outputs": [],
   "source": [
    "print('_________________________Validation Table_________________________')\n",
    "for k, v in model['val_loss'].items():\n",
    "    epoch, loss, pred_loss, reg_loss = k, v[0], model['val_pred_loss'][k][0], model['val_reg_loss'][k][0]\n",
    "    print(str.join(\" | \", ['Epoch: %d' % (epoch), 'Loss: %.5f' % (loss), \n",
    "                              'Pred Loss: %.5f' % (pred_loss), 'Reg Loss: %.5f' % (reg_loss)]))"
   ]
  },
  {
   "cell_type": "code",
   "execution_count": null,
   "metadata": {},
   "outputs": [],
   "source": [
    "from dpp_nets.helper.plotting import plot_floats\n",
    "\n",
    "# Training Plots\n",
    "plot_floats(model['val_loss'], xlabel='Epochs', ylabel='MSE + Reg', title='Validation MSE + Reg')\n",
    "plot_floats(model['val_pred_loss'], xlabel='Epochs', ylabel='MSE', title='Validation MSE')\n",
    "plot_floats(model['val_reg_loss'], xlabel='Epochs', ylabel='Reg', title='Validation Reg')"
   ]
  },
  {
   "cell_type": "code",
   "execution_count": null,
   "metadata": {},
   "outputs": [],
   "source": [
    "# Evaluation on Test Set\n",
    "\n",
    "loss, pred_loss, reg_loss = evalset.computeLoss(trainer, model['mode'])\n",
    "print(str.join(\" | \", ['Test Set:', 'Loss: %.5f' % (loss), \n",
    "                              'Pred Loss: %.5f' % (pred_loss), 'Reg Loss: %.5f' % (reg_loss)]))\n",
    "\n",
    "prec, extract = evalset.evaluatePrecision(trainer,model['mode'])\n",
    "print(str.join(\" | \", ['Test Set:', 'Precision: %.5f' % (prec), 'Extract: %.5f' % (extract)]))"
   ]
  },
  {
   "cell_type": "code",
   "execution_count": null,
   "metadata": {},
   "outputs": [],
   "source": [
    "# Random Samples\n",
    "evalset.sample(trainer, model['mode'],397)"
   ]
  },
  {
   "cell_type": "code",
   "execution_count": null,
   "metadata": {},
   "outputs": [],
   "source": [
    "# Random Marginals\n",
    "evalset.computeMarginals(trainer, model['mode'],397)"
   ]
  },
  {
   "cell_type": "code",
   "execution_count": null,
   "metadata": {},
   "outputs": [],
   "source": [
    "evalset.computeMAPPredLoss(trainer, model['mode'])"
   ]
  }
 ],
 "metadata": {
  "kernelspec": {
   "display_name": "Python 3",
   "language": "python",
   "name": "python3"
  },
  "language_info": {
   "codemirror_mode": {
    "name": "ipython",
    "version": 3
   },
   "file_extension": ".py",
   "mimetype": "text/x-python",
   "name": "python",
   "nbconvert_exporter": "python",
   "pygments_lexer": "ipython3",
   "version": "3.6.2"
  }
 },
 "nbformat": 4,
 "nbformat_minor": 2
}
