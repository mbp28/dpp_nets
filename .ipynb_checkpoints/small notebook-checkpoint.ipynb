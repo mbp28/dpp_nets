{
 "cells": [
  {
   "cell_type": "code",
   "execution_count": null,
   "metadata": {
    "collapsed": true
   },
   "outputs": [],
   "source": [
    "import dpp_nets.dpp as dpp"
   ]
  },
  {
   "cell_type": "code",
   "execution_count": null,
   "metadata": {},
   "outputs": [],
   "source": [
    "dpp.sample_dpp"
   ]
  },
  {
   "cell_type": "code",
   "execution_count": null,
   "metadata": {},
   "outputs": [],
   "source": [
    "import numpy\n",
    "A = numpy.random.rand(10,10)\n",
    "L = A.dot(A.T)\n",
    "e, v = numpy.linalg.eig(L)\n",
    "subset = dpp.sample_dpp(e, v, one_hot=True)"
   ]
  },
  {
   "cell_type": "code",
   "execution_count": null,
   "metadata": {},
   "outputs": [],
   "source": [
    "subset"
   ]
  },
  {
   "cell_type": "code",
   "execution_count": null,
   "metadata": {},
   "outputs": [],
   "source": [
    "np.zeros(3).dtype"
   ]
  },
  {
   "cell_type": "code",
   "execution_count": null,
   "metadata": {},
   "outputs": [],
   "source": [
    "import torch\n",
    "import torch.nn as nn\n",
    "from torch.autograd import Function\n",
    "from torch.autograd import Variable\n",
    "\n",
    "import dpp_nets.dpp as dpp\n",
    "\n",
    "class DPP(Function):\n",
    "    \"\"\"\n",
    "    Uses Numpy Functions to sample from the DPP implicitly \n",
    "    defined through embd, returns score as a gradient in the\n",
    "    backward computation (needs to be complemented by hooks\n",
    "    for REINFORCE or control variate training)\n",
    "\n",
    "    Arguments:\n",
    "    Depending on whether you're training Double or Float, provide\n",
    "    dtype = torch.FloatTensor\n",
    "    dtype = torch.DoubleTensor\n",
    "    \"\"\"\n",
    "    def __init__(self, dtype):\n",
    "        self.dtype = dtype\n",
    "\n",
    "    def forward(self, embd):\n",
    "\n",
    "        # Perform SVD to get eigenvalue decomposition of L\n",
    "        u1, s, u2 = torch.svd(embd)\n",
    "        e = torch.pow(s,2).numpy()\n",
    "        v = u1.numpy()\n",
    "\n",
    "        # Sample subset from the DPP\n",
    "        subset = torch.from_numpy(dpp.sample_dpp(e, v, one_hot=True))\n",
    "        subset = subset.type(self.dtype)\n",
    "        # Save tensors for backward (gradient computation)\n",
    "        self.save_for_backward(embd, subset)\n",
    "\n",
    "        return subset\n",
    "        \n",
    "    def backward(self, grad_output):\n",
    "        embd, subset = self.saved_tensors\n",
    "        embd, subset = embd.numpy(), subset.numpy()\n",
    "        score = torch.from_numpy(dpp.score_dpp(embd, subset))\n",
    "\n",
    "        return score.type(self.dtype)"
   ]
  },
  {
   "cell_type": "code",
   "execution_count": null,
   "metadata": {},
   "outputs": [],
   "source": []
  },
  {
   "cell_type": "code",
   "execution_count": null,
   "metadata": {},
   "outputs": [],
   "source": [
    "dir(my_torch)"
   ]
  },
  {
   "cell_type": "code",
   "execution_count": 4,
   "metadata": {},
   "outputs": [
    {
     "name": "stdout",
     "output_type": "stream",
     "text": [
      "<class 'torch.DoubleTensor'>\n",
      "<class 'torch.DoubleTensor'>\n"
     ]
    }
   ],
   "source": [
    "import dpp_nets.my_torch as my_torch\n",
    "import torch\n",
    "from torch.autograd import Variable\n",
    "\n",
    "#dtype = torch.FloatTensor\n",
    "dtype = torch.DoubleTensor\n",
    "my_layer = my_torch.DPPLayer(dtype)\n",
    "A = Variable(torch.randn(10,10), requires_grad=True)\n",
    "subset = my_layer(A)\n",
    "l = torch.sum(subset)\n",
    "l.backward()\n",
    "print(type(subset.data))\n",
    "print(type(A.grad.data))"
   ]
  },
  {
   "cell_type": "code",
   "execution_count": null,
   "metadata": {},
   "outputs": [],
   "source": [
    "my_layer(A)"
   ]
  },
  {
   "cell_type": "code",
   "execution_count": null,
   "metadata": {
    "collapsed": true
   },
   "outputs": [],
   "source": [
    "my_function = my_torch.DPP(dtype)"
   ]
  },
  {
   "cell_type": "code",
   "execution_count": null,
   "metadata": {},
   "outputs": [],
   "source": [
    "my_function(A)"
   ]
  },
  {
   "cell_type": "code",
   "execution_count": null,
   "metadata": {
    "collapsed": true
   },
   "outputs": [],
   "source": []
  }
 ],
 "metadata": {
  "kernelspec": {
   "display_name": "Python 3",
   "language": "python",
   "name": "python3"
  },
  "language_info": {
   "codemirror_mode": {
    "name": "ipython",
    "version": 3
   },
   "file_extension": ".py",
   "mimetype": "text/x-python",
   "name": "python",
   "nbconvert_exporter": "python",
   "pygments_lexer": "ipython3",
   "version": "3.6.1"
  }
 },
 "nbformat": 4,
 "nbformat_minor": 2
}
