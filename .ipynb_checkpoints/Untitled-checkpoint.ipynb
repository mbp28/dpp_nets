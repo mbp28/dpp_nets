{
 "cells": [
  {
   "cell_type": "code",
   "execution_count": 1,
   "metadata": {
    "collapsed": true
   },
   "outputs": [],
   "source": [
    "import torch\n",
    "import torch.nn as nn"
   ]
  },
  {
   "cell_type": "code",
   "execution_count": 2,
   "metadata": {
    "collapsed": true
   },
   "outputs": [],
   "source": [
    "V = torch.randn(5, 10)\n",
    "L = V.mm(V.t())\n",
    "\n",
    "vecs, vals, _ = torch.svd(V)\n",
    "vals = vals.pow(2)\n",
    "n = vecs.size(0)\n",
    "n_vals = vals.size(0)\n",
    "\n",
    "subset = torch.FloatTensor([0,1,1,0,0])\n",
    "subset_sum = subset.long().sum()"
   ]
  },
  {
   "cell_type": "code",
   "execution_count": 3,
   "metadata": {},
   "outputs": [
    {
     "name": "stdout",
     "output_type": "stream",
     "text": [
      "\n",
      " 0.0570\n",
      " 0.1436\n",
      " 0.1321\n",
      " 0.5572\n",
      " 1.8820\n",
      "[torch.FloatTensor of size 5]\n",
      " \n",
      " 0.0000  0.0000  0.0000  0.0000  0.0000\n",
      " 1.1933 -0.2032  0.4865 -0.0237  0.0205\n",
      "-0.3995 -1.1008 -0.0758  0.1133 -0.0067\n",
      " 0.0000  0.0000  0.0000  0.0000  0.0000\n",
      " 0.0000  0.0000  0.0000  0.0000  0.0000\n",
      "[torch.FloatTensor of size 5x5]\n",
      "\n"
     ]
    }
   ],
   "source": [
    "grad_vals = 1 / vals\n",
    "grad_vecs = torch.zeros(n, n_vals)\n",
    "\n",
    "matrix = vecs.mm(vals.diag()).mm(vecs.t())\n",
    "\n",
    "P = torch.eye(n).masked_select(subset.expand(n,n).t().byte()).view(subset_sum, -1)\n",
    "submatrix = P.mm(matrix).mm(P.t())\n",
    "# ix = (subset * torch.arange(0,len(subset))).nonzero()\n",
    "# submatrix = matrix[ix,].squeeze(1).t()[ix,].squeeze(1)\n",
    "subinv = torch.inverse(submatrix)\n",
    "Pvecs = P.mm(vecs)\n",
    "# Pvecs = vecs[ix,:].squeeze(1)\n",
    "\n",
    "grad_vals += Pvecs.t().mm(subinv).mm(Pvecs).diag()\n",
    "grad_vecs += P.t().mm(subinv).mm(Pvecs).mm(vals.diag())\n",
    "print(grad_vals, grad_vecs)"
   ]
  },
  {
   "cell_type": "code",
   "execution_count": 4,
   "metadata": {},
   "outputs": [
    {
     "name": "stdout",
     "output_type": "stream",
     "text": [
      "\n",
      " 0.0570\n",
      " 0.1436\n",
      " 0.1321\n",
      " 0.5572\n",
      " 1.8820\n",
      "[torch.FloatTensor of size 5]\n",
      " \n",
      " 0.0000  0.0000  0.0000  0.0000  0.0000\n",
      " 1.1933 -0.2032  0.4865 -0.0237  0.0205\n",
      "-0.3995 -1.1008 -0.0758  0.1133 -0.0067\n",
      " 0.0000  0.0000  0.0000  0.0000  0.0000\n",
      " 0.0000  0.0000  0.0000  0.0000  0.0000\n",
      "[torch.FloatTensor of size 5x5]\n",
      "\n"
     ]
    }
   ],
   "source": [
    "grad_vals = 1 / vals\n",
    "grad_vecs = vecs.new().resize_(n, n_vals).copy_(torch.zeros(n, n_vals))\n",
    "\n",
    "ix = subset.new().resize_(n).copy_((subset * torch.arange(0,n))).nonzero()\n",
    "Pvecs = vecs[ix,:].squeeze(1)\n",
    "\n",
    "submatrix = Pvecs.mm(vals.diag()).mm(Pvecs.t())\n",
    "subinv = torch.inverse(submatrix)\n",
    "\n",
    "grad_vals += Pvecs.t().mm(subinv).mm(Pvecs).diag()\n",
    "grad_vecs += P.t().mm(subinv).mm(Pvecs).mm(vals.diag())    \n",
    "\n",
    "print(grad_vals, grad_vecs)"
   ]
  },
  {
   "cell_type": "code",
   "execution_count": 5,
   "metadata": {},
   "outputs": [
    {
     "name": "stdout",
     "output_type": "stream",
     "text": [
      "<class 'torch.LongTensor'>\n",
      "<class 'torch.FloatTensor'>\n",
      "<class 'torch.FloatTensor'>\n",
      "<class 'torch.LongTensor'>\n"
     ]
    }
   ],
   "source": [
    "ix = (subset * torch.arange(0,len(subset))).nonzero()\n",
    "print(type(ix))\n",
    "print(type(subset))\n",
    "print(type(torch.arange(0, n)))\n",
    "ix = subset.new().resize_(n).copy_((subset * torch.arange(0,n))).nonzero()\n",
    "print(type(ix))"
   ]
  },
  {
   "cell_type": "code",
   "execution_count": 6,
   "metadata": {},
   "outputs": [
    {
     "ename": "NameError",
     "evalue": "name 't' is not defined",
     "output_type": "error",
     "traceback": [
      "\u001b[0;31m---------------------------------------------------------------------------\u001b[0m",
      "\u001b[0;31mNameError\u001b[0m                                 Traceback (most recent call last)",
      "\u001b[0;32m<ipython-input-6-b7269fa25085>\u001b[0m in \u001b[0;36m<module>\u001b[0;34m()\u001b[0m\n\u001b[0;32m----> 1\u001b[0;31m \u001b[0mt\u001b[0m\u001b[0;34m\u001b[0m\u001b[0m\n\u001b[0m",
      "\u001b[0;31mNameError\u001b[0m: name 't' is not defined"
     ]
    }
   ],
   "source": [
    "t"
   ]
  }
 ],
 "metadata": {
  "kernelspec": {
   "display_name": "Python 3",
   "language": "python",
   "name": "python3"
  },
  "language_info": {
   "codemirror_mode": {
    "name": "ipython",
    "version": 3
   },
   "file_extension": ".py",
   "mimetype": "text/x-python",
   "name": "python",
   "nbconvert_exporter": "python",
   "pygments_lexer": "ipython3",
   "version": "3.6.2"
  }
 },
 "nbformat": 4,
 "nbformat_minor": 2
}
