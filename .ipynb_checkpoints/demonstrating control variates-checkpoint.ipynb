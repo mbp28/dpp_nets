{
 "cells": [
  {
   "cell_type": "code",
   "execution_count": 1,
   "metadata": {
    "collapsed": true
   },
   "outputs": [],
   "source": [
    "import dpp_nets.my_torch as my_torch\n",
    "import torch\n",
    "import numpy as np\n",
    "from dpp_nets.my_torch.controlvar import compute_alpha\n",
    "import matplotlib.pyplot as plt\n",
    "from dpp_nets.dpp.score_dpp import score_dpp\n",
    "from dpp_nets.dpp.sample_dpp import sample_dpp\n",
    "import dpp_nets.helper.plotting as plot\n",
    "\n",
    "def set_seed(seed):\n",
    "    torch.manual_seed(seed)\n",
    "    np.random.seed(seed)\n",
    "\n",
    "network_params = {'emb_in': 80, 'emb_h': 200, 'emb_out': 100,\n",
    "                  'pred_in': 40, 'pred_h': 100, 'pred_out': 1,\n",
    "                  'set_size': 40} \n",
    "dtype = torch.DoubleTensor\n",
    "\n",
    "train_iter_base = 200\n",
    "batch_size = 10\n",
    "train_iter = batch_size * train_iter_base\n",
    "sample_iter = 1\n",
    "alpha_iter = 0\n",
    "lr = 1e-5\n",
    "weight_decay = 0\n",
    "reg_exp = 1\n",
    "reg_var = 0\n"
   ]
  },
  {
   "cell_type": "code",
   "execution_count": 2,
   "metadata": {},
   "outputs": [
    {
     "name": "stdout",
     "output_type": "stream",
     "text": [
      "Number of different clusters was:  10\n",
      "Number of clusters predicted was:  -8.679116218726312\n",
      "Resultant loss was:  348.9093827126844\n",
      "Retrieved subset was of size:  23\n",
      "Number of clusters detected by DPP was:  10\n"
     ]
    }
   ],
   "source": [
    "alpha_iter = 0\n",
    "overwrite = 0\n",
    "\n",
    "set_seed(10)\n",
    "baseline_0 = my_torch.DPPRegressor(network_params, dtype)"
   ]
  },
  {
   "cell_type": "code",
   "execution_count": 3,
   "metadata": {},
   "outputs": [
    {
     "name": "stdout",
     "output_type": "stream",
     "text": [
      "50 240.99387781065977\n",
      "100 6.351012095764775\n",
      "150 11.715031746470446\n",
      "200 172.65057421226228\n",
      "250 29.162222449454713\n",
      "300 263.61890711458807\n",
      "350 52.9211962610844\n",
      "400 29.36632678331174\n",
      "450 68.50574589183982\n",
      "500 170.74664003676767\n",
      "550 1.140205907244019\n",
      "600 11.242792220531918\n",
      "650 43.45937380746334\n",
      "700 8.9257322955454\n",
      "750 3.065530209358768\n",
      "800 0.06536397005261355\n",
      "850 66.87742432518766\n",
      "900 29.998579584430942\n",
      "950 27.84050303647684\n",
      "1000 26.442737834344037\n",
      "Average Loss is:  52.339647229115315\n",
      "Average Subset Size:  22.99\n",
      "Subset Variance:  0.5554962260155404\n",
      "Proportion of true clusters retrieved: 0.9973454683352294\n"
     ]
    }
   ],
   "source": [
    "baseline_0.train_with_baseline(1000, 25, sample_iter, alpha_iter, lr, weight_decay, reg_exp, reg_var, overwrite)\n",
    "baseline_0.evaluate(1000)"
   ]
  },
  {
   "cell_type": "code",
   "execution_count": null,
   "metadata": {
    "collapsed": true
   },
   "outputs": [],
   "source": [
    "alpha_iter = 0\n",
    "overwrite = 500\n",
    "\n",
    "set_seed(10)\n",
    "baseline_500 = my_torch.DPPRegressor(network_params, dtype)\n",
    "baseline_500.sample()\n",
    "\n",
    "set_seed(13)\n",
    "baseline_500.train_with_baseline(train_iter, batch_size, sample_iter, alpha_iter, lr, weight_decay, reg_exp, reg_var, overwrite)\n",
    "baseline_500.evaluate(1000)"
   ]
  },
  {
   "cell_type": "code",
   "execution_count": null,
   "metadata": {},
   "outputs": [],
   "source": [
    "alpha_iter = 5\n",
    "overwrite = 0\n",
    "reg_exp = 10\n",
    "batch_size = 20\n",
    "lr = 1e-6\n",
    "reg_exp = 1000\n",
    "set_seed(10)\n",
    "model = my_torch.DPPRegressor(network_params, dtype)\n",
    "model.sample()\n",
    "\n",
    "set_seed(13)\n",
    "model.train_with_baseline(train_iter, batch_size, sample_iter, alpha_iter, lr, weight_decay, reg_exp, reg_var, overwrite)\n",
    "model.evaluate(1000)"
   ]
  },
  {
   "cell_type": "code",
   "execution_count": 77,
   "metadata": {
    "collapsed": true
   },
   "outputs": [
    {
     "data": {
      "text/plain": [
       "\n",
       "  2\n",
       " 15\n",
       "  3\n",
       " 27\n",
       "  1\n",
       "  9\n",
       " 32\n",
       " 21\n",
       " 38\n",
       " 27\n",
       "  9\n",
       "  1\n",
       " 30\n",
       " 29\n",
       " 38\n",
       " 17\n",
       "  6\n",
       " 26\n",
       " 15\n",
       " 19\n",
       " 29\n",
       " 18\n",
       "  0\n",
       " 18\n",
       "  1\n",
       " 26\n",
       " 32\n",
       " 14\n",
       "  6\n",
       " 30\n",
       "  6\n",
       " 21\n",
       "  3\n",
       " 14\n",
       " 19\n",
       "  2\n",
       "  9\n",
       "  0\n",
       "  2\n",
       " 17\n",
       "[torch.DoubleTensor of size 40]"
      ]
     },
     "execution_count": 77,
     "metadata": {},
     "output_type": "execute_result"
    }
   ],
   "source": [
    "clusters"
   ]
  },
  {
   "cell_type": "code",
   "execution_count": 58,
   "metadata": {},
   "outputs": [
    {
     "name": "stdout",
     "output_type": "stream",
     "text": [
      "Number of different clusters was:  18\n",
      "Number of clusters predicted was:  13.825678909075188\n",
      "Resultant loss was:  17.42495657013971\n",
      "Retrieved subset was of size:  28\n",
      "Number of clusters detected by DPP was:  18\n"
     ]
    },
    {
     "data": {
      "image/png": "[encoded data removed]",
      "text/plain": [
       "<matplotlib.figure.Figure at 0x1196a7828>"
      ]
     },
     "metadata": {},
     "output_type": "display_data"
    },
    {
     "data": {
      "image/png": "[encoded data removed]",
      "text/plain": [
       "<matplotlib.figure.Figure at 0x119864f98>"
      ]
     },
     "metadata": {},
     "output_type": "display_data"
    }
   ],
   "source": [
    "_, _, clusters = baseline_0.sample()\n",
    "plot.plot_matrix(plot.gen_matrix_from_cluster_ix(clusters))\n",
    "plot.plot_embd(baseline_0.embedding.data)"
   ]
  },
  {
   "cell_type": "code",
   "execution_count": 16,
   "metadata": {},
   "outputs": [
    {
     "name": "stdout",
     "output_type": "stream",
     "text": [
      "Number of different clusters was:  14\n",
      "Number of clusters predicted was:  6.534787657039576\n",
      "Resultant loss was:  55.72939532548866\n",
      "Retrieved subset was of size:  22\n",
      "Number of clusters detected by DPP was:  14\n"
     ]
    }
   ],
   "source": [
    "(pred, target), (words, context), clusters = baseline_0.sample()"
   ]
  },
  {
   "cell_type": "code",
   "execution_count": 17,
   "metadata": {},
   "outputs": [],
   "source": [
    "clusters = clusters.numpy()\n",
    "words = words.data.numpy()"
   ]
  },
  {
   "cell_type": "code",
   "execution_count": 25,
   "metadata": {},
   "outputs": [
    {
     "data": {
      "image/png": "[encoded data removed]",
      "text/plain": [
       "<matplotlib.figure.Figure at 0x1195bb390>"
      ]
     },
     "metadata": {},
     "output_type": "display_data"
    }
   ],
   "source": [
    "plot.plot_defaultdict(baseline_0.loss_dict,150)"
   ]
  },
  {
   "cell_type": "code",
   "execution_count": 33,
   "metadata": {
    "collapsed": true
   },
   "outputs": [],
   "source": [
    "A = torch.randn(2,2)"
   ]
  },
  {
   "cell_type": "code",
   "execution_count": 36,
   "metadata": {},
   "outputs": [
    {
     "data": {
      "text/plain": [
       "1.0681482404470444"
      ]
     },
     "execution_count": 36,
     "metadata": {},
     "output_type": "execute_result"
    }
   ],
   "source": [
    "A.mean()"
   ]
  },
  {
   "cell_type": "code",
   "execution_count": 37,
   "metadata": {},
   "outputs": [
    {
     "data": {
      "text/plain": [
       "\n",
       " 1.8996  0.2367\n",
       "[torch.FloatTensor of size 1x2]"
      ]
     },
     "execution_count": 37,
     "metadata": {},
     "output_type": "execute_result"
    }
   ],
   "source": [
    "A.mean(dim=0)"
   ]
  },
  {
   "cell_type": "code",
   "execution_count": 41,
   "metadata": {},
   "outputs": [
    {
     "data": {
      "text/plain": [
       "\n",
       " 1.1831  1.1831\n",
       " 0.9532  0.9532\n",
       "[torch.FloatTensor of size 2x2]"
      ]
     },
     "execution_count": 41,
     "metadata": {},
     "output_type": "execute_result"
    }
   ],
   "source": [
    "A.mean(dim=1).expand_as(A)"
   ]
  },
  {
   "cell_type": "code",
   "execution_count": 40,
   "metadata": {},
   "outputs": [
    {
     "data": {
      "text/plain": [
       "\n",
       " 0.9229  1.4433\n",
       " 2.8763 -0.9700\n",
       "[torch.FloatTensor of size 2x2]"
      ]
     },
     "execution_count": 40,
     "metadata": {},
     "output_type": "execute_result"
    }
   ],
   "source": [
    "A"
   ]
  },
  {
   "cell_type": "code",
   "execution_count": 80,
   "metadata": {},
   "outputs": [],
   "source": [
    "import dpp_nets.dpp as dpp\n",
    "mat = plot.gen_matrix_from_cluster_ix(clusters).astype(float)"
   ]
  },
  {
   "cell_type": "code",
   "execution_count": 91,
   "metadata": {},
   "outputs": [],
   "source": [
    "e_val, e_vec = np.linalg.eig(1e40 * mat)"
   ]
  },
  {
   "cell_type": "code",
   "execution_count": 92,
   "metadata": {},
   "outputs": [],
   "source": [
    "e_val = np.real(e_val)\n",
    "e_vec = np.real(e_vec)"
   ]
  },
  {
   "cell_type": "code",
   "execution_count": 93,
   "metadata": {},
   "outputs": [
    {
     "name": "stderr",
     "output_type": "stream",
     "text": [
      "/Users/Max/Coding/git/dpp_nets/dpp_nets/dpp/sample_dpp.py:40: RuntimeWarning: invalid value encountered in true_divide\n",
      "  items = list()\n",
      "/Users/Max/Coding/git/dpp_nets/dpp_nets/dpp/sample_dpp.py:41: RuntimeWarning: invalid value encountered in greater_equal\n",
      "  \n"
     ]
    },
    {
     "ename": "ValueError",
     "evalue": "attempt to get argmax of an empty sequence",
     "output_type": "error",
     "traceback": [
      "\u001b[0;31m---------------------------------------------------------------------------\u001b[0m",
      "\u001b[0;31mValueError\u001b[0m                                Traceback (most recent call last)",
      "\u001b[0;32m<ipython-input-93-962c301eae49>\u001b[0m in \u001b[0;36m<module>\u001b[0;34m()\u001b[0m\n\u001b[0;32m----> 1\u001b[0;31m \u001b[0mdpp\u001b[0m\u001b[0;34m.\u001b[0m\u001b[0msample_dpp\u001b[0m\u001b[0;34m(\u001b[0m\u001b[0me_val\u001b[0m\u001b[0;34m,\u001b[0m \u001b[0me_vec\u001b[0m\u001b[0;34m)\u001b[0m\u001b[0;34m\u001b[0m\u001b[0m\n\u001b[0m",
      "\u001b[0;32m/Users/Max/Coding/git/dpp_nets/dpp_nets/dpp/sample_dpp.py\u001b[0m in \u001b[0;36msample_dpp\u001b[0;34m(vals, vecs, k, one_hot)\u001b[0m\n\u001b[1;32m     43\u001b[0m         \u001b[0mp\u001b[0m \u001b[0;34m=\u001b[0m \u001b[0mnp\u001b[0m\u001b[0;34m.\u001b[0m\u001b[0msum\u001b[0m\u001b[0;34m(\u001b[0m\u001b[0mV\u001b[0m\u001b[0;34m**\u001b[0m\u001b[0;36m2\u001b[0m\u001b[0;34m,\u001b[0m \u001b[0maxis\u001b[0m\u001b[0;34m=\u001b[0m\u001b[0;36m1\u001b[0m\u001b[0;34m)\u001b[0m\u001b[0;34m\u001b[0m\u001b[0m\n\u001b[1;32m     44\u001b[0m         \u001b[0mp\u001b[0m \u001b[0;34m=\u001b[0m \u001b[0mnp\u001b[0m\u001b[0;34m.\u001b[0m\u001b[0mcumsum\u001b[0m\u001b[0;34m(\u001b[0m\u001b[0mp\u001b[0m \u001b[0;34m/\u001b[0m \u001b[0mnp\u001b[0m\u001b[0;34m.\u001b[0m\u001b[0msum\u001b[0m\u001b[0;34m(\u001b[0m\u001b[0mp\u001b[0m\u001b[0;34m)\u001b[0m\u001b[0;34m)\u001b[0m \u001b[0;31m# item cumulative probabilities\u001b[0m\u001b[0;34m\u001b[0m\u001b[0m\n\u001b[0;32m---> 45\u001b[0;31m         \u001b[0mitem\u001b[0m \u001b[0;34m=\u001b[0m \u001b[0;34m(\u001b[0m\u001b[0mnp\u001b[0m\u001b[0;34m.\u001b[0m\u001b[0mrandom\u001b[0m\u001b[0;34m.\u001b[0m\u001b[0mrand\u001b[0m\u001b[0;34m(\u001b[0m\u001b[0;34m)\u001b[0m \u001b[0;34m<=\u001b[0m \u001b[0mp\u001b[0m\u001b[0;34m)\u001b[0m\u001b[0;34m.\u001b[0m\u001b[0margmax\u001b[0m\u001b[0;34m(\u001b[0m\u001b[0;34m)\u001b[0m\u001b[0;34m\u001b[0m\u001b[0m\n\u001b[0m\u001b[1;32m     46\u001b[0m         \u001b[0mitems\u001b[0m\u001b[0;34m.\u001b[0m\u001b[0mappend\u001b[0m\u001b[0;34m(\u001b[0m\u001b[0mitem\u001b[0m\u001b[0;34m)\u001b[0m\u001b[0;34m\u001b[0m\u001b[0m\n\u001b[1;32m     47\u001b[0m \u001b[0;34m\u001b[0m\u001b[0m\n",
      "\u001b[0;31mValueError\u001b[0m: attempt to get argmax of an empty sequence"
     ]
    }
   ],
   "source": [
    "dpp.sample_dpp(e_val, e_vec)"
   ]
  },
  {
   "cell_type": "code",
   "execution_count": 98,
   "metadata": {},
   "outputs": [
    {
     "data": {
      "text/plain": [
       "(array([ 2.,  0.,  2.,  0.]),\n",
       " array([[ 0.70710678, -0.70710678,  0.        ,  0.        ],\n",
       "        [ 0.70710678,  0.70710678,  0.        ,  0.        ],\n",
       "        [ 0.        ,  0.        ,  0.70710678, -0.70710678],\n",
       "        [ 0.        ,  0.        ,  0.70710678,  0.70710678]]))"
      ]
     },
     "execution_count": 98,
     "metadata": {},
     "output_type": "execute_result"
    }
   ],
   "source": [
    "np.linalg.eig(np.array([[1,1,0,0],[1,1,0,0],[0,0,1,1],[0,0,1,1]]))"
   ]
  },
  {
   "cell_type": "code",
   "execution_count": 104,
   "metadata": {},
   "outputs": [],
   "source": [
    "val, vec = np.linalg.eig(np.array([[1,1,1,0,0,0],[1,1,1,0,0,0],[1,1,1,0,0,0],[0,0,0,1,1,0],[0,0,0,1,1,0],[0,0,0,0,0,1]]))"
   ]
  },
  {
   "cell_type": "code",
   "execution_count": 112,
   "metadata": {},
   "outputs": [
    {
     "data": {
      "text/plain": [
       "array([ -2.22044605e-16,   3.00000000e+00,   0.00000000e+00,\n",
       "         2.00000000e+00,   0.00000000e+00,   1.00000000e+00])"
      ]
     },
     "execution_count": 112,
     "metadata": {},
     "output_type": "execute_result"
    }
   ],
   "source": [
    "val"
   ]
  },
  {
   "cell_type": "code",
   "execution_count": 116,
   "metadata": {},
   "outputs": [
    {
     "data": {
      "text/plain": [
       "array([ 0.40824829,  0.57735027, -0.70710678,  0.        ,  0.        ,  0.        ])"
      ]
     },
     "execution_count": 116,
     "metadata": {},
     "output_type": "execute_result"
    }
   ],
   "source": [
    "vec[1]"
   ]
  },
  {
   "cell_type": "code",
   "execution_count": null,
   "metadata": {
    "collapsed": true
   },
   "outputs": [],
   "source": []
  }
 ],
 "metadata": {
  "kernelspec": {
   "display_name": "Python 3",
   "language": "python",
   "name": "python3"
  },
  "language_info": {
   "codemirror_mode": {
    "name": "ipython",
    "version": 3
   },
   "file_extension": ".py",
   "mimetype": "text/x-python",
   "name": "python",
   "nbconvert_exporter": "python",
   "pygments_lexer": "ipython3",
   "version": "3.6.1"
  }
 },
 "nbformat": 4,
 "nbformat_minor": 2
}
