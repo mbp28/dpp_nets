{
 "cells": [
  {
   "cell_type": "code",
   "execution_count": 1,
   "metadata": {},
   "outputs": [
    {
     "ename": "IndentationError",
     "evalue": "unindent does not match any outer indentation level (simulator.py, line 59)",
     "output_type": "error",
     "traceback": [
      "Traceback \u001b[0;36m(most recent call last)\u001b[0m:\n",
      "  File \u001b[1;32m\"/Users/Max/Coding/anaconda2/envs/torch2/lib/python3.6/site-packages/IPython/core/interactiveshell.py\"\u001b[0m, line \u001b[1;32m2862\u001b[0m, in \u001b[1;35mrun_code\u001b[0m\n    exec(code_obj, self.user_global_ns, self.user_ns)\n",
      "\u001b[0;36m  File \u001b[0;32m\"<ipython-input-1-6aad6a0613bd>\"\u001b[0;36m, line \u001b[0;32m3\u001b[0;36m, in \u001b[0;35m<module>\u001b[0;36m\u001b[0m\n\u001b[0;31m    from dpp_nets.my_torch.simulator import SimKDPPDeepSet\u001b[0m\n",
      "\u001b[0;36m  File \u001b[0;32m\"/Users/Max/git/dpp_nets/dpp_nets/my_torch/simulator.py\"\u001b[0;36m, line \u001b[0;32m59\u001b[0m\n\u001b[0;31m    def generate(self, batch_size):\u001b[0m\n\u001b[0m                                   ^\u001b[0m\n\u001b[0;31mIndentationError\u001b[0m\u001b[0;31m:\u001b[0m unindent does not match any outer indentation level\n"
     ]
    }
   ],
   "source": [
    "import torch\n",
    "\n",
    "from dpp_nets.my_torch.simulator import SimKDPPDeepSet\n",
    "from dpp_nets.my_torch.simulator import SimFilter\n",
    "from dpp_nets.helper.plotting import plot_floats, plot_dict\n",
    "\n",
    "import torch\n",
    "import torch.nn as nn\n",
    "from torch.autograd import Variable\n",
    "from dpp_nets.my_torch.linalg import custom_decomp\n",
    "from dpp_nets.my_torch.DPP import DPP\n",
    "from dpp_nets.my_torch.utilities import compute_baseline\n",
    "\n",
    "import torch\n",
    "import torch.nn as nn\n",
    "import torch.optim as optim\n",
    "from torch.autograd import Variable\n",
    "\n",
    "from dpp_nets.my_torch.linalg import custom_decomp\n",
    "from dpp_nets.my_torch.DPP import DPP\n",
    "from dpp_nets.my_torch.utilities import compute_baseline\n",
    "from dpp_nets.my_torch.utilities import pad_tensor\n",
    "\n",
    "import dpp_nets.my_torch\n",
    "\n",
    "import numpy as np \n",
    "from collections import defaultdict\n"
   ]
  },
  {
   "cell_type": "code",
   "execution_count": null,
   "metadata": {
    "collapsed": true
   },
   "outputs": [],
   "source": [
    "from dpp_nets.layers.layers import *"
   ]
  },
  {
   "cell_type": "code",
   "execution_count": null,
   "metadata": {
    "collapsed": true
   },
   "outputs": [],
   "source": [
    "class SimKDPPDeepSet(object):\n",
    "\n",
    "    def __init__(self, network_params, dtype):\n",
    "\n",
    "        # Customizable parameters\n",
    "        self.set_size = set_size = network_params['set_size'] # 40\n",
    "        self.n_clusters = n_clusters = network_params['n_clusters'] # \n",
    "        self.dtype = dtype\n",
    "\n",
    "        # Fixed parameters\n",
    "        self.kernel_in = kernel_in = 100\n",
    "        self.kernel_h = kernel_h = 500\n",
    "        self.kernel_out = kernel_out = 100\n",
    "\n",
    "        self.pred_in = pred_in = 50 # kernel_in / 2\n",
    "        self.pred_h = pred_h = 500\n",
    "        self.pred_out = pred_out = 100\n",
    "        \n",
    "        # 2-Hidden-Layer Networks \n",
    "        self.kernel_net = KernelFixed(pred_in, kernel_h, kernel_out)\n",
    "        self.kernel_net.type(self.dtype)\n",
    "\n",
    "        self.pred_net = DeepSetPred(pred_in, pred_h, pred_out, pred_in)\n",
    "        self.pred_net.type(self.dtype)\n",
    "\n",
    "        # Data\n",
    "        np.random.seed(0)\n",
    "        self.means = dtype(np.random.randint(-10,10,[n_clusters, int(pred_in)]).astype(\"float\"))\n",
    "        self.saved_subsets = None\n",
    "        self.saved_losses = None\n",
    "        self.saved_baselines = None\n",
    "\n",
    "        # \n",
    "        self.criterion = nn.MSELoss()\n",
    "\n",
    "        # Record loss\n",
    "        self.loss_dict = defaultdict(list)\n",
    "        self.prec_dict = defaultdict(list)\n",
    "        self.rec_dict = defaultdict(list)\n",
    "        self.ssize_dict = defaultdict(list)\n",
    "\n",
    "        # Useful intermediate variables \n",
    "        self.embedding = None\n",
    "        self.subset = None\n",
    "        self.pick = None\n",
    "        self.pred = None\n",
    "\n",
    "\n",
    "    def generate(self, batch_size):\n",
    "        \"\"\"sdf\"\n",
    "        Arguments:\n",
    "        means: Probs best to make this an attribute of the class, \n",
    "        so that repeated training works with the same data distribution.\n",
    "\n",
    "\n",
    "        \"\"\"\n",
    "        batch_size = batch_size\n",
    "        n_clusters = self.n_clusters\n",
    "        set_size = self.set_size\n",
    "        embd_dim = self.pred_in\n",
    "        dtype = self.dtype\n",
    "        means = self.means\n",
    "\n",
    "        # Generate index\n",
    "        index = torch.cat([torch.arange(0, float(n_clusters)).expand(batch_size, n_clusters).long(), \n",
    "                          torch.multinomial(torch.ones(batch_size, n_clusters), set_size - n_clusters, replacement=True)]\n",
    "                         ,dim=1)\n",
    "        index = index.t()[torch.randperm(set_size)].t().contiguous()\n",
    "\n",
    "        # Generate words, context, target\n",
    "        words = dtype(torch.normal(means.index_select(0,index.view(index.numel()))).view(batch_size, set_size, embd_dim))\n",
    "        context = dtype(words.sum(1).expand_as(words))\n",
    "\n",
    "        target = torch.sin(words.mean(1)).squeeze()\n",
    "\n",
    "        return words, context, target, index \n",
    "\n",
    "    def train(self, train_iter, batch_size, lr, alpha_iter=1, baseline=True, reg=0, reg_mean=0):\n",
    "        \"\"\"\n",
    "        Training the model. \n",
    "        Doesn't use the forward pass as want to sample repeatedly!\n",
    "\n",
    "        \"\"\"\n",
    "        set_size = self.set_size\n",
    "        n_clusters = self.n_clusters\n",
    "        kernel_in = self.kernel_in\n",
    "        kernel_out = self.kernel_out\n",
    "        embd_dim = self.pred_in\n",
    "        dtype = self.dtype\n",
    "\n",
    "        loss_log = 100\n",
    "        params = list(self.kernel_net.parameters()) + list(self.pred_net.parameters())\n",
    "        optimizer = optim.Adam(params, lr=lr)\n",
    "\n",
    "        self.loss_dict.clear()\n",
    "        self.ssize_dict\n",
    "      \n",
    "        sample = SampleFixed(alpha_iter)\n",
    "\n",
    "        for t in range(train_iter):\n",
    "            \n",
    "            words, context, target, index = self.generate(batch_size)\n",
    "            words = Variable(words)\n",
    "            target = Variable(target)\n",
    "            \n",
    "            kernel = self.kernel_net(words)\n",
    "            word_picks = sample(kernel, words)\n",
    "            pred = self.pred_net(word_picks)\n",
    "            action_list = sample.saved_subsets\n",
    "            exp_sizes = sample.exp_sizes\n",
    "\n",
    "            loss = custom_backprop(reg, reg_mean)(pred, target, action_list, exp_sizes)\n",
    "            \n",
    "            ssizes = [sample.data.sum() for example in action_list for sample in example]\n",
    "            ssize = sum(ssizes) / len(ssizes)\n",
    "\n",
    "            optimizer.step()\n",
    "            optimizer.zero_grad()\n",
    "\n",
    "            self.loss_dict[t].append(loss.data[0])\n",
    "            self.ssize_dict[t].append(ssize)\n",
    "\n",
    "            if not ((t + 1) % loss_log):\n",
    "                print(\"Loss at it \", t+1, \" is: \", loss.data[0])\n",
    "\n",
    "    def evaluate(self, test_iter):\n",
    "        \n",
    "        set_size = self.set_size\n",
    "        n_clusters = self.n_clusters\n",
    "        kernel_in = self.kernel_in\n",
    "        kernel_out = self.kernel_out\n",
    "        embd_dim = self.pred_in\n",
    "        dtype = self.dtype\n",
    "\n",
    "        sample = SampleFixed(alpha_iter)\n",
    "        \n",
    "        cum_loss = 0. \n",
    "        cum_ssize = 0.\n",
    "\n",
    "        for t in range(test_iter):\n",
    "            words, context, target, index = self.generate(batch_size)\n",
    "            words = Variable(words, volatile=True)\n",
    "            target = Variable(target, volatile=True)\n",
    "            kernel = self.kernel_net(words)\n",
    "            word_picks = sample(kernel, words)\n",
    "            pred = self.pred_net(word_picks)\n",
    "            target = target.unsqueeze(1).expand_as(pred)\n",
    "            action_list = sample.saved_subsets\n",
    "            exp_sizes = sample.exp_sizes\n",
    "            \n",
    "            loss = nn.MSELoss()(pred, target)\n",
    "            cum_loss += loss.data[0]\n",
    "            \n",
    "            \n",
    "            ssizes = [sample.data.sum() for example in action_list for sample in example]\n",
    "            ssize = sum(ssizes) / len(ssizes)\n",
    "            cum_ssize += ssize\n",
    "            \n",
    "        print(\"Average Loss is:\", cum_loss / test_iter)\n",
    "        print(\"Average Set Size is:\", cum_ssize / test_iter)\n"
   ]
  },
  {
   "cell_type": "code",
   "execution_count": null,
   "metadata": {
    "collapsed": true
   },
   "outputs": [],
   "source": [
    "network_params = {'set_size': 20, 'n_clusters': 15}\n",
    "dtype = torch.DoubleTensor\n",
    "train_iter = 300\n",
    "batch_size = 10\n",
    "lr = 1e-4\n",
    "alpha_iter=4\n",
    "baseline=True"
   ]
  },
  {
   "cell_type": "code",
   "execution_count": null,
   "metadata": {},
   "outputs": [],
   "source": [
    "# Simulation with 20\n",
    "reg=0.1\n",
    "reg_mean=20\n",
    "torch.manual_seed(10)\n",
    "sim20 = SimKDPPDeepSet(network_params, dtype)\n",
    "sim20.train(1000, batch_size, lr, alpha_iter, baseline, reg, reg_mean)\n",
    "sim20.evaluate(500)"
   ]
  },
  {
   "cell_type": "code",
   "execution_count": null,
   "metadata": {
    "collapsed": true
   },
   "outputs": [],
   "source": [
    "sim20.train(1000, batch_size, lr, alpha_iter, baseline, reg, reg_mean)\n",
    "sim20.evaluate(500)\n",
    "plot_floats(sim20.loss_dict,50)\n",
    "plot_floats(sim20.ssize_dict,50)"
   ]
  },
  {
   "cell_type": "code",
   "execution_count": null,
   "metadata": {
    "collapsed": true
   },
   "outputs": [],
   "source": [
    "# Simulation with 15\n",
    "reg=0.1\n",
    "reg_mean=15\n",
    "torch.manual_seed(10)\n",
    "sim15 = SimKDPPDeepSet(network_params, dtype)\n",
    "sim15.train(1000, batch_size, lr, alpha_iter, baseline, reg, reg_mean)\n",
    "sim15.evaluate(500)"
   ]
  },
  {
   "cell_type": "code",
   "execution_count": null,
   "metadata": {
    "collapsed": true
   },
   "outputs": [],
   "source": [
    "# Simulation with 10\n",
    "reg=0.1\n",
    "reg_mean=10\n",
    "torch.manual_seed(10)\n",
    "sim10 = SimKDPPDeepSet(network_params, dtype)\n",
    "sim10.train(1000, batch_size, lr, alpha_iter, baseline, reg, reg_mean)\n",
    "sim10.evaluate(500)"
   ]
  },
  {
   "cell_type": "code",
   "execution_count": null,
   "metadata": {
    "collapsed": true
   },
   "outputs": [],
   "source": [
    "# Simulation with 5\n",
    "reg=100\n",
    "reg_mean=5\n",
    "torch.manual_seed(10)\n",
    "sim5 = SimKDPPDeepSet(network_params, dtype)\n",
    "sim5.train(train_iter, batch_size, lr, alpha_iter, baseline, reg, reg_mean)\n",
    "sim5.evaluate(500)"
   ]
  },
  {
   "cell_type": "code",
   "execution_count": null,
   "metadata": {
    "collapsed": true
   },
   "outputs": [],
   "source": [
    "sim5.train(train_iter, batch_size, lr, alpha_iter, baseline, 10000, 5)\n",
    "\n"
   ]
  },
  {
   "cell_type": "code",
   "execution_count": null,
   "metadata": {
    "collapsed": true
   },
   "outputs": [],
   "source": [
    "sim5.evaluate(100)"
   ]
  },
  {
   "cell_type": "code",
   "execution_count": null,
   "metadata": {
    "collapsed": true
   },
   "outputs": [],
   "source": [
    "sim"
   ]
  },
  {
   "cell_type": "code",
   "execution_count": null,
   "metadata": {
    "collapsed": true
   },
   "outputs": [],
   "source": [
    "sim.loss_dict\n"
   ]
  },
  {
   "cell_type": "code",
   "execution_count": null,
   "metadata": {
    "collapsed": true
   },
   "outputs": [],
   "source": []
  }
 ],
 "metadata": {
  "kernelspec": {
   "display_name": "Python 3",
   "language": "python",
   "name": "python3"
  },
  "language_info": {
   "codemirror_mode": {
    "name": "ipython",
    "version": 3
   },
   "file_extension": ".py",
   "mimetype": "text/x-python",
   "name": "python",
   "nbconvert_exporter": "python",
   "pygments_lexer": "ipython3",
   "version": "3.6.2"
  }
 },
 "nbformat": 4,
 "nbformat_minor": 2
}
