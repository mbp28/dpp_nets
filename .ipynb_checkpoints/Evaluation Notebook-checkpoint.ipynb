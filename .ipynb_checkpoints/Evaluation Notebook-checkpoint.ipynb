{
 "cells": [
  {
   "cell_type": "code",
   "execution_count": null,
   "metadata": {
    "collapsed": true
   },
   "outputs": [],
   "source": [
    "import argparse\n",
    "import os\n",
    "import shutil\n",
    "import gzip\n",
    "\n",
    "import torch\n",
    "import torch.nn as nn\n",
    "from torch.autograd import Variable\n",
    "\n",
    "import spacy"
   ]
  },
  {
   "cell_type": "code",
   "execution_count": null,
   "metadata": {},
   "outputs": [],
   "source": [
    "# parsing in spacy style\n",
    "words = [tuple([token.text]) for token in doc]\n",
    "sents = [tuple([token.text for token in sent]) for sent in doc.sents]\n",
    "chunks = [tuple([word.text for word in token.subtree]) for token in doc]\n",
    "\n",
    "# creating encodings\n",
    "enc_words  = target + '\\D' + '\\T'.join(['\\W'.join(tup) for tup in words])\n",
    "enc_sents  = target + '\\D' + '\\T'.join(['\\W'.join(tup) for tup in sents])\n",
    "enc_chunks = target + '\\D' + '\\T'.join(['\\W'.join(tup) for tup in chunks])\n",
    "\n"
   ]
  },
  {
   "cell_type": "code",
   "execution_count": 15,
   "metadata": {
    "collapsed": true
   },
   "outputs": [],
   "source": [
    "import json\n",
    "import gzip\n",
    "\n",
    "def read_rationales(path):\n",
    "    \"\"\"\n",
    "    This reads the json.annotations file. \n",
    "    Creates a list of dictionaries, which holds the 994 reviews for which\n",
    "    sentence-level annotations are available. \n",
    "    \"\"\"\n",
    "    data = []\n",
    "    fopen = gzip.open if path.endswith(\".gz\") else open\n",
    "    with fopen(path) as fin:\n",
    "        for line in fin:\n",
    "            item = json.loads(line)\n",
    "            data.append(item)\n",
    "    return data"
   ]
  },
  {
   "cell_type": "code",
   "execution_count": 16,
   "metadata": {
    "collapsed": true
   },
   "outputs": [],
   "source": [
    "import spacy\n",
    "import ast\n",
    "nlp = spacy.load('en')\n",
    "anno = '/Users/Max/data/beer_reviews/annotations.json'\n",
    "annotations = read_rationales(anno)"
   ]
  },
  {
   "cell_type": "code",
   "execution_count": 17,
   "metadata": {
    "collapsed": true
   },
   "outputs": [],
   "source": [
    "# Better\n",
    "# For each sentence that deserves a label, we extract the sentence from doc that is closest. \n",
    "\n",
    "def map_sentence(sen, tup):\n",
    "    sen = set([str(token).lower() for token in sen])\n",
    "    n = len(sen) #+ len(tup[0])\n",
    "    s = len(sen & tup[0])\n",
    "    score = s / n\n",
    "    return score\n",
    "\n",
    "# Which sentences deserve a label and what label?\n",
    "ix = 2\n",
    "review = annotations[ix]\n",
    "doc = nlp(ast.literal_eval(annotations[ix]['raw'])['review/text'])\n",
    "all_words = review['x']\n",
    "label_sens = []\n",
    "for label in ['0','1','2']:\n",
    "    label_sens.extend([(set(all_words[s:e]), label) for s, e in review[label]])\n",
    "\n",
    "# Label the sentences in doc\n",
    "sentences = [(sen, set()) for sen in doc.sents]\n",
    "for tup in label_sens:\n",
    "    scores = ([map_sentence(sen, tup) for sen, _ in sentences])\n",
    "    # print(scores)\n",
    "    sentences[scores.index(max(scores))][1].add(tup[1])"
   ]
  },
  {
   "cell_type": "code",
   "execution_count": 18,
   "metadata": {},
   "outputs": [
    {
     "data": {
      "text/plain": [
       "[(Very dark beer. Pours a nice finger and a half of creamy foam and stays throughout the beer.\t\t,\n",
       "  {'0'}),\n",
       " (Smells of coffee and roasted malt.\t\t, {'1'}),\n",
       " (Has a major coffee-like taste with hints of chocolate., set()),\n",
       " (If you like black coffee, you will love this Porter.\t\t, set()),\n",
       " (Creamy smooth mouthfeel and definitely gets smoother on the palate once it warms.\t\t,\n",
       "  {'2'}),\n",
       " (It's an ok Porter but I feel there are much better one's out there., set())]"
      ]
     },
     "execution_count": 18,
     "metadata": {},
     "output_type": "execute_result"
    }
   ],
   "source": [
    "sentences"
   ]
  },
  {
   "cell_type": "code",
   "execution_count": 19,
   "metadata": {
    "collapsed": true
   },
   "outputs": [],
   "source": [
    "# Process the sentences - create dictionaries - the keys can be fed to vocab\n",
    "# - the values serve as look-up.\n",
    "# how to exactly look-up? \n",
    "\n",
    "from collections import defaultdict\n",
    "\n",
    "words = defaultdict(set)\n",
    "chunks = defaultdict(set)\n",
    "sents = defaultdict(set)\n",
    "\n",
    "for tup in sentences:\n",
    "    for token in tup[0]:\n",
    "        words[tuple([token.text])].update([*tup[1]])\n",
    "        chunks[tuple([word.text for word in token.subtree if word.text != '\\n' and word.text != '\\t'])].update([*tup[1]])\n",
    "    sents[tuple([token.text for token in tup[0]])].update([*tup[1]])"
   ]
  },
  {
   "cell_type": "code",
   "execution_count": 20,
   "metadata": {
    "scrolled": true
   },
   "outputs": [
    {
     "data": {
      "text/plain": [
       "defaultdict(set,\n",
       "            {('\\t\\t',): {'0', '1', '2'},\n",
       "             (\"'s\",): set(),\n",
       "             (',',): set(),\n",
       "             ('-',): set(),\n",
       "             ('.',): {'0', '1', '2'},\n",
       "             ('Creamy',): {'2'},\n",
       "             ('Has',): set(),\n",
       "             ('I',): set(),\n",
       "             ('If',): set(),\n",
       "             ('It',): set(),\n",
       "             ('Porter',): set(),\n",
       "             ('Pours',): {'0'},\n",
       "             ('Smells',): {'1'},\n",
       "             ('Very',): {'0'},\n",
       "             ('a',): {'0'},\n",
       "             ('an',): set(),\n",
       "             ('and',): {'0', '1', '2'},\n",
       "             ('are',): set(),\n",
       "             ('beer',): {'0'},\n",
       "             ('better',): set(),\n",
       "             ('black',): set(),\n",
       "             ('but',): set(),\n",
       "             ('chocolate',): set(),\n",
       "             ('coffee',): {'1'},\n",
       "             ('creamy',): {'0'},\n",
       "             ('dark',): {'0'},\n",
       "             ('definitely',): {'2'},\n",
       "             ('feel',): set(),\n",
       "             ('finger',): {'0'},\n",
       "             ('foam',): {'0'},\n",
       "             ('gets',): {'2'},\n",
       "             ('half',): {'0'},\n",
       "             ('hints',): set(),\n",
       "             ('it',): {'2'},\n",
       "             ('like',): set(),\n",
       "             ('love',): set(),\n",
       "             ('major',): set(),\n",
       "             ('malt',): {'1'},\n",
       "             ('mouthfeel',): {'2'},\n",
       "             ('much',): set(),\n",
       "             ('nice',): {'0'},\n",
       "             ('of',): {'0', '1'},\n",
       "             ('ok',): set(),\n",
       "             ('on',): {'2'},\n",
       "             ('once',): {'2'},\n",
       "             ('one',): set(),\n",
       "             ('out',): set(),\n",
       "             ('palate',): {'2'},\n",
       "             ('roasted',): {'1'},\n",
       "             ('smooth',): {'2'},\n",
       "             ('smoother',): {'2'},\n",
       "             ('stays',): {'0'},\n",
       "             ('taste',): set(),\n",
       "             ('the',): {'0', '2'},\n",
       "             ('there',): set(),\n",
       "             ('this',): set(),\n",
       "             ('throughout',): {'0'},\n",
       "             ('warms',): {'2'},\n",
       "             ('will',): set(),\n",
       "             ('with',): set(),\n",
       "             ('you',): set()})"
      ]
     },
     "execution_count": 20,
     "metadata": {},
     "output_type": "execute_result"
    }
   ],
   "source": [
    "words"
   ]
  },
  {
   "cell_type": "code",
   "execution_count": 21,
   "metadata": {
    "collapsed": true
   },
   "outputs": [],
   "source": [
    "from dpp_nets.utils.language import Vocabulary, BeerDataset, custom_collate\n",
    "from dpp_nets.layers.layers import ChunkTrainer\n",
    "\n",
    "train_path = '/Users/Max/data/beer_reviews/' + 'reviews.' + 'all' + '.train.' + 'chunks' + '.txt.gz'\n",
    "val_path = '/Users/Max/data/beer_reviews/' + 'reviews.' + 'all' + '.heldout.' + 'chunks' + '.txt.gz'\n",
    "embd_path = '/Users/Max/data/beer_reviews/' + 'review+wiki.filtered.200.txt.gz'\n",
    "word_path = '/Users/Max/data/beer_reviews/' + 'reviews.' + 'all' + '.train.' + 'words.txt.gz'"
   ]
  },
  {
   "cell_type": "code",
   "execution_count": 22,
   "metadata": {},
   "outputs": [],
   "source": [
    "vocab = Vocabulary()\n",
    "vocab.loadPretrained(embd_path)\n",
    "vocab.setStops()\n",
    "vocab.loadCorpus(word_path)\n",
    "vocab.updateEmbedding()\n",
    "vocab.setCuda(False)"
   ]
  },
  {
   "cell_type": "code",
   "execution_count": 23,
   "metadata": {},
   "outputs": [
    {
     "ename": "NameError",
     "evalue": "name 'defdict' is not defined",
     "output_type": "error",
     "traceback": [
      "\u001b[0;31m---------------------------------------------------------------------------\u001b[0m",
      "\u001b[0;31mNameError\u001b[0m                                 Traceback (most recent call last)",
      "\u001b[0;32m<ipython-input-23-5db80999ea62>\u001b[0m in \u001b[0;36m<module>\u001b[0;34m()\u001b[0m\n\u001b[1;32m      2\u001b[0m \u001b[0mreverse_dict\u001b[0m \u001b[0;34m=\u001b[0m \u001b[0mdefaultdict\u001b[0m\u001b[0;34m(\u001b[0m\u001b[0mlist\u001b[0m\u001b[0;34m)\u001b[0m\u001b[0;34m\u001b[0m\u001b[0m\n\u001b[1;32m      3\u001b[0m \u001b[0;34m\u001b[0m\u001b[0m\n\u001b[0;32m----> 4\u001b[0;31m \u001b[0;32mfor\u001b[0m \u001b[0mtup\u001b[0m\u001b[0;34m,\u001b[0m \u001b[0mlabel\u001b[0m \u001b[0;32min\u001b[0m \u001b[0mdefdict\u001b[0m\u001b[0;34m.\u001b[0m\u001b[0mitems\u001b[0m\u001b[0;34m(\u001b[0m\u001b[0;34m)\u001b[0m\u001b[0;34m:\u001b[0m\u001b[0;34m\u001b[0m\u001b[0m\n\u001b[0m\u001b[1;32m      5\u001b[0m \u001b[0;34m\u001b[0m\u001b[0m\n\u001b[1;32m      6\u001b[0m     \u001b[0mf_tuple\u001b[0m \u001b[0;34m=\u001b[0m \u001b[0;34m[\u001b[0m\u001b[0;34m]\u001b[0m\u001b[0;34m\u001b[0m\u001b[0m\n",
      "\u001b[0;31mNameError\u001b[0m: name 'defdict' is not defined"
     ]
    }
   ],
   "source": [
    "newdict = defaultdict(set)\n",
    "reverse_dict = defaultdict(list)\n",
    "\n",
    "for tup, label in defdict.items():\n",
    "\n",
    "    f_tuple = []\n",
    "\n",
    "    for word in tup:\n",
    "        word = vocab.checkWord(word, 10)\n",
    "        if word:\n",
    "            f_tuple.append(word)\n",
    "\n",
    "    f_tuple = tuple(f_tuple)    \n",
    "\n",
    "    if f_tuple: \n",
    "        newdict[f_tuple].update(*label)\n",
    "        reverse_dict[f_tuple].append(tup)"
   ]
  },
  {
   "cell_type": "code",
   "execution_count": null,
   "metadata": {
    "collapsed": true
   },
   "outputs": [],
   "source": [
    "defdict\n",
    "newdict\n",
    "for k in newdict.keys():\n",
    "    print(k, reverse_dict[k])\n",
    "vocab.returnEmbds(newdict.keys())\n",
    "vocab.word2vec[\"'s\"]"
   ]
  },
  {
   "cell_type": "code",
   "execution_count": 26,
   "metadata": {},
   "outputs": [],
   "source": [
    "import json\n",
    "import gzip\n",
    "import ast\n",
    "from collections import defaultdict\n",
    "from collections import namedtuple\n",
    "import spacy \n",
    "\n",
    "class EvalSet():\n",
    "    \n",
    "    def __init__(self, rat_path, vocab, mode='words'):\n",
    "        \n",
    "        nlp = spacy.load('en')\n",
    "        self.reviews = []\n",
    "        self.labelled_docs = []\n",
    "        self.vocab = vocab\n",
    "        self.words  = []\n",
    "        self.chunks = []\n",
    "        self.sents  = []\n",
    "                \n",
    "        DictCollect = namedtuple('DictCollect', ['allDict', 'cleanDict', 'revDict'])\n",
    "        \n",
    "        with open(rat_path) as f:\n",
    "            for line in f:\n",
    "                review = json.loads(line)\n",
    "                self.reviews.append(review)\n",
    "                        \n",
    "        for review in self.reviews:\n",
    "            doc = nlp(ast.literal_eval(review['raw'])['review/text'])\n",
    "            sens_with_labels = self.__gatherLabels(review)\n",
    "            labelled_doc = self.__curateDoc(doc, sens_with_labels)\n",
    "            self.labelled_docs.append(labelled_doc)\n",
    "        \n",
    "        for labelled_doc in self.labelled_docs:\n",
    "            words, chunks, sents = defaultdict(set), defaultdict(set), defaultdict(set)            \n",
    "            for review, label in labelled_doc:\n",
    "                for word in review:\n",
    "                    words[tuple([word.text])].update([*label])\n",
    "                    chunks[tuple([w.text for w in word.subtree if w.text != '\\n' and w.text != '\\t'])].update([*label])\n",
    "                sents[tuple([word.text for word in review])].update([*label])\n",
    "            self.words.append(words)\n",
    "            self.chunks.append(chunks)\n",
    "            self.sents.append(sents)\n",
    "            \n",
    "        self.words = [self.__complementDict(defdict) for defdict in self.words]\n",
    "        self.chunks = [self.__complementDict(defdict) for defdict in self.chunks]\n",
    "        self.sents = [self.__complementDict(defdict) for defdict in self.sents]\n",
    "        \n",
    "    def __complementDict(self, def_dict):\n",
    "    \n",
    "            cleanDict, revDict = self.vocab.createDicts(def_dict)\n",
    "            dictcollect = DictCollect(def_dict, clanDict, revDict)\n",
    "            \n",
    "            return dictcollect\n",
    "        \n",
    "    def __curateDoc(self, doc, sens_with_labels):\n",
    "    \n",
    "        labelled_doc = [(sen, set()) for sen in doc.sents]\n",
    "        \n",
    "        for words, label in sens_with_labels:\n",
    "            scores = ([self.__computeScore(sen, words) for sen, _ in labelled_doc])\n",
    "            labelled_doc[scores.index(max(scores))][1].add(label)\n",
    "        \n",
    "        return labelled_doc    \n",
    "\n",
    "    def __computeScore(self, sen, words):\n",
    "        \n",
    "        sen = set([str(token).lower() for token in sen])\n",
    "        n = len(sen) \n",
    "        s = len(sen & words)\n",
    "        score = s / n\n",
    "        return score\n",
    "    \n",
    "    def __gatherLabels(self, review, labels=['0','1','2']):\n",
    "        sens_with_labels = []\n",
    "        all_words = review['x']\n",
    "        for label in labels:\n",
    "            for s, e in review[label]:\n",
    "                sens_with_labels.append((set(all_words[s:e]), label))\n",
    "        return sens_with_labels"
   ]
  },
  {
   "cell_type": "code",
   "execution_count": 27,
   "metadata": {},
   "outputs": [],
   "source": [
    "rat_path = '/Users/Max/data/beer_reviews/annotations.json'\n",
    "evalset = EvalSet(rat_path, vocab)"
   ]
  },
  {
   "cell_type": "code",
   "execution_count": 25,
   "metadata": {
    "collapsed": true
   },
   "outputs": [
    {
     "data": {
      "text/plain": [
       "defaultdict(set,\n",
       "            {('\\t\\t',): {'0', '1', '2'},\n",
       "             (\"'s\",): set(),\n",
       "             (',',): set(),\n",
       "             ('-',): set(),\n",
       "             ('.',): {'0', '1', '2'},\n",
       "             ('Creamy',): {'2'},\n",
       "             ('Has',): set(),\n",
       "             ('I',): set(),\n",
       "             ('If',): set(),\n",
       "             ('It',): set(),\n",
       "             ('Porter',): set(),\n",
       "             ('Pours',): {'0'},\n",
       "             ('Smells',): {'1'},\n",
       "             ('Very',): {'0'},\n",
       "             ('a',): {'0'},\n",
       "             ('an',): set(),\n",
       "             ('and',): {'0', '1', '2'},\n",
       "             ('are',): set(),\n",
       "             ('beer',): {'0'},\n",
       "             ('better',): set(),\n",
       "             ('black',): set(),\n",
       "             ('but',): set(),\n",
       "             ('chocolate',): set(),\n",
       "             ('coffee',): {'1'},\n",
       "             ('creamy',): {'0'},\n",
       "             ('dark',): {'0'},\n",
       "             ('definitely',): {'2'},\n",
       "             ('feel',): set(),\n",
       "             ('finger',): {'0'},\n",
       "             ('foam',): {'0'},\n",
       "             ('gets',): {'2'},\n",
       "             ('half',): {'0'},\n",
       "             ('hints',): set(),\n",
       "             ('it',): {'2'},\n",
       "             ('like',): set(),\n",
       "             ('love',): set(),\n",
       "             ('major',): set(),\n",
       "             ('malt',): {'1'},\n",
       "             ('mouthfeel',): {'2'},\n",
       "             ('much',): set(),\n",
       "             ('nice',): {'0'},\n",
       "             ('of',): {'0', '1'},\n",
       "             ('ok',): set(),\n",
       "             ('on',): {'2'},\n",
       "             ('once',): {'2'},\n",
       "             ('one',): set(),\n",
       "             ('out',): set(),\n",
       "             ('palate',): {'2'},\n",
       "             ('roasted',): {'1'},\n",
       "             ('smooth',): {'2'},\n",
       "             ('smoother',): {'2'},\n",
       "             ('stays',): {'0'},\n",
       "             ('taste',): set(),\n",
       "             ('the',): {'0', '2'},\n",
       "             ('there',): set(),\n",
       "             ('this',): set(),\n",
       "             ('throughout',): {'0'},\n",
       "             ('warms',): {'2'},\n",
       "             ('will',): set(),\n",
       "             ('with',): set(),\n",
       "             ('you',): set()})"
      ]
     },
     "execution_count": 25,
     "metadata": {},
     "output_type": "execute_result"
    }
   ],
   "source": [
    "evalset.words[2].allDict"
   ]
  },
  {
   "cell_type": "code",
   "execution_count": 30,
   "metadata": {},
   "outputs": [],
   "source": [
    "for dictcollect in evalset.words:\n",
    "    allDict, _, _ = dictcollect\n",
    "    clean, rev = evalset.vocab.createDicts(allDict)\n",
    "    break\n",
    "    dictcollect._replace(cleanDict=clean)\n",
    "    dictcollect._replace(revDict=rev)"
   ]
  },
  {
   "cell_type": "code",
   "execution_count": 38,
   "metadata": {},
   "outputs": [
    {
     "data": {
      "text/plain": [
       "DictCollect(allDict=defaultdict(<class 'set'>, {('Clear',): {'0'}, (',',): {'0', '1', '2'}, ('burnished',): {'0'}, ('copper',): {'0'}, ('-',): {'0'}, ('brown',): {'0'}, ('topped',): {'0'}, ('by',): {'0', '1'}, ('a',): {'0'}, ('large',): {'0'}, ('beige',): {'0'}, ('head',): {'0'}, ('that',): {'0'}, ('displays',): {'0'}, ('impressive',): {'0'}, ('persistance',): {'0'}, ('and',): {'0', '1', '2'}, ('leaves',): {'0'}, ('small',): {'0'}, ('to',): {'0'}, ('moderate',): {'0'}, ('amount',): {'0'}, ('of',): {'0'}, ('lace',): {'0'}, ('in',): {'0'}, ('sheets',): {'0'}, ('when',): {'0'}, ('it',): {'0'}, ('eventually',): {'0'}, ('departs',): {'0'}, ('.',): {'0', '1', '2'}, ('\\t\\t',): {'0'}, ('The',): {'1', '2'}, ('nose',): {'1'}, ('is',): {'1', '2'}, ('sweet',): {'1'}, ('spicy',): {'1'}, ('the',): {'1'}, ('flavor',): {'1'}, ('malty',): {'1'}, ('accented',): {'1'}, ('nicely',): {'1'}, ('honey',): {'1'}, ('abundant',): {'1'}, ('caramel',): {'1'}, ('/',): {'1'}, ('toffee',): {'1'}, ('notes',): {'1'}, ('There',): set(), (\"'s\",): set(), ('some',): {'2'}, ('spiciness',): set(), ('(',): set(), ('especially',): set(), ('cinnamon',): set(), (')',): set(), ('but',): set(), ('not',): set(), ('overdone',): set(), ('finish',): set(), ('contains',): set(), ('bitterness',): set(), ('trace',): set(), ('alcohol',): set(), ('mouthfeel',): {'2'}, ('exemplary',): {'2'}, (';',): {'2'}, ('full',): {'2'}, ('rich',): {'2'}, ('very',): {'2'}, ('creamy',): {'2'}, ('Mouthfilling',): {'2'}, ('with',): {'2'}, ('mouthcoating',): {'2'}, ('as',): {'2'}, ('well',): {'2'}, ('Drinkability',): set(), ('high',): set(), ('Great',): set(), ('Lakes',): set(), ('Christmas',): set(), ('Ale',): set(), ('my',): set(), ('first',): set(), ('beer',): set(), ('from',): set(), ('best',): set(), ('brewery',): set(), ('home',): set(), ('state',): set(), ('Ohio',): set(), ('former',): set(), ('residence',): set(), ('3',): set(), ('years',): set(), ('Cleveland',): set(), ('I',): set(), (\"'m\",): set(), ('impressed',): set(), ('expected',): set(), ('good',): set(), ('solid',): set(), ('those',): set(), ('expectations',): set(), ('were',): set(), ('met',): set(), ('exceeded',): set(), ('long',): set(), ('shot',): set(), ('only',): set(), ('got',): set(), ('single',): set(), ('this',): set(), ('year',): set(), ('you',): set(), ('can',): set(), ('bet',): set(), (\"'ll\",): set(), ('be',): set(), ('getting',): set(), ('more',): set(), ('fine',): set(), ('seasonal',): set(), ('during',): set(), ('future',): set(), ('trips',): set(), ('for',): set(), ('holidays',): set(), ('would',): set(), ('have',): set(), ('no',): set(), ('trouble',): set(), ('at',): set(), ('all',): set(), ('drinking',): set(), ('round',): set()}), cleanDict=defaultdict(<class 'set'>, {('burnished',): {'0'}, ('copper',): {'0'}, ('brown',): {'0'}, ('topped',): {'0'}, ('large',): {'0'}, ('beige',): {'0'}, ('head',): {'0'}, ('displays',): {'0'}, ('impressive',): {'0'}, ('persistance',): {'0'}, ('leaves',): {'0'}, ('small',): {'0'}, ('moderate',): {'0'}, ('amount',): {'0'}, ('lace',): {'0'}, ('sheets',): {'0'}, ('eventually',): {'0'}, ('departs',): {'0'}, ('nose',): {'1'}, ('sweet',): {'1'}, ('spicy',): {'1'}, ('flavor',): {'1'}, ('malty',): {'1'}, ('accented',): {'1'}, ('nicely',): {'1'}, ('honey',): {'1'}, ('abundant',): {'1'}, ('caramel',): {'1'}, ('toffee',): {'1'}, ('notes',): {'1'}, (\"'s\",): set(), ('spiciness',): set(), ('especially',): set(), ('cinnamon',): set(), ('not',): set(), ('overdone',): set(), ('finish',): set(), ('contains',): set(), ('bitterness',): set(), ('trace',): set(), ('alcohol',): set(), ('mouthfeel',): {'2'}, ('exemplary',): {'2'}, ('full',): {'2'}, ('rich',): {'2'}, ('creamy',): {'2'}, ('mouthcoating',): {'2'}, ('well',): {'2'}, ('high',): set(), ('first',): set(), ('beer',): set(), ('best',): set(), ('brewery',): set(), ('home',): set(), ('state',): set(), ('former',): set(), ('residence',): set(), ('3',): set(), ('years',): set(), (\"'m\",): set(), ('impressed',): set(), ('expected',): set(), ('good',): set(), ('solid',): set(), ('expectations',): set(), ('met',): set(), ('exceeded',): set(), ('long',): set(), ('shot',): set(), ('got',): set(), ('single',): set(), ('year',): set(), ('bet',): set(), (\"'ll\",): set(), ('getting',): set(), ('fine',): set(), ('seasonal',): set(), ('future',): set(), ('trips',): set(), ('holidays',): set(), ('would',): set(), ('no',): set(), ('trouble',): set(), ('drinking',): set(), ('round',): set()}), revDict=defaultdict(<class 'list'>, {}))"
      ]
     },
     "execution_count": 38,
     "metadata": {},
     "output_type": "execute_result"
    }
   ],
   "source": [
    "dictcollect._replace(cleanDict=clean)"
   ]
  },
  {
   "cell_type": "code",
   "execution_count": 39,
   "metadata": {},
   "outputs": [
    {
     "data": {
      "text/plain": [
       "defaultdict(set, {})"
      ]
     },
     "execution_count": 39,
     "metadata": {},
     "output_type": "execute_result"
    }
   ],
   "source": [
    "dictdictcollect.cleanDict"
   ]
  },
  {
   "cell_type": "code",
   "execution_count": 40,
   "metadata": {},
   "outputs": [
    {
     "data": {
      "text/plain": [
       "defaultdict(set,\n",
       "            {(\"'ll\",): set(),\n",
       "             (\"'m\",): set(),\n",
       "             (\"'s\",): set(),\n",
       "             ('3',): set(),\n",
       "             ('abundant',): {'1'},\n",
       "             ('accented',): {'1'},\n",
       "             ('alcohol',): set(),\n",
       "             ('amount',): {'0'},\n",
       "             ('beer',): set(),\n",
       "             ('beige',): {'0'},\n",
       "             ('best',): set(),\n",
       "             ('bet',): set(),\n",
       "             ('bitterness',): set(),\n",
       "             ('brewery',): set(),\n",
       "             ('brown',): {'0'},\n",
       "             ('burnished',): {'0'},\n",
       "             ('caramel',): {'1'},\n",
       "             ('cinnamon',): set(),\n",
       "             ('contains',): set(),\n",
       "             ('copper',): {'0'},\n",
       "             ('creamy',): {'2'},\n",
       "             ('departs',): {'0'},\n",
       "             ('displays',): {'0'},\n",
       "             ('drinking',): set(),\n",
       "             ('especially',): set(),\n",
       "             ('eventually',): {'0'},\n",
       "             ('exceeded',): set(),\n",
       "             ('exemplary',): {'2'},\n",
       "             ('expectations',): set(),\n",
       "             ('expected',): set(),\n",
       "             ('fine',): set(),\n",
       "             ('finish',): set(),\n",
       "             ('first',): set(),\n",
       "             ('flavor',): {'1'},\n",
       "             ('former',): set(),\n",
       "             ('full',): {'2'},\n",
       "             ('future',): set(),\n",
       "             ('getting',): set(),\n",
       "             ('good',): set(),\n",
       "             ('got',): set(),\n",
       "             ('head',): {'0'},\n",
       "             ('high',): set(),\n",
       "             ('holidays',): set(),\n",
       "             ('home',): set(),\n",
       "             ('honey',): {'1'},\n",
       "             ('impressed',): set(),\n",
       "             ('impressive',): {'0'},\n",
       "             ('lace',): {'0'},\n",
       "             ('large',): {'0'},\n",
       "             ('leaves',): {'0'},\n",
       "             ('long',): set(),\n",
       "             ('malty',): {'1'},\n",
       "             ('met',): set(),\n",
       "             ('moderate',): {'0'},\n",
       "             ('mouthcoating',): {'2'},\n",
       "             ('mouthfeel',): {'2'},\n",
       "             ('nicely',): {'1'},\n",
       "             ('no',): set(),\n",
       "             ('nose',): {'1'},\n",
       "             ('not',): set(),\n",
       "             ('notes',): {'1'},\n",
       "             ('overdone',): set(),\n",
       "             ('persistance',): {'0'},\n",
       "             ('residence',): set(),\n",
       "             ('rich',): {'2'},\n",
       "             ('round',): set(),\n",
       "             ('seasonal',): set(),\n",
       "             ('sheets',): {'0'},\n",
       "             ('shot',): set(),\n",
       "             ('single',): set(),\n",
       "             ('small',): {'0'},\n",
       "             ('solid',): set(),\n",
       "             ('spiciness',): set(),\n",
       "             ('spicy',): {'1'},\n",
       "             ('state',): set(),\n",
       "             ('sweet',): {'1'},\n",
       "             ('toffee',): {'1'},\n",
       "             ('topped',): {'0'},\n",
       "             ('trace',): set(),\n",
       "             ('trips',): set(),\n",
       "             ('trouble',): set(),\n",
       "             ('well',): {'2'},\n",
       "             ('would',): set(),\n",
       "             ('year',): set(),\n",
       "             ('years',): set()})"
      ]
     },
     "execution_count": 40,
     "metadata": {},
     "output_type": "execute_result"
    }
   ],
   "source": [
    "clean"
   ]
  },
  {
   "cell_type": "code",
   "execution_count": null,
   "metadata": {
    "collapsed": true
   },
   "outputs": [],
   "source": []
  }
 ],
 "metadata": {
  "kernelspec": {
   "display_name": "Python 3",
   "language": "python",
   "name": "python3"
  },
  "language_info": {
   "codemirror_mode": {
    "name": "ipython",
    "version": 3
   },
   "file_extension": ".py",
   "mimetype": "text/x-python",
   "name": "python",
   "nbconvert_exporter": "python",
   "pygments_lexer": "ipython3",
   "version": "3.6.2"
  }
 },
 "nbformat": 4,
 "nbformat_minor": 2
}
