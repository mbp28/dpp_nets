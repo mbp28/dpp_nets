{
 "cells": [
  {
   "cell_type": "code",
   "execution_count": 30,
   "metadata": {
    "collapsed": true
   },
   "outputs": [],
   "source": [
    "import torch\n",
    "import torch.nn as nn\n",
    "from torch.autograd import Variable\n",
    "from dpp_nets.layers.layers import KernelVar"
   ]
  },
  {
   "cell_type": "code",
   "execution_count": 23,
   "metadata": {},
   "outputs": [],
   "source": [
    "words = Variable(torch.FloatTensor([[[1,2,3,4],[3,4,5,6],[0,0,0,0]],[[1,2,3,4],[0,0,0,0],[0,0,0,0]]]))"
   ]
  },
  {
   "cell_type": "code",
   "execution_count": 26,
   "metadata": {},
   "outputs": [],
   "source": [
    "batch_size, max_set_size, embd_dim = words.size()\n",
    "\n",
    "# Create context\n",
    "lengths = words.sum(2).abs().sign().sum(1)\n",
    "context = (words.sum(1) / lengths.expand_as(words.sum(1))).expand_as(words)\n",
    "\n",
    "# Filter out zero words \n",
    "mask = words.data.sum(2).abs().sign().expand_as(words).byte()\n",
    "words = words.masked_select(Variable(mask)).view(-1, embd_dim)\n",
    "context = context.masked_select(Variable(mask)).view(-1, embd_dim)\n",
    "\n",
    "# Concatenate and compute kernel\n",
    "batch_x = torch.cat([words, context], dim=1)"
   ]
  },
  {
   "cell_type": "code",
   "execution_count": 35,
   "metadata": {},
   "outputs": [],
   "source": [
    "hidden_dim = 200\n",
    "kernel_dim = 200\n",
    "torch.manual_seed(200)\n",
    "layer1 = nn.Linear(2 * embd_dim, hidden_dim)\n",
    "layer2 = nn.Linear(hidden_dim, hidden_dim)\n",
    "layer3 = nn.Linear(hidden_dim, kernel_dim)\n",
    "\n",
    "net = nn.Sequential(layer1, nn.Tanh(), layer2, nn.Tanh(), layer3)\n",
    "batch_kernel = net(batch_x)"
   ]
  },
  {
   "cell_type": "code",
   "execution_count": 37,
   "metadata": {},
   "outputs": [],
   "source": [
    "\n",
    "# Register indices for individual kernels\n",
    "s_ix = list(lengths.squeeze().cumsum(0).long().data - lengths.squeeze().long().data)\n",
    "e_ix = list(lengths.squeeze().cumsum(0).long().data)"
   ]
  },
  {
   "cell_type": "code",
   "execution_count": 38,
   "metadata": {},
   "outputs": [
    {
     "data": {
      "text/plain": [
       "[0, 2]"
      ]
     },
     "execution_count": 38,
     "metadata": {},
     "output_type": "execute_result"
    }
   ],
   "source": [
    "s_ix"
   ]
  },
  {
   "cell_type": "code",
   "execution_count": 39,
   "metadata": {},
   "outputs": [
    {
     "data": {
      "text/plain": [
       "[2, 3]"
      ]
     },
     "execution_count": 39,
     "metadata": {},
     "output_type": "execute_result"
    }
   ],
   "source": [
    "e_ix"
   ]
  },
  {
   "cell_type": "code",
   "execution_count": null,
   "metadata": {
    "collapsed": true
   },
   "outputs": [],
   "source": []
  }
 ],
 "metadata": {
  "kernelspec": {
   "display_name": "Python 3",
   "language": "python",
   "name": "python3"
  },
  "language_info": {
   "codemirror_mode": {
    "name": "ipython",
    "version": 3
   },
   "file_extension": ".py",
   "mimetype": "text/x-python",
   "name": "python",
   "nbconvert_exporter": "python",
   "pygments_lexer": "ipython3",
   "version": "3.6.1"
  }
 },
 "nbformat": 4,
 "nbformat_minor": 2
}
